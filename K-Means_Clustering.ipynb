{
 "cells": [
  {
   "cell_type": "code",
   "execution_count": 9,
   "id": "78b457d4",
   "metadata": {},
   "outputs": [],
   "source": [
    "import wrangle\n",
    "import pandas as pd\n",
    "import matplotlib.pyplot as plt"
   ]
  },
  {
   "cell_type": "code",
   "execution_count": 5,
   "id": "c5d9ec1f",
   "metadata": {},
   "outputs": [
    {
     "name": "stdout",
     "output_type": "stream",
     "text": [
      "Local file not found\n",
      "Downloading dataset\n"
     ]
    }
   ],
   "source": [
    "# Acquire Data\n",
    "df, train, validate, test = wrangle.wrangle_data()"
   ]
  },
  {
   "cell_type": "code",
   "execution_count": 6,
   "id": "f85bc6be",
   "metadata": {},
   "outputs": [
    {
     "name": "stdout",
     "output_type": "stream",
     "text": [
      "Cluster 1 Mean:\n",
      "customer_age    0.936595\n",
      "sub_category   -1.131016\n",
      "cost           -0.407853\n",
      "dtype: float64\n",
      "\n",
      "Cluster 2 Mean:\n",
      "customer_age   -0.704009\n",
      "sub_category    0.774493\n",
      "cost           -0.277691\n",
      "dtype: float64\n",
      "\n",
      "Cluster 3 Mean:\n",
      "customer_age    0.060119\n",
      "sub_category    0.364323\n",
      "cost            2.202018\n",
      "dtype: float64\n",
      "\n",
      "Cluster 4 Mean:\n",
      "customer_age   -0.708355\n",
      "sub_category   -1.123357\n",
      "cost           -0.413347\n",
      "dtype: float64\n",
      "\n",
      "Cluster 5 Mean:\n",
      "customer_age    1.068369\n",
      "sub_category    0.808987\n",
      "cost           -0.319023\n",
      "dtype: float64\n",
      "\n",
      "Silhouette Score: 0.377\n"
     ]
    }
   ],
   "source": [
    "wrangle.k_means_clustering(df)"
   ]
  },
  {
   "cell_type": "code",
   "execution_count": 1,
   "id": "2f9ea89a",
   "metadata": {},
   "outputs": [],
   "source": [
    "from sklearn.cluster import KMeans\n",
    "from sklearn.preprocessing import StandardScaler\n",
    "from sklearn.metrics import silhouette_score\n",
    "from sklearn.preprocessing import LabelEncoder\n",
    "\n",
    "def k_means_clustering(df):\n",
    "    # Drop date column from dataset\n",
    "    df.drop('date', axis=1, inplace=True)\n",
    "\n",
    "    # Encode categorical columns\n",
    "    le = LabelEncoder()\n",
    "    df['customer_gender'] = le.fit_transform(df['customer_gender'])\n",
    "    df['country'] = le.fit_transform(df['country'])\n",
    "    df['state'] = le.fit_transform(df['state'])\n",
    "    df['product_category'] = le.fit_transform(df['product_category'])\n",
    "    df['sub_category'] = le.fit_transform(df['sub_category'])\n",
    "    df['month'] = le.fit_transform(df['month'])\n",
    "\n",
    "    # Standardizes data\n",
    "    df = (df - df.mean()) / df.std()\n",
    "\n",
    "    # Feature Selection\n",
    "    data = df[['customer_age','sub_category', 'cost']]  # Select relevant columns\n",
    "\n",
    "    # Standardization\n",
    "    scaler = StandardScaler()\n",
    "    X = scaler.fit_transform(data)\n",
    "\n",
    "    # Clustering Algorithm (K-means)\n",
    "    k = 5  # Number of clusters\n",
    "    kmeans = KMeans(n_clusters=k)\n",
    "    labels = kmeans.fit_predict(X)\n",
    "\n",
    "    # Cluster Analysis\n",
    "    # Analyze the resulting clusters by examining their characteristics\n",
    "    cluster_centers = kmeans.cluster_centers_\n",
    "\n",
    "    # Print the mean values of the selected features for each cluster\n",
    "    for cluster in range(k):\n",
    "        cluster_data = data[labels == cluster]\n",
    "        cluster_mean = cluster_data.mean()\n",
    "        print(f\"Cluster {cluster + 1} Mean:\")\n",
    "        print(cluster_mean)\n",
    "        print()\n",
    "    # Print silhouette_score for clusters     \n",
    "    s_score = silhouette_score(X, labels)\n",
    "    print(f\"Silhouette Score: {s_score:.3f}\")\n",
    "# Exsecute with the following statement    \n",
    "# k_means_clustering(df)"
   ]
  },
  {
   "cell_type": "code",
   "execution_count": null,
   "id": "231f8400",
   "metadata": {},
   "outputs": [],
   "source": []
  }
 ],
 "metadata": {
  "kernelspec": {
   "display_name": "Python 3 (ipykernel)",
   "language": "python",
   "name": "python3"
  },
  "language_info": {
   "codemirror_mode": {
    "name": "ipython",
    "version": 3
   },
   "file_extension": ".py",
   "mimetype": "text/x-python",
   "name": "python",
   "nbconvert_exporter": "python",
   "pygments_lexer": "ipython3",
   "version": "3.9.13"
  }
 },
 "nbformat": 4,
 "nbformat_minor": 5
}
