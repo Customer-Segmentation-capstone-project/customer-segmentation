{
 "cells": [
  {
   "cell_type": "code",
   "execution_count": 1,
   "id": "c28a03b8",
   "metadata": {},
   "outputs": [],
   "source": [
    "import numpy as np\n",
    "import pandas as pd\n",
    "import wrangle as w\n",
    "import matplotlib.pyplot as plt\n",
    "import seaborn as sns\n",
    "from scipy import stats"
   ]
  },
  {
   "cell_type": "code",
   "execution_count": 2,
   "id": "c2fde039",
   "metadata": {},
   "outputs": [
    {
     "name": "stdout",
     "output_type": "stream",
     "text": [
      "Opening data from local file.\n"
     ]
    }
   ],
   "source": [
    "df, train, val, test = w.wrangle_data()"
   ]
  },
  {
   "cell_type": "code",
   "execution_count": 3,
   "id": "57bed5bc",
   "metadata": {
    "scrolled": true
   },
   "outputs": [
    {
     "name": "stdout",
     "output_type": "stream",
     "text": [
      "Opening data from local file.\n",
      "Cluster 1 Mean:\n",
      "customer_age                       28.105851\n",
      "sub_category_Bike Stands            0.001808\n",
      "sub_category_Bottles and Cages      0.254438\n",
      "sub_category_Caps                   0.076677\n",
      "sub_category_Cleaners               0.024737\n",
      "sub_category_Fenders                0.019888\n",
      "sub_category_Gloves                 0.012410\n",
      "sub_category_Helmets                0.048159\n",
      "sub_category_Hydration Packs        0.004356\n",
      "sub_category_Jerseys                0.024901\n",
      "sub_category_Mountain Bikes         0.003698\n",
      "sub_category_Road Bikes             0.001890\n",
      "sub_category_Shorts                 0.005999\n",
      "sub_category_Socks                  0.017751\n",
      "sub_category_Tires and Tubes        0.499178\n",
      "sub_category_Touring Bikes          0.000247\n",
      "sub_category_Vests                  0.002794\n",
      "revenue                           179.097304\n",
      "dtype: float64\n",
      "\n",
      "Cluster 2 Mean:\n",
      "customer_age                       48.486637\n",
      "sub_category_Bike Stands            0.003155\n",
      "sub_category_Bottles and Cages      0.204065\n",
      "sub_category_Caps                   0.053916\n",
      "sub_category_Cleaners               0.022643\n",
      "sub_category_Fenders                0.030716\n",
      "sub_category_Gloves                 0.017353\n",
      "sub_category_Helmets                0.114421\n",
      "sub_category_Hydration Packs        0.008816\n",
      "sub_category_Jerseys                0.044822\n",
      "sub_category_Mountain Bikes         0.014291\n",
      "sub_category_Road Bikes             0.032758\n",
      "sub_category_Shorts                 0.010301\n",
      "sub_category_Socks                  0.013734\n",
      "sub_category_Tires and Tubes        0.413883\n",
      "sub_category_Touring Bikes          0.007053\n",
      "sub_category_Vests                  0.005754\n",
      "revenue                           322.258630\n",
      "dtype: float64\n",
      "\n",
      "Cluster 3 Mean:\n",
      "customer_age                       31.578626\n",
      "sub_category_Bike Stands            0.009016\n",
      "sub_category_Bottles and Cages      0.000000\n",
      "sub_category_Caps                   0.000398\n",
      "sub_category_Cleaners               0.000000\n",
      "sub_category_Fenders                0.025060\n",
      "sub_category_Gloves                 0.018828\n",
      "sub_category_Helmets                0.310925\n",
      "sub_category_Hydration Packs        0.022673\n",
      "sub_category_Jerseys                0.129011\n",
      "sub_category_Mountain Bikes         0.071864\n",
      "sub_category_Road Bikes             0.217184\n",
      "sub_category_Shorts                 0.026916\n",
      "sub_category_Socks                  0.000000\n",
      "sub_category_Tires and Tubes        0.076372\n",
      "sub_category_Touring Bikes          0.069875\n",
      "sub_category_Vests                  0.017237\n",
      "revenue                           894.242641\n",
      "dtype: float64\n",
      "\n",
      "Cluster 4 Mean:\n",
      "customer_age                        37.871233\n",
      "sub_category_Bike Stands             0.004795\n",
      "sub_category_Bottles and Cages       0.000000\n",
      "sub_category_Caps                    0.000000\n",
      "sub_category_Cleaners                0.000000\n",
      "sub_category_Fenders                 0.000000\n",
      "sub_category_Gloves                  0.000000\n",
      "sub_category_Helmets                 0.002740\n",
      "sub_category_Hydration Packs         0.017580\n",
      "sub_category_Jerseys                 0.055023\n",
      "sub_category_Mountain Bikes          0.455708\n",
      "sub_category_Road Bikes              0.230137\n",
      "sub_category_Shorts                  0.040868\n",
      "sub_category_Socks                   0.000000\n",
      "sub_category_Tires and Tubes         0.000457\n",
      "sub_category_Touring Bikes           0.166210\n",
      "sub_category_Vests                   0.019635\n",
      "revenue                           2271.297489\n",
      "dtype: float64\n",
      "\n",
      "Silhouette Score: 0.247\n"
     ]
    }
   ],
   "source": [
    "df_clus = w.k_means_clustering(4)"
   ]
  },
  {
   "cell_type": "code",
   "execution_count": 4,
   "id": "7c9b380c",
   "metadata": {},
   "outputs": [
    {
     "data": {
      "text/html": [
       "<div>\n",
       "<style scoped>\n",
       "    .dataframe tbody tr th:only-of-type {\n",
       "        vertical-align: middle;\n",
       "    }\n",
       "\n",
       "    .dataframe tbody tr th {\n",
       "        vertical-align: top;\n",
       "    }\n",
       "\n",
       "    .dataframe thead th {\n",
       "        text-align: right;\n",
       "    }\n",
       "</style>\n",
       "<table border=\"1\" class=\"dataframe\">\n",
       "  <thead>\n",
       "    <tr style=\"text-align: right;\">\n",
       "      <th></th>\n",
       "      <th>0</th>\n",
       "      <th>1</th>\n",
       "    </tr>\n",
       "  </thead>\n",
       "  <tbody>\n",
       "    <tr>\n",
       "      <th>date</th>\n",
       "      <td>2016-02-19 00:00:00</td>\n",
       "      <td>2016-02-20 00:00:00</td>\n",
       "    </tr>\n",
       "    <tr>\n",
       "      <th>year</th>\n",
       "      <td>2016</td>\n",
       "      <td>2016</td>\n",
       "    </tr>\n",
       "    <tr>\n",
       "      <th>month</th>\n",
       "      <td>February</td>\n",
       "      <td>February</td>\n",
       "    </tr>\n",
       "    <tr>\n",
       "      <th>customer_age</th>\n",
       "      <td>29</td>\n",
       "      <td>29</td>\n",
       "    </tr>\n",
       "    <tr>\n",
       "      <th>customer_gender</th>\n",
       "      <td>F</td>\n",
       "      <td>F</td>\n",
       "    </tr>\n",
       "    <tr>\n",
       "      <th>country</th>\n",
       "      <td>United States</td>\n",
       "      <td>United States</td>\n",
       "    </tr>\n",
       "    <tr>\n",
       "      <th>state</th>\n",
       "      <td>Washington</td>\n",
       "      <td>Washington</td>\n",
       "    </tr>\n",
       "    <tr>\n",
       "      <th>product_category</th>\n",
       "      <td>Accessories</td>\n",
       "      <td>Clothing</td>\n",
       "    </tr>\n",
       "    <tr>\n",
       "      <th>sub_category</th>\n",
       "      <td>Tires and Tubes</td>\n",
       "      <td>Gloves</td>\n",
       "    </tr>\n",
       "    <tr>\n",
       "      <th>quantity</th>\n",
       "      <td>1</td>\n",
       "      <td>2</td>\n",
       "    </tr>\n",
       "    <tr>\n",
       "      <th>unit_cost</th>\n",
       "      <td>80.0</td>\n",
       "      <td>24.5</td>\n",
       "    </tr>\n",
       "    <tr>\n",
       "      <th>unit_price</th>\n",
       "      <td>109.0</td>\n",
       "      <td>28.5</td>\n",
       "    </tr>\n",
       "    <tr>\n",
       "      <th>cost</th>\n",
       "      <td>80.0</td>\n",
       "      <td>49.0</td>\n",
       "    </tr>\n",
       "    <tr>\n",
       "      <th>revenue</th>\n",
       "      <td>109.0</td>\n",
       "      <td>57.0</td>\n",
       "    </tr>\n",
       "    <tr>\n",
       "      <th>profit</th>\n",
       "      <td>29.0</td>\n",
       "      <td>8.0</td>\n",
       "    </tr>\n",
       "    <tr>\n",
       "      <th>sub_category_Bike Stands</th>\n",
       "      <td>0</td>\n",
       "      <td>0</td>\n",
       "    </tr>\n",
       "    <tr>\n",
       "      <th>sub_category_Bottles and Cages</th>\n",
       "      <td>0</td>\n",
       "      <td>0</td>\n",
       "    </tr>\n",
       "    <tr>\n",
       "      <th>sub_category_Caps</th>\n",
       "      <td>0</td>\n",
       "      <td>0</td>\n",
       "    </tr>\n",
       "    <tr>\n",
       "      <th>sub_category_Cleaners</th>\n",
       "      <td>0</td>\n",
       "      <td>0</td>\n",
       "    </tr>\n",
       "    <tr>\n",
       "      <th>sub_category_Fenders</th>\n",
       "      <td>0</td>\n",
       "      <td>0</td>\n",
       "    </tr>\n",
       "    <tr>\n",
       "      <th>sub_category_Gloves</th>\n",
       "      <td>0</td>\n",
       "      <td>1</td>\n",
       "    </tr>\n",
       "    <tr>\n",
       "      <th>sub_category_Helmets</th>\n",
       "      <td>0</td>\n",
       "      <td>0</td>\n",
       "    </tr>\n",
       "    <tr>\n",
       "      <th>sub_category_Hydration Packs</th>\n",
       "      <td>0</td>\n",
       "      <td>0</td>\n",
       "    </tr>\n",
       "    <tr>\n",
       "      <th>sub_category_Jerseys</th>\n",
       "      <td>0</td>\n",
       "      <td>0</td>\n",
       "    </tr>\n",
       "    <tr>\n",
       "      <th>sub_category_Mountain Bikes</th>\n",
       "      <td>0</td>\n",
       "      <td>0</td>\n",
       "    </tr>\n",
       "    <tr>\n",
       "      <th>sub_category_Road Bikes</th>\n",
       "      <td>0</td>\n",
       "      <td>0</td>\n",
       "    </tr>\n",
       "    <tr>\n",
       "      <th>sub_category_Shorts</th>\n",
       "      <td>0</td>\n",
       "      <td>0</td>\n",
       "    </tr>\n",
       "    <tr>\n",
       "      <th>sub_category_Socks</th>\n",
       "      <td>0</td>\n",
       "      <td>0</td>\n",
       "    </tr>\n",
       "    <tr>\n",
       "      <th>sub_category_Tires and Tubes</th>\n",
       "      <td>1</td>\n",
       "      <td>0</td>\n",
       "    </tr>\n",
       "    <tr>\n",
       "      <th>sub_category_Touring Bikes</th>\n",
       "      <td>0</td>\n",
       "      <td>0</td>\n",
       "    </tr>\n",
       "    <tr>\n",
       "      <th>sub_category_Vests</th>\n",
       "      <td>0</td>\n",
       "      <td>0</td>\n",
       "    </tr>\n",
       "    <tr>\n",
       "      <th>customer_gender_M</th>\n",
       "      <td>0</td>\n",
       "      <td>0</td>\n",
       "    </tr>\n",
       "    <tr>\n",
       "      <th>country_Germany</th>\n",
       "      <td>0</td>\n",
       "      <td>0</td>\n",
       "    </tr>\n",
       "    <tr>\n",
       "      <th>country_United Kingdom</th>\n",
       "      <td>0</td>\n",
       "      <td>0</td>\n",
       "    </tr>\n",
       "    <tr>\n",
       "      <th>country_United States</th>\n",
       "      <td>1</td>\n",
       "      <td>1</td>\n",
       "    </tr>\n",
       "    <tr>\n",
       "      <th>product_category_encoded</th>\n",
       "      <td>0</td>\n",
       "      <td>2</td>\n",
       "    </tr>\n",
       "    <tr>\n",
       "      <th>clusters</th>\n",
       "      <td>0</td>\n",
       "      <td>0</td>\n",
       "    </tr>\n",
       "  </tbody>\n",
       "</table>\n",
       "</div>"
      ],
      "text/plain": [
       "                                                  0                    1\n",
       "date                            2016-02-19 00:00:00  2016-02-20 00:00:00\n",
       "year                                           2016                 2016\n",
       "month                                      February             February\n",
       "customer_age                                     29                   29\n",
       "customer_gender                                   F                    F\n",
       "country                               United States        United States\n",
       "state                                    Washington           Washington\n",
       "product_category                        Accessories             Clothing\n",
       "sub_category                        Tires and Tubes               Gloves\n",
       "quantity                                          1                    2\n",
       "unit_cost                                      80.0                 24.5\n",
       "unit_price                                    109.0                 28.5\n",
       "cost                                           80.0                 49.0\n",
       "revenue                                       109.0                 57.0\n",
       "profit                                         29.0                  8.0\n",
       "sub_category_Bike Stands                          0                    0\n",
       "sub_category_Bottles and Cages                    0                    0\n",
       "sub_category_Caps                                 0                    0\n",
       "sub_category_Cleaners                             0                    0\n",
       "sub_category_Fenders                              0                    0\n",
       "sub_category_Gloves                               0                    1\n",
       "sub_category_Helmets                              0                    0\n",
       "sub_category_Hydration Packs                      0                    0\n",
       "sub_category_Jerseys                              0                    0\n",
       "sub_category_Mountain Bikes                       0                    0\n",
       "sub_category_Road Bikes                           0                    0\n",
       "sub_category_Shorts                               0                    0\n",
       "sub_category_Socks                                0                    0\n",
       "sub_category_Tires and Tubes                      1                    0\n",
       "sub_category_Touring Bikes                        0                    0\n",
       "sub_category_Vests                                0                    0\n",
       "customer_gender_M                                 0                    0\n",
       "country_Germany                                   0                    0\n",
       "country_United Kingdom                            0                    0\n",
       "country_United States                             1                    1\n",
       "product_category_encoded                          0                    2\n",
       "clusters                                          0                    0"
      ]
     },
     "execution_count": 4,
     "metadata": {},
     "output_type": "execute_result"
    }
   ],
   "source": [
    "df_clus.head(2).T"
   ]
  },
  {
   "cell_type": "code",
   "execution_count": 5,
   "id": "be7f5024",
   "metadata": {},
   "outputs": [],
   "source": [
    "train_clus, val_clus, test_clus = w.split_data(df_clus)"
   ]
  },
  {
   "cell_type": "code",
   "execution_count": null,
   "id": "1bde5943",
   "metadata": {},
   "outputs": [],
   "source": []
  },
  {
   "cell_type": "markdown",
   "id": "6127f621",
   "metadata": {},
   "source": [
    "# Univarite Analysis"
   ]
  },
  {
   "cell_type": "code",
   "execution_count": 6,
   "id": "111d1a8d",
   "metadata": {},
   "outputs": [],
   "source": [
    "explore_cols = [\n",
    "     'date',\n",
    "     'year',\n",
    "     'month',\n",
    "     'customer_gender',\n",
    "     'country',\n",
    "     'state',\n",
    "     'product_category',\n",
    "     'sub_category',\n",
    "     'quantity',\n",
    "     'customer_age', \n",
    "     'unit_cost', \n",
    "     'unit_price', \n",
    "     'cost', \n",
    "     'revenue', \n",
    "     'total_price']"
   ]
  },
  {
   "cell_type": "code",
   "execution_count": null,
   "id": "78953eca",
   "metadata": {},
   "outputs": [],
   "source": []
  },
  {
   "cell_type": "code",
   "execution_count": 7,
   "id": "1898cdcf",
   "metadata": {},
   "outputs": [],
   "source": [
    "cat_cols, num_cols = [], []\n",
    "for col in train.columns:\n",
    "    if train[col].dtype == 'O':\n",
    "        cat_cols.append(col)\n",
    "    elif train[col].dtype == 'datetime64[ns]':\n",
    "        cat_cols.append(col)\n",
    "    else:\n",
    "        if train[col].nunique() < 10:\n",
    "            cat_cols.append(col)\n",
    "        else:\n",
    "            num_cols.append(col)"
   ]
  },
  {
   "cell_type": "code",
   "execution_count": 8,
   "id": "4222ff06",
   "metadata": {},
   "outputs": [
    {
     "data": {
      "text/plain": [
       "['date',\n",
       " 'year',\n",
       " 'month',\n",
       " 'customer_gender',\n",
       " 'country',\n",
       " 'state',\n",
       " 'product_category',\n",
       " 'sub_category',\n",
       " 'quantity',\n",
       " 'sub_category_Bike Stands',\n",
       " 'sub_category_Bottles and Cages',\n",
       " 'sub_category_Caps',\n",
       " 'sub_category_Cleaners',\n",
       " 'sub_category_Fenders',\n",
       " 'sub_category_Gloves',\n",
       " 'sub_category_Helmets',\n",
       " 'sub_category_Hydration Packs',\n",
       " 'sub_category_Jerseys',\n",
       " 'sub_category_Mountain Bikes',\n",
       " 'sub_category_Road Bikes',\n",
       " 'sub_category_Shorts',\n",
       " 'sub_category_Socks',\n",
       " 'sub_category_Tires and Tubes',\n",
       " 'sub_category_Touring Bikes',\n",
       " 'sub_category_Vests',\n",
       " 'customer_gender_M',\n",
       " 'country_Germany',\n",
       " 'country_United Kingdom',\n",
       " 'country_United States',\n",
       " 'product_category_encoded']"
      ]
     },
     "execution_count": 8,
     "metadata": {},
     "output_type": "execute_result"
    }
   ],
   "source": [
    "cat_cols"
   ]
  },
  {
   "cell_type": "code",
   "execution_count": 9,
   "id": "7b72f2d6",
   "metadata": {},
   "outputs": [
    {
     "data": {
      "text/plain": [
       "['customer_age', 'unit_cost', 'unit_price', 'cost', 'revenue', 'profit']"
      ]
     },
     "execution_count": 9,
     "metadata": {},
     "output_type": "execute_result"
    }
   ],
   "source": [
    "num_cols"
   ]
  },
  {
   "cell_type": "code",
   "execution_count": 10,
   "id": "0ee2c4b0",
   "metadata": {},
   "outputs": [],
   "source": [
    "def univariate_analysis(train, explore_cols, cat_cols, num_cols):\n",
    "    for col in explore_cols:\n",
    "        if col in cat_cols:\n",
    "            print(f'Univariate assessment of feature {col}:')\n",
    "            sns.countplot(data=train, x=col)\n",
    "            plt.xticks(rotation=90)\n",
    "            plt.show()\n",
    "            print(\n",
    "                pd.concat([train[col].value_counts(),\n",
    "                train[col].value_counts(normalize=True)],\n",
    "                     axis=1))\n",
    "        else:\n",
    "            print(f'Univariate Feature analysis of feature {col}:')\n",
    "            plt.hist(train[col])\n",
    "            plt.xticks(rotation=90)\n",
    "            plt.show()\n",
    "            sns.boxplot(data=train, x=col)\n",
    "            plt.xticks(rotation=90)\n",
    "            plt.show()\n",
    "            train[col].describe()\n",
    "        print('------------------------------')\n",
    "        print('------------------------------')"
   ]
  },
  {
   "cell_type": "markdown",
   "id": "13aaca80",
   "metadata": {},
   "source": [
    "### Findings: \n",
    "- May and June are the highest selling months, followed by December and April\n",
    "- 50% of our customer are aged 28-44\n",
    "- Gender is about equal among customers\n",
    "- USA has ordered over 2x as many times as the other countries\n",
    "- California, Washington and Oregon have the highest number of sales\n",
    "- Accessories are sold almost 3x as much as other categories\n",
    "- 'Tires and Tubes', 'Bottles and Cages' and Helmets are the highest selling sub categories"
   ]
  },
  {
   "cell_type": "markdown",
   "id": "d70b3d19",
   "metadata": {},
   "source": [
    "## Bivariate"
   ]
  },
  {
   "cell_type": "code",
   "execution_count": 11,
   "id": "d4aef860",
   "metadata": {},
   "outputs": [],
   "source": [
    "def get_corr_heatmap(train, num_cols):\n",
    "    '''\n",
    "    This function will display a heatmap of the potential correlations between variables in \n",
    "    our dataset\n",
    "    '''\n",
    "    # get the correlation values\n",
    "    corr_matrix = train[num_cols].corr()\n",
    "    # create a plot\n",
    "    plt.figure(figsize=(10,10))\n",
    "    # plot a heatmap of the correlations\n",
    "    sns.heatmap(corr_matrix, annot=True, cmap='coolwarm')\n",
    "    # add a title\n",
    "    plt.title('Heat Map of Correlation')\n",
    "    # display the plot\n",
    "    plt.show()"
   ]
  },
  {
   "cell_type": "code",
   "execution_count": 12,
   "id": "0e667a23",
   "metadata": {},
   "outputs": [],
   "source": [
    "def get_pairplot(train, num_cols):\n",
    "    '''\n",
    "    This function will take in a dataFrame, and will display a pairplot of the variable\n",
    "    relationships along with a regression line for each pair\n",
    "    '''\n",
    "    # take a sample of the dataFrame in order to cut down computing time\n",
    "    plt.figure(figsize=(20,20))\n",
    "    if len(df) > 500:\n",
    "        sample = train[num_cols].sample(500)\n",
    "    else:\n",
    "        sample = train[num_cols]\n",
    "    # create a pairplot\n",
    "    sns.pairplot(data=sample, corner=True, kind='reg', plot_kws={'color': 'blue'})\n",
    "    \n",
    "    plt.show()"
   ]
  },
  {
   "cell_type": "code",
   "execution_count": 13,
   "id": "cbccdc82",
   "metadata": {},
   "outputs": [],
   "source": [
    "# get_corr_heatmap(train, num_cols)"
   ]
  },
  {
   "cell_type": "code",
   "execution_count": 14,
   "id": "71de75b5",
   "metadata": {},
   "outputs": [],
   "source": [
    "# get_pairplot(train, num_cols)"
   ]
  },
  {
   "cell_type": "markdown",
   "id": "73cb814c",
   "metadata": {},
   "source": [
    "## Multivariate analysis"
   ]
  },
  {
   "cell_type": "code",
   "execution_count": 15,
   "id": "7b422f5b",
   "metadata": {},
   "outputs": [],
   "source": [
    "def multivariate_plots(train, target, explore_cols):\n",
    "    for x_col in train[explore_cols].drop(columns=target).columns:\n",
    "        for col in train[explore_cols].drop(columns=[target, x_col]).columns:\n",
    "            sns.scatterplot(data=train.sample(500), x=x_col, y=col, \n",
    "                        hue=target, palette='magma')\n",
    "            plt.show()"
   ]
  },
  {
   "cell_type": "code",
   "execution_count": 16,
   "id": "903c6385",
   "metadata": {},
   "outputs": [],
   "source": [
    "# multivariate_plots(train, 'sub_category', explore_cols)"
   ]
  },
  {
   "cell_type": "code",
   "execution_count": null,
   "id": "fd629cdd",
   "metadata": {},
   "outputs": [],
   "source": []
  },
  {
   "cell_type": "markdown",
   "id": "6cd1a504",
   "metadata": {},
   "source": [
    "# Stats testing"
   ]
  },
  {
   "cell_type": "code",
   "execution_count": 17,
   "id": "2b2caa41",
   "metadata": {},
   "outputs": [],
   "source": [
    "def check_hypothesis(p_val, test_stat, α=0.05):\n",
    "    if p_val < α:\n",
    "        print('\\033[32m========== REJECT THE NULL HYPOTHESIS! ==========\\033[0m')\n",
    "        print(f'\\033[35mP-Value:\\033[0m {p_val:.8f}')\n",
    "        print(f'\\033[35mtest stat value:\\033[0m {test_stat:.8f}')\n",
    "    else:\n",
    "        print('\\033[31m========== ACCEPT THE NULL HYPOTHESIS! ==========\\033[0m')\n",
    "        print(f'\\033[35mP-Value:\\033[0m {p_val:.8f}')"
   ]
  },
  {
   "cell_type": "code",
   "execution_count": 18,
   "id": "6925a68c",
   "metadata": {},
   "outputs": [],
   "source": [
    "def check_hypothesis_kruskal(a, b, c, d, e, f, g, h, i, j, k, l,\n",
    "                           m, n, o, p, q, α=0.05):\n",
    "    f, p = stats.kruskal(a, b, c, d, e, f, g, h, i, j, k, l, m, n, o, p, q)\n",
    "    \n",
    "    \n",
    "    if p < α:\n",
    "        print('\\033[32m========== REJECT THE NULL HYPOTHESIS! ==========\\033[0m')\n",
    "        print(f'\\033[35mP-Value:\\033[0m {p:.8f}')\n",
    "        print(f'\\033[35mF-Value:\\033[0m {f:.8f}')\n",
    "    else:\n",
    "        print('\\033[31m========== ACCEPT THE NULL HYPOTHESIS! ==========\\033[0m')\n",
    "        print(f'\\033[35mP-Value:\\033[0m {p:.8f}')"
   ]
  },
  {
   "cell_type": "code",
   "execution_count": 19,
   "id": "0c7a3f1a",
   "metadata": {},
   "outputs": [],
   "source": [
    "def check_hypothesis_correlation(train, x, y, α=0.05, stat_test=stats.pearsonr):\n",
    "    '''\n",
    "    This function will check the provided x and y variables from the \n",
    "    provided dataset (train) for statistical correlation according \n",
    "    to a pearsonsr test (this is changable by entering the desired test as a kwarg)\n",
    "    '''\n",
    "    # run the requested statistical test on variables x and y from train\n",
    "    r, p = stat_test(train[x], train[y])\n",
    "    # if the resulting p-value is less than alpha, then reject the null hypothesis\n",
    "    if p < α:\n",
    "        # print results rejecting null hypothesis\n",
    "        print(f\"Since the p-value is less than {α}, \\n\\\n",
    "we can reject the null hypothesis and conclude that {x} and {y} are correlated.\")\n",
    "        print(f\"The correlation coefficient between \\\n",
    "{x} and {y} is {r:.2f} with a p-value of {p:.4f}\")\n",
    "        print('_______________________________________________________')\n",
    "    # if p-value >= alpha, then we fail to reject the null hypothesis\n",
    "    else:\n",
    "        # print the results failing to reject the null hypothesis\n",
    "        print(f\"Since the p-value is greater than or equal to {α}, \\n\\\n",
    "we fail to reject the null hypothesis and conclude \\n\\\n",
    "that there is insufficient evidence to suggest a correlation between {x} and {y}.\")\n",
    "        print('_______________________________________________________')"
   ]
  },
  {
   "cell_type": "code",
   "execution_count": 20,
   "id": "19ba0481",
   "metadata": {},
   "outputs": [],
   "source": [
    "def check_hypothesis_chi2(train, variable_1, variable_2, α=0.05):\n",
    "    alpha = 0.05\n",
    "    observed = pd.crosstab(train[variable_1],\n",
    "                           train[variable_2])\n",
    "    chi2, p, _, hypothetical = stats.chi2_contingency(observed)\n",
    "\n",
    "    if p < α:\n",
    "        print('\\033[32m========== REJECT THE NULL HYPOTHESIS! ==========\\033[0m')\n",
    "        print(f'\\033[35mP-Value:\\033[0m {p:.8f}')\n",
    "        print(f'\\033[35mChi-Squared-Value:\\033[0m {chi2:.8f}')\n",
    "    else:\n",
    "        print('\\033[31m========== ACCEPT THE NULL HYPOTHESIS! ==========\\033[0m')\n",
    "        print(f'\\033[35mP-Value:\\033[0m {p:.8f}')"
   ]
  },
  {
   "cell_type": "code",
   "execution_count": null,
   "id": "f0c83e0a",
   "metadata": {},
   "outputs": [],
   "source": []
  },
  {
   "cell_type": "markdown",
   "id": "34682a7d",
   "metadata": {},
   "source": [
    "## Question 1- Is the mean revenue value different for each customer cluster?\n",
    "- H$_0$ - There is no difference in mean revenue amongst each customer cluster\n",
    "- H$_a$ - The mean revenue value is different for each customer cluster\n",
    "- α = 0.05\n",
    "\n",
    "Revenue is right-skewed continuous, cluster is categorical\n",
    "- We will be using an ANOVA test to evaluate if the mean revenue value differs among the clusters"
   ]
  },
  {
   "cell_type": "code",
   "execution_count": 21,
   "id": "2629c760",
   "metadata": {},
   "outputs": [
    {
     "data": {
      "text/plain": [
       "0    6829\n",
       "1    6062\n",
       "2    4195\n",
       "3    2438\n",
       "Name: clusters, dtype: int64"
      ]
     },
     "execution_count": 21,
     "metadata": {},
     "output_type": "execute_result"
    }
   ],
   "source": [
    "# lets split our data into separate dfs based on cluster\n",
    "train_clus.clusters.value_counts()"
   ]
  },
  {
   "cell_type": "code",
   "execution_count": 22,
   "id": "7da68a83",
   "metadata": {},
   "outputs": [],
   "source": [
    "clus_0 = train_clus[train_clus.clusters == 0]\n",
    "clus_1 = train_clus[train_clus.clusters == 1]\n",
    "clus_2 = train_clus[train_clus.clusters == 2]\n",
    "clus_3 = train_clus[train_clus.clusters == 3]"
   ]
  },
  {
   "cell_type": "code",
   "execution_count": 23,
   "id": "3582b39c",
   "metadata": {},
   "outputs": [],
   "source": [
    "# clus_3.head(2)"
   ]
  },
  {
   "cell_type": "code",
   "execution_count": 24,
   "id": "de76d494",
   "metadata": {},
   "outputs": [
    {
     "name": "stdout",
     "output_type": "stream",
     "text": [
      "cluster 0 varaince to total :LeveneResult(statistic=2914.1166933635336, pvalue=0.0)\n",
      "cluster 1 varaince to total :LeveneResult(statistic=1204.3581373509319, pvalue=6.5627764365718815e-258)\n",
      "cluster 2 varaince to total :LeveneResult(statistic=696.4754287514924, pvalue=2.6700518544660233e-151)\n",
      "cluster 3 varaince to total :LeveneResult(statistic=256.6611408573279, pvalue=1.940993397453358e-57)\n"
     ]
    }
   ],
   "source": [
    "# check if revenue variances are equal among each cluster\n",
    "# we will be using a levene test to check if variances are equal\n",
    "# p-value < 0.05 indicates equal variaces\n",
    "print(f'cluster 0 varaince to total :{stats.levene(clus_0.revenue, train_clus.revenue)}')\n",
    "print(f'cluster 1 varaince to total :{stats.levene(clus_1.revenue, train_clus.revenue)}')\n",
    "print(f'cluster 2 varaince to total :{stats.levene(clus_2.revenue, train_clus.revenue)}')\n",
    "print(f'cluster 3 varaince to total :{stats.levene(clus_3.revenue, train_clus.revenue)}')"
   ]
  },
  {
   "cell_type": "markdown",
   "id": "742512a8",
   "metadata": {},
   "source": [
    "#### Looks like the revenue variances are equal among the clusters, lets proceed with ANOVA test"
   ]
  },
  {
   "cell_type": "code",
   "execution_count": 25,
   "id": "2a990e77",
   "metadata": {},
   "outputs": [
    {
     "name": "stdout",
     "output_type": "stream",
     "text": [
      "\u001b[32m========== REJECT THE NULL HYPOTHESIS! ==========\u001b[0m\n",
      "\u001b[35mP-Value:\u001b[0m 0.00000000\n",
      "\u001b[35mtest stat value:\u001b[0m 33135.50539703\n"
     ]
    }
   ],
   "source": [
    "# anova test is stats.f_oneway\n",
    "f, p = stats.f_oneway(clus_0.revenue, clus_1.revenue, clus_2.revenue, clus_3.revenue)\n",
    "check_hypothesis(p, f)"
   ]
  },
  {
   "cell_type": "markdown",
   "id": "630efa5b",
   "metadata": {},
   "source": [
    "### The ANOVA test suggests that there is a difference in the mean value of revenue among each cluster."
   ]
  },
  {
   "cell_type": "code",
   "execution_count": null,
   "id": "a9e37df9",
   "metadata": {},
   "outputs": [],
   "source": []
  },
  {
   "cell_type": "markdown",
   "id": "c4fed030",
   "metadata": {},
   "source": [
    "### Finding - What is each segment paying on avg"
   ]
  },
  {
   "cell_type": "code",
   "execution_count": 26,
   "id": "b8f3cc6c",
   "metadata": {},
   "outputs": [
    {
     "name": "stdout",
     "output_type": "stream",
     "text": [
      "cluster 0 average revenue is: 179.51208083174697\n",
      "cluster 1 average revenue is: 321.6032662487628\n",
      "cluster 2 average revenue is: 898.5687723480333\n",
      "cluster 3 average revenue is: 2276.8223954060704\n"
     ]
    }
   ],
   "source": [
    "print(f'cluster 0 average revenue is: {clus_0.revenue.mean()}')\n",
    "print(f'cluster 1 average revenue is: {clus_1.revenue.mean()}')\n",
    "print(f'cluster 2 average revenue is: {clus_2.revenue.mean()}')\n",
    "print(f'cluster 3 average revenue is: {clus_3.revenue.mean()}')"
   ]
  },
  {
   "cell_type": "markdown",
   "id": "48ebdc1d",
   "metadata": {},
   "source": [
    "### Finding - Which segment pays the most / least"
   ]
  },
  {
   "cell_type": "markdown",
   "id": "681be427",
   "metadata": {},
   "source": [
    "#### Cluster 3 pays the most, with an avg revenue of \\$ 2276.82\n",
    "#### Cluster 1 pays the least, with an avg revenue of \\$ 179.51"
   ]
  },
  {
   "cell_type": "code",
   "execution_count": null,
   "id": "ae5ef48e",
   "metadata": {},
   "outputs": [],
   "source": []
  },
  {
   "cell_type": "code",
   "execution_count": null,
   "id": "00a72342",
   "metadata": {},
   "outputs": [],
   "source": []
  },
  {
   "cell_type": "markdown",
   "id": "fee1721d",
   "metadata": {},
   "source": [
    "## Question 2 - Is the mean value of age different amongst each customer cluster?\n",
    "- H$_0$ - The mean value of age is the same amongst each customer cluster\n",
    "- H$_a$ - The mean value of age is different amongst different customer clusters\n",
    "- α = 0.05\n",
    "\n",
    "Age is right-skewed continuous, cluster is categorical\n",
    "- We will be using an ANOVA test to evaluate if the mean age value differs among the clusters"
   ]
  },
  {
   "cell_type": "code",
   "execution_count": 27,
   "id": "b8fff6f3",
   "metadata": {},
   "outputs": [
    {
     "name": "stdout",
     "output_type": "stream",
     "text": [
      "cluster 0 varaince to total :    LeveneResult(statistic=2228.6597333998793, pvalue=0.0)\n",
      "cluster 1 varaince to total :    LeveneResult(statistic=1246.7165896395807, pvalue=1.0774092807984415e-266)\n",
      "cluster 2 varaince to total :    LeveneResult(statistic=1294.1909315174605, pvalue=5.330665194413122e-276)\n",
      "cluster 3 varaince to total :    LeveneResult(statistic=58.72251498794838, pvalue=1.8905815879093133e-14)\n"
     ]
    }
   ],
   "source": [
    "# check if customer_age variances are equal among each cluster\n",
    "# we will be using a levene test to check if variances are equal\n",
    "# p-value < 0.05 indicates equal variaces\n",
    "print(f'cluster 0 varaince to total :\\\n",
    "    {stats.levene(clus_0.customer_age, train_clus.customer_age)}')\n",
    "print(f'cluster 1 varaince to total :\\\n",
    "    {stats.levene(clus_1.customer_age, train_clus.customer_age)}')\n",
    "print(f'cluster 2 varaince to total :\\\n",
    "    {stats.levene(clus_2.customer_age, train_clus.customer_age)}')\n",
    "print(f'cluster 3 varaince to total :\\\n",
    "    {stats.levene(clus_3.customer_age, train_clus.customer_age)}')"
   ]
  },
  {
   "cell_type": "markdown",
   "id": "5e804ef1",
   "metadata": {},
   "source": [
    "#### Looks like the revenue variances are equal among the clusters, lets proceed with ANOVA test"
   ]
  },
  {
   "cell_type": "code",
   "execution_count": 28,
   "id": "89216cf5",
   "metadata": {},
   "outputs": [
    {
     "name": "stdout",
     "output_type": "stream",
     "text": [
      "\u001b[32m========== REJECT THE NULL HYPOTHESIS! ==========\u001b[0m\n",
      "\u001b[35mP-Value:\u001b[0m 0.00000000\n",
      "\u001b[35mtest stat value:\u001b[0m 9860.36249931\n"
     ]
    }
   ],
   "source": [
    "# anova test is stats.f_oneway\n",
    "f, p = stats.f_oneway(clus_0.customer_age, clus_1.customer_age, \n",
    "                      clus_2.customer_age, clus_3.customer_age)\n",
    "check_hypothesis(p, f)"
   ]
  },
  {
   "cell_type": "markdown",
   "id": "18c6b6a0",
   "metadata": {},
   "source": [
    "### The ANOVA test suggests that there is a difference in the mean value of customer_age among the different clusters"
   ]
  },
  {
   "cell_type": "code",
   "execution_count": null,
   "id": "f58bc408",
   "metadata": {},
   "outputs": [],
   "source": []
  },
  {
   "cell_type": "code",
   "execution_count": null,
   "id": "7698772c",
   "metadata": {},
   "outputs": [],
   "source": []
  },
  {
   "cell_type": "markdown",
   "id": "29497af5",
   "metadata": {},
   "source": [
    "### Finding - If there is a difference of mean age, what are the mean age of each cluster?"
   ]
  },
  {
   "cell_type": "code",
   "execution_count": 29,
   "id": "f4197aa1",
   "metadata": {},
   "outputs": [
    {
     "name": "stdout",
     "output_type": "stream",
     "text": [
      "cluster 0 average customer_age is: 28.103236198564943\n",
      "cluster 1 average customer_age is: 48.485648300890794\n",
      "cluster 2 average customer_age is: 31.51632896305125\n",
      "cluster 3 average customer_age is: 37.820344544708774\n"
     ]
    }
   ],
   "source": [
    "print(f'cluster 0 average customer_age is: {clus_0.customer_age.mean()}')\n",
    "print(f'cluster 1 average customer_age is: {clus_1.customer_age.mean()}')\n",
    "print(f'cluster 2 average customer_age is: {clus_2.customer_age.mean()}')\n",
    "print(f'cluster 3 average customer_age is: {clus_3.customer_age.mean()}')"
   ]
  },
  {
   "cell_type": "code",
   "execution_count": null,
   "id": "4239cfc9",
   "metadata": {},
   "outputs": [],
   "source": []
  },
  {
   "cell_type": "markdown",
   "id": "a24f2af4",
   "metadata": {},
   "source": [
    "## Let's check to see if cluster 0 is actually younger than the total average age and if cluster 1 is older than the total avg"
   ]
  },
  {
   "cell_type": "code",
   "execution_count": null,
   "id": "a05fff16",
   "metadata": {},
   "outputs": [],
   "source": []
  },
  {
   "cell_type": "code",
   "execution_count": null,
   "id": "e3d3e03b",
   "metadata": {},
   "outputs": [],
   "source": []
  },
  {
   "cell_type": "markdown",
   "id": "90ac529e",
   "metadata": {},
   "source": [
    "## Question 3 - Is there a relationship between age and sub category purchased?\n",
    "- H$_0$ - There is no relationship between age and the sub catgory of items purchased.\n",
    "- H$_a$ - There is a linear relationship between age and the sub category of items purchased.\n",
    "- α = 0.05\n",
    "\n",
    "Age is right-skewed continuous, and sub_category is categorical\n",
    "- We will be using an ANOVA test"
   ]
  },
  {
   "cell_type": "code",
   "execution_count": 30,
   "id": "452d5bff",
   "metadata": {},
   "outputs": [],
   "source": [
    "# create a list of sub_categories\n",
    "cat_list = train.sub_category.unique()"
   ]
  },
  {
   "cell_type": "code",
   "execution_count": 31,
   "id": "3b102e10",
   "metadata": {},
   "outputs": [
    {
     "data": {
      "text/plain": [
       "array(['Tires and Tubes', 'Helmets', 'Bottles and Cages', 'Vests',\n",
       "       'Road Bikes', 'Jerseys', 'Mountain Bikes', 'Hydration Packs',\n",
       "       'Touring Bikes', 'Caps', 'Shorts', 'Fenders', 'Socks', 'Cleaners',\n",
       "       'Gloves', 'Bike Stands', 'Bike Racks'], dtype=object)"
      ]
     },
     "execution_count": 31,
     "metadata": {},
     "output_type": "execute_result"
    }
   ],
   "source": [
    "cat_list"
   ]
  },
  {
   "cell_type": "code",
   "execution_count": 32,
   "id": "bf6a0d43",
   "metadata": {},
   "outputs": [
    {
     "name": "stdout",
     "output_type": "stream",
     "text": [
      "sub_category Tires and Tubes varaince to total: LeveneResult(statistic=69.31380775971671, pvalue=8.809067982069891e-17)\n",
      "sub_category Helmets varaince to total: LeveneResult(statistic=0.01501214771683831, pvalue=0.9024851099283183)\n",
      "sub_category Bottles and Cages varaince to total: LeveneResult(statistic=1.7609407129179044, pvalue=0.1845206941598826)\n",
      "sub_category Vests varaince to total: LeveneResult(statistic=0.005169849737458204, pvalue=0.9426808930576871)\n",
      "sub_category Road Bikes varaince to total: LeveneResult(statistic=86.71201033308499, pvalue=1.3743136329044086e-20)\n",
      "sub_category Jerseys varaince to total: LeveneResult(statistic=0.016184743275525396, pvalue=0.8987680918570933)\n",
      "sub_category Mountain Bikes varaince to total: LeveneResult(statistic=22.992552355458972, pvalue=1.637415785314455e-06)\n",
      "sub_category Hydration Packs varaince to total: LeveneResult(statistic=0.3656122279650573, pvalue=0.545412692122657)\n",
      "sub_category Touring Bikes varaince to total: LeveneResult(statistic=49.83625737733041, pvalue=1.7253082685838939e-12)\n",
      "sub_category Caps varaince to total: LeveneResult(statistic=2.1511856131071028, pvalue=0.14247529803803746)\n",
      "sub_category Shorts varaince to total: LeveneResult(statistic=3.0634205327749524, pvalue=0.08008840249104823)\n",
      "sub_category Fenders varaince to total: LeveneResult(statistic=0.2055806606481058, pvalue=0.6502584441484348)\n",
      "sub_category Socks varaince to total: LeveneResult(statistic=0.8249005545712024, pvalue=0.3637623422714038)\n",
      "sub_category Cleaners varaince to total: LeveneResult(statistic=0.33343580620644125, pvalue=0.5636494876457122)\n",
      "sub_category Gloves varaince to total: LeveneResult(statistic=2.834843578998052, pvalue=0.09225556022158714)\n",
      "sub_category Bike Stands varaince to total: LeveneResult(statistic=1.606331101922467, pvalue=0.20502335915543593)\n",
      "sub_category Bike Racks varaince to total: LeveneResult(statistic=0.009470384870586398, pvalue=0.9224765233674567)\n"
     ]
    }
   ],
   "source": [
    "# check if customer_age variances are equal among each cluster\n",
    "# we will be using a levene test to check if variances are equal\n",
    "# p-value < 0.05 indicates equal variaces\n",
    "for i in range(len(cat_list)):\n",
    "    print(f'''sub_category {cat_list[i]} varaince to total: {stats.levene(\n",
    "             train_clus[train_clus.sub_category == cat_list[i] ].customer_age,\n",
    "             train_clus.customer_age)}''')"
   ]
  },
  {
   "cell_type": "markdown",
   "id": "302d9847",
   "metadata": {},
   "source": [
    "#### The variances are not equal, therefore we will be using a Kruskall Wallis non-parametric test instead of ANOVA"
   ]
  },
  {
   "cell_type": "code",
   "execution_count": 33,
   "id": "c0b6d30f",
   "metadata": {},
   "outputs": [
    {
     "name": "stdout",
     "output_type": "stream",
     "text": [
      "\u001b[32m========== REJECT THE NULL HYPOTHESIS! ==========\u001b[0m\n",
      "\u001b[35mP-Value:\u001b[0m 0.00004088\n",
      "\u001b[35mtest stat value:\u001b[0m 48.41448045\n"
     ]
    }
   ],
   "source": [
    "f, p = stats.kruskal(train_clus[train_clus.sub_category == cat_list[0] ].customer_age,\n",
    "                     train_clus[train_clus.sub_category == cat_list[1] ].customer_age,\n",
    "                     train_clus[train_clus.sub_category == cat_list[2] ].customer_age,\n",
    "                     train_clus[train_clus.sub_category == cat_list[3] ].customer_age,\n",
    "                     train_clus[train_clus.sub_category == cat_list[4] ].customer_age,\n",
    "                     train_clus[train_clus.sub_category == cat_list[5] ].customer_age,\n",
    "                     train_clus[train_clus.sub_category == cat_list[6] ].customer_age,\n",
    "                     train_clus[train_clus.sub_category == cat_list[7] ].customer_age,\n",
    "                     train_clus[train_clus.sub_category == cat_list[8] ].customer_age,\n",
    "                     train_clus[train_clus.sub_category == cat_list[9] ].customer_age,\n",
    "                     train_clus[train_clus.sub_category == cat_list[10] ].customer_age,\n",
    "                     train_clus[train_clus.sub_category == cat_list[11] ].customer_age,\n",
    "                     train_clus[train_clus.sub_category == cat_list[12] ].customer_age,\n",
    "                     train_clus[train_clus.sub_category == cat_list[13] ].customer_age,\n",
    "                     train_clus[train_clus.sub_category == cat_list[14] ].customer_age,\n",
    "                     train_clus[train_clus.sub_category == cat_list[15] ].customer_age,\n",
    "                     train_clus[train_clus.sub_category == cat_list[16] ].customer_age,\n",
    "                    )\n",
    "check_hypothesis(p, f)"
   ]
  },
  {
   "cell_type": "markdown",
   "id": "2f7c5abb",
   "metadata": {},
   "source": [
    "#### The statistical test suggests that there is a correlation between age and sub_category purchased."
   ]
  },
  {
   "cell_type": "code",
   "execution_count": null,
   "id": "d0775557",
   "metadata": {},
   "outputs": [],
   "source": []
  },
  {
   "cell_type": "code",
   "execution_count": null,
   "id": "c97f8bce",
   "metadata": {},
   "outputs": [],
   "source": []
  },
  {
   "cell_type": "markdown",
   "id": "bf7f873c",
   "metadata": {},
   "source": [
    "## Question 4 - Is there a relationship between gender and sub category purchased?\n",
    "- H$_0$ - The sub_catgory of items purchased is independent of customer gender.\n",
    "- H$_a$ - The sub_catgory of items purchased is dependent on customer gender.\n",
    "- α = 0.05\n",
    "\n",
    "Gender is categorical, and sub_category is categorical\n",
    "- We will be using a chi-squared test"
   ]
  },
  {
   "cell_type": "code",
   "execution_count": 34,
   "id": "5a69bd37",
   "metadata": {},
   "outputs": [],
   "source": [
    "# lets make a df of purchase of each sub_category by gender\n",
    "male=[]\n",
    "female=[]\n",
    "for i in range(len(cat_list)):\n",
    "    male.append(train_clus[(train_clus.customer_gender == 'M') & \n",
    "                           (train_clus.sub_category == cat_list[i])].sub_category.count())\n",
    "    female.append(train_clus[(train_clus.customer_gender == 'F') & \n",
    "                           (train_clus.sub_category == cat_list[i])].sub_category.count())\n",
    "    \n",
    "gender_cat = pd.concat([pd.Series(male), pd.Series(female)], axis=1)"
   ]
  },
  {
   "cell_type": "code",
   "execution_count": 35,
   "id": "44e11c5d",
   "metadata": {},
   "outputs": [],
   "source": [
    "gender_cat = gender_cat.set_index(cat_list).rename(columns={0:'male', 1:'female'})"
   ]
  },
  {
   "cell_type": "code",
   "execution_count": 36,
   "id": "bba15926",
   "metadata": {},
   "outputs": [
    {
     "data": {
      "text/html": [
       "<div>\n",
       "<style scoped>\n",
       "    .dataframe tbody tr th:only-of-type {\n",
       "        vertical-align: middle;\n",
       "    }\n",
       "\n",
       "    .dataframe tbody tr th {\n",
       "        vertical-align: top;\n",
       "    }\n",
       "\n",
       "    .dataframe thead th {\n",
       "        text-align: right;\n",
       "    }\n",
       "</style>\n",
       "<table border=\"1\" class=\"dataframe\">\n",
       "  <thead>\n",
       "    <tr style=\"text-align: right;\">\n",
       "      <th></th>\n",
       "      <th>male</th>\n",
       "      <th>female</th>\n",
       "    </tr>\n",
       "  </thead>\n",
       "  <tbody>\n",
       "    <tr>\n",
       "      <th>Tires and Tubes</th>\n",
       "      <td>3179</td>\n",
       "      <td>3105</td>\n",
       "    </tr>\n",
       "    <tr>\n",
       "      <th>Helmets</th>\n",
       "      <td>1203</td>\n",
       "      <td>1153</td>\n",
       "    </tr>\n",
       "    <tr>\n",
       "      <th>Bottles and Cages</th>\n",
       "      <td>1528</td>\n",
       "      <td>1441</td>\n",
       "    </tr>\n",
       "    <tr>\n",
       "      <th>Vests</th>\n",
       "      <td>85</td>\n",
       "      <td>97</td>\n",
       "    </tr>\n",
       "    <tr>\n",
       "      <th>Road Bikes</th>\n",
       "      <td>848</td>\n",
       "      <td>805</td>\n",
       "    </tr>\n",
       "    <tr>\n",
       "      <th>Jerseys</th>\n",
       "      <td>560</td>\n",
       "      <td>551</td>\n",
       "    </tr>\n",
       "    <tr>\n",
       "      <th>Mountain Bikes</th>\n",
       "      <td>747</td>\n",
       "      <td>783</td>\n",
       "    </tr>\n",
       "    <tr>\n",
       "      <th>Hydration Packs</th>\n",
       "      <td>125</td>\n",
       "      <td>111</td>\n",
       "    </tr>\n",
       "    <tr>\n",
       "      <th>Touring Bikes</th>\n",
       "      <td>364</td>\n",
       "      <td>369</td>\n",
       "    </tr>\n",
       "    <tr>\n",
       "      <th>Caps</th>\n",
       "      <td>411</td>\n",
       "      <td>413</td>\n",
       "    </tr>\n",
       "    <tr>\n",
       "      <th>Shorts</th>\n",
       "      <td>158</td>\n",
       "      <td>158</td>\n",
       "    </tr>\n",
       "    <tr>\n",
       "      <th>Fenders</th>\n",
       "      <td>229</td>\n",
       "      <td>193</td>\n",
       "    </tr>\n",
       "    <tr>\n",
       "      <th>Socks</th>\n",
       "      <td>100</td>\n",
       "      <td>99</td>\n",
       "    </tr>\n",
       "    <tr>\n",
       "      <th>Cleaners</th>\n",
       "      <td>164</td>\n",
       "      <td>140</td>\n",
       "    </tr>\n",
       "    <tr>\n",
       "      <th>Gloves</th>\n",
       "      <td>147</td>\n",
       "      <td>113</td>\n",
       "    </tr>\n",
       "    <tr>\n",
       "      <th>Bike Stands</th>\n",
       "      <td>34</td>\n",
       "      <td>47</td>\n",
       "    </tr>\n",
       "    <tr>\n",
       "      <th>Bike Racks</th>\n",
       "      <td>37</td>\n",
       "      <td>27</td>\n",
       "    </tr>\n",
       "  </tbody>\n",
       "</table>\n",
       "</div>"
      ],
      "text/plain": [
       "                   male  female\n",
       "Tires and Tubes    3179    3105\n",
       "Helmets            1203    1153\n",
       "Bottles and Cages  1528    1441\n",
       "Vests                85      97\n",
       "Road Bikes          848     805\n",
       "Jerseys             560     551\n",
       "Mountain Bikes      747     783\n",
       "Hydration Packs     125     111\n",
       "Touring Bikes       364     369\n",
       "Caps                411     413\n",
       "Shorts              158     158\n",
       "Fenders             229     193\n",
       "Socks               100      99\n",
       "Cleaners            164     140\n",
       "Gloves              147     113\n",
       "Bike Stands          34      47\n",
       "Bike Racks           37      27"
      ]
     },
     "execution_count": 36,
     "metadata": {},
     "output_type": "execute_result"
    }
   ],
   "source": [
    "gender_cat"
   ]
  },
  {
   "cell_type": "code",
   "execution_count": 37,
   "id": "fb144c30",
   "metadata": {},
   "outputs": [
    {
     "name": "stdout",
     "output_type": "stream",
     "text": [
      "\u001b[31m========== ACCEPT THE NULL HYPOTHESIS! ==========\u001b[0m\n",
      "\u001b[35mP-Value:\u001b[0m 0.43900708\n"
     ]
    }
   ],
   "source": [
    "# now we can use the gender_cat df in a chi-squared test\n",
    "chi2, p, dof, hypothetical = stats.chi2_contingency(gender_cat)\n",
    "check_hypothesis(p, chi2)"
   ]
  },
  {
   "cell_type": "markdown",
   "id": "901fdb9c",
   "metadata": {},
   "source": [
    "### Based on our chi-squared statistical test, we are unable to reject our null hypothsis. Therefore we do not have enough evidence to say that the sub_category purchased is dependent upon the customer's gender."
   ]
  },
  {
   "cell_type": "code",
   "execution_count": null,
   "id": "cef3d17f",
   "metadata": {},
   "outputs": [],
   "source": []
  },
  {
   "cell_type": "code",
   "execution_count": null,
   "id": "4ed0631a",
   "metadata": {},
   "outputs": [],
   "source": []
  },
  {
   "cell_type": "markdown",
   "id": "d6acb98d",
   "metadata": {},
   "source": [
    "## Question 5 - Is there a difference between purchases of the 3 types of bikes (mountain, road, touring) by age?\n",
    "- H$_0$ - The type of bike purchased is independent of age\n",
    "- H$_a$ - The type of bike purchased is dependent on age of customer\n",
    "- α = 0.05\n",
    "\n",
    "Age is right-skewed continuous, and type of bike purchased is categorical\n",
    "- We will be using an ANOVA test"
   ]
  },
  {
   "cell_type": "code",
   "execution_count": 38,
   "id": "6988d797",
   "metadata": {},
   "outputs": [
    {
     "name": "stdout",
     "output_type": "stream",
     "text": [
      "sub_category 'Road Bikes' varaince to total: LeveneResult(statistic=86.71201033308499, pvalue=1.3743136329044086e-20)\n",
      "sub_category 'Mountain Bikes' varaince to total: LeveneResult(statistic=22.992552355458972, pvalue=1.637415785314455e-06)\n",
      "sub_category 'Touring Bikes' varaince to total: LeveneResult(statistic=49.83625737733041, pvalue=1.7253082685838939e-12)\n"
     ]
    }
   ],
   "source": [
    "# check if customer_age variances are equal among each cluster\n",
    "# we will be using a levene test to check if variances are equal\n",
    "# p-value < 0.05 indicates equal variaces\n",
    "print(f'''sub_category 'Road Bikes' varaince to total: {stats.levene(\n",
    "     train_clus[train_clus.sub_category == 'Road Bikes'].customer_age,\n",
    "     train_clus.customer_age)}''')\n",
    "print(f'''sub_category 'Mountain Bikes' varaince to total: {stats.levene(\n",
    "     train_clus[train_clus.sub_category == 'Mountain Bikes'].customer_age,\n",
    "     train_clus.customer_age)}''')\n",
    "print(f'''sub_category 'Touring Bikes' varaince to total: {stats.levene(\n",
    "     train_clus[train_clus.sub_category == 'Touring Bikes'].customer_age,\n",
    "     train_clus.customer_age)}''')"
   ]
  },
  {
   "cell_type": "markdown",
   "id": "9fb4e4d3",
   "metadata": {},
   "source": [
    "#### The variances of the three bike categories are equal, so we will proceed with ANOVA test"
   ]
  },
  {
   "cell_type": "code",
   "execution_count": 39,
   "id": "d5d34488",
   "metadata": {},
   "outputs": [
    {
     "name": "stdout",
     "output_type": "stream",
     "text": [
      "\u001b[32m========== REJECT THE NULL HYPOTHESIS! ==========\u001b[0m\n",
      "\u001b[35mP-Value:\u001b[0m 0.00000001\n",
      "\u001b[35mtest stat value:\u001b[0m 18.54733406\n"
     ]
    }
   ],
   "source": [
    "f, p = stats.f_oneway(\n",
    "    train_clus[train_clus.sub_category == 'Road Bikes'].customer_age, \n",
    "    train_clus[train_clus.sub_category == 'Mountain Bikes'].customer_age, \n",
    "    train_clus[train_clus.sub_category == 'Touring Bikes'].customer_age)\n",
    "check_hypothesis(p, f)"
   ]
  },
  {
   "cell_type": "markdown",
   "id": "51ea520f",
   "metadata": {},
   "source": [
    "#### The ANOVA test suggests that the mean age of customers is different for the three different types of bikes."
   ]
  },
  {
   "cell_type": "code",
   "execution_count": 40,
   "id": "b949428d",
   "metadata": {},
   "outputs": [
    {
     "data": {
      "text/plain": [
       "34.806412583182095"
      ]
     },
     "execution_count": 40,
     "metadata": {},
     "output_type": "execute_result"
    }
   ],
   "source": [
    "train_clus[train_clus.sub_category == 'Road Bikes'].customer_age.mean()"
   ]
  },
  {
   "cell_type": "code",
   "execution_count": 41,
   "id": "03acf1ae",
   "metadata": {},
   "outputs": [
    {
     "name": "stdout",
     "output_type": "stream",
     "text": [
      "Avg age of road bike customers: 34.8\n",
      "Avg age of mountain bike customers: 36.8\n",
      "Avg age of touring bike customers: 35.5\n"
     ]
    }
   ],
   "source": [
    "print(f'Avg age of road bike customers: \\\n",
    "{round(train_clus[train_clus.sub_category == \"Road Bikes\"].customer_age.mean(), 1)}'), \n",
    "print(f'Avg age of mountain bike customers: \\\n",
    "{round(train_clus[train_clus.sub_category == \"Mountain Bikes\"].customer_age.mean(), 1)}'), \n",
    "print(f'Avg age of touring bike customers: \\\n",
    "{round(train_clus[train_clus.sub_category == \"Touring Bikes\"].customer_age.mean(), 1)}')"
   ]
  },
  {
   "cell_type": "markdown",
   "id": "5d009b82",
   "metadata": {},
   "source": [
    "#### They are statisticly different, but not a large variance between them"
   ]
  },
  {
   "cell_type": "code",
   "execution_count": null,
   "id": "0a1d944e",
   "metadata": {},
   "outputs": [],
   "source": []
  },
  {
   "cell_type": "code",
   "execution_count": null,
   "id": "43357316",
   "metadata": {},
   "outputs": [],
   "source": []
  },
  {
   "cell_type": "markdown",
   "id": "f997a00a",
   "metadata": {},
   "source": [
    "## Question 6 - Is there a difference between purchases of the 3 types of bikes (mountain, road, touring) by gender?\n",
    "- H$_0$ - The type of bike purchased is independent of gender\n",
    "- H$_a$ - The type of bike purchased is dependent on gender\n",
    "- α = 0.05\n",
    "\n",
    "Gender is categorical, and type of bike purchased is categorical\n",
    "- We will be using a chi-squared test"
   ]
  },
  {
   "cell_type": "code",
   "execution_count": 42,
   "id": "52acbd9c",
   "metadata": {},
   "outputs": [],
   "source": [
    "bike_list = ['Road Bikes', 'Mountain Bikes', 'Touring Bikes']"
   ]
  },
  {
   "cell_type": "code",
   "execution_count": 43,
   "id": "491714ee",
   "metadata": {},
   "outputs": [],
   "source": [
    "# lets make a df of bike type purchase by gender\n",
    "male=[]\n",
    "female=[]\n",
    "for i in range(len(bike_list)):\n",
    "    male.append(train_clus[(train_clus.customer_gender == 'M') & \n",
    "                           (train_clus.sub_category == bike_list[i])].sub_category.count())\n",
    "    female.append(train_clus[(train_clus.customer_gender == 'F') & \n",
    "                           (train_clus.sub_category == bike_list[i])].sub_category.count())\n",
    "    \n",
    "gender_bike = pd.concat([pd.Series(male), pd.Series(female)], axis=1)"
   ]
  },
  {
   "cell_type": "code",
   "execution_count": 44,
   "id": "2d93bea4",
   "metadata": {},
   "outputs": [],
   "source": [
    "gender_bike = gender_bike.rename(columns={0:'male', 1:'female'})\\\n",
    "    .set_index(np.array(bike_list))"
   ]
  },
  {
   "cell_type": "code",
   "execution_count": 45,
   "id": "23cae57b",
   "metadata": {},
   "outputs": [
    {
     "data": {
      "text/html": [
       "<div>\n",
       "<style scoped>\n",
       "    .dataframe tbody tr th:only-of-type {\n",
       "        vertical-align: middle;\n",
       "    }\n",
       "\n",
       "    .dataframe tbody tr th {\n",
       "        vertical-align: top;\n",
       "    }\n",
       "\n",
       "    .dataframe thead th {\n",
       "        text-align: right;\n",
       "    }\n",
       "</style>\n",
       "<table border=\"1\" class=\"dataframe\">\n",
       "  <thead>\n",
       "    <tr style=\"text-align: right;\">\n",
       "      <th></th>\n",
       "      <th>male</th>\n",
       "      <th>female</th>\n",
       "    </tr>\n",
       "  </thead>\n",
       "  <tbody>\n",
       "    <tr>\n",
       "      <th>Road Bikes</th>\n",
       "      <td>848</td>\n",
       "      <td>805</td>\n",
       "    </tr>\n",
       "    <tr>\n",
       "      <th>Mountain Bikes</th>\n",
       "      <td>747</td>\n",
       "      <td>783</td>\n",
       "    </tr>\n",
       "    <tr>\n",
       "      <th>Touring Bikes</th>\n",
       "      <td>364</td>\n",
       "      <td>369</td>\n",
       "    </tr>\n",
       "  </tbody>\n",
       "</table>\n",
       "</div>"
      ],
      "text/plain": [
       "                male  female\n",
       "Road Bikes       848     805\n",
       "Mountain Bikes   747     783\n",
       "Touring Bikes    364     369"
      ]
     },
     "execution_count": 45,
     "metadata": {},
     "output_type": "execute_result"
    }
   ],
   "source": [
    "gender_bike"
   ]
  },
  {
   "cell_type": "code",
   "execution_count": 46,
   "id": "4f4ba8e9",
   "metadata": {},
   "outputs": [
    {
     "name": "stdout",
     "output_type": "stream",
     "text": [
      "\u001b[31m========== ACCEPT THE NULL HYPOTHESIS! ==========\u001b[0m\n",
      "\u001b[35mP-Value:\u001b[0m 0.36811559\n"
     ]
    }
   ],
   "source": [
    "# now we can use the gender_bike df in a chi-squared test\n",
    "chi2, p, dof, hypothetical = stats.chi2_contingency(gender_bike)\n",
    "check_hypothesis(p, chi2)"
   ]
  },
  {
   "cell_type": "markdown",
   "id": "ae43e136",
   "metadata": {},
   "source": [
    "#### The chi-squared test shows we are unable to reject our null hypothesis. Therefore there is not enough evidence to show that the type of bike differs among gender."
   ]
  },
  {
   "cell_type": "code",
   "execution_count": null,
   "id": "3e0a54b6",
   "metadata": {},
   "outputs": [],
   "source": []
  },
  {
   "cell_type": "code",
   "execution_count": null,
   "id": "2bbf8a9e",
   "metadata": {},
   "outputs": [],
   "source": []
  },
  {
   "cell_type": "markdown",
   "id": "cc72a662",
   "metadata": {},
   "source": [
    "## Question 7 - Is there a difference between purchases of the 3 types of bikes (mountain, road, touring) by location?\n",
    "- H$_0$ - The type of bike purchased is independent of location\n",
    "- H$_a$ - The type of bike purchased is dependent on location\n",
    "- α = 0.05\n",
    "\n",
    "Customer location is categorical, and type of bike purchased is categorical\n",
    "- We will be using a chi-squared test"
   ]
  },
  {
   "cell_type": "code",
   "execution_count": 47,
   "id": "8b0e619a",
   "metadata": {},
   "outputs": [],
   "source": [
    "country_list = train_clus.country.unique()"
   ]
  },
  {
   "cell_type": "code",
   "execution_count": 48,
   "id": "44cd080f",
   "metadata": {},
   "outputs": [
    {
     "data": {
      "text/plain": [
       "array(['United Kingdom', 'United States', 'France', 'Germany'],\n",
       "      dtype=object)"
      ]
     },
     "execution_count": 48,
     "metadata": {},
     "output_type": "execute_result"
    }
   ],
   "source": [
    "country_list"
   ]
  },
  {
   "cell_type": "code",
   "execution_count": 49,
   "id": "ab874716",
   "metadata": {},
   "outputs": [],
   "source": [
    "country_a=[]\n",
    "country_b=[]\n",
    "country_c=[]\n",
    "country_d=[]\n",
    "for i in range(len(bike_list)):\n",
    "    country_a.append(train_clus[(train_clus.country == country_list[0]) & \n",
    "                           (train_clus.sub_category == bike_list[i])].sub_category.count())\n",
    "    country_b.append(train_clus[(train_clus.country == country_list[1]) & \n",
    "                           (train_clus.sub_category == bike_list[i])].sub_category.count())\n",
    "    country_c.append(train_clus[(train_clus.country == country_list[2]) & \n",
    "                           (train_clus.sub_category == bike_list[i])].sub_category.count())\n",
    "    country_d.append(train_clus[(train_clus.country == country_list[3]) & \n",
    "                           (train_clus.sub_category == bike_list[i])].sub_category.count())"
   ]
  },
  {
   "cell_type": "code",
   "execution_count": 50,
   "id": "3ae74e59",
   "metadata": {},
   "outputs": [],
   "source": [
    "country_bike = pd.concat([pd.Series(country_a), \n",
    "                          pd.Series(country_b),\n",
    "                          pd.Series(country_c), \n",
    "                          pd.Series(country_d)], axis=1)\n",
    "country_bike = country_bike.rename(columns={0:'United Kingdom', \n",
    "                                            1:'United States',\n",
    "                                            2:'France',\n",
    "                                            3:'Germany'})\\\n",
    "            .set_index(np.array(bike_list))"
   ]
  },
  {
   "cell_type": "code",
   "execution_count": 51,
   "id": "8d7a22ad",
   "metadata": {},
   "outputs": [
    {
     "data": {
      "text/html": [
       "<div>\n",
       "<style scoped>\n",
       "    .dataframe tbody tr th:only-of-type {\n",
       "        vertical-align: middle;\n",
       "    }\n",
       "\n",
       "    .dataframe tbody tr th {\n",
       "        vertical-align: top;\n",
       "    }\n",
       "\n",
       "    .dataframe thead th {\n",
       "        text-align: right;\n",
       "    }\n",
       "</style>\n",
       "<table border=\"1\" class=\"dataframe\">\n",
       "  <thead>\n",
       "    <tr style=\"text-align: right;\">\n",
       "      <th></th>\n",
       "      <th>United Kingdom</th>\n",
       "      <th>United States</th>\n",
       "      <th>France</th>\n",
       "      <th>Germany</th>\n",
       "    </tr>\n",
       "  </thead>\n",
       "  <tbody>\n",
       "    <tr>\n",
       "      <th>Road Bikes</th>\n",
       "      <td>362</td>\n",
       "      <td>696</td>\n",
       "      <td>287</td>\n",
       "      <td>308</td>\n",
       "    </tr>\n",
       "    <tr>\n",
       "      <th>Mountain Bikes</th>\n",
       "      <td>311</td>\n",
       "      <td>747</td>\n",
       "      <td>214</td>\n",
       "      <td>258</td>\n",
       "    </tr>\n",
       "    <tr>\n",
       "      <th>Touring Bikes</th>\n",
       "      <td>167</td>\n",
       "      <td>308</td>\n",
       "      <td>109</td>\n",
       "      <td>149</td>\n",
       "    </tr>\n",
       "  </tbody>\n",
       "</table>\n",
       "</div>"
      ],
      "text/plain": [
       "                United Kingdom  United States  France  Germany\n",
       "Road Bikes                 362            696     287      308\n",
       "Mountain Bikes             311            747     214      258\n",
       "Touring Bikes              167            308     109      149"
      ]
     },
     "execution_count": 51,
     "metadata": {},
     "output_type": "execute_result"
    }
   ],
   "source": [
    "country_bike"
   ]
  },
  {
   "cell_type": "code",
   "execution_count": 52,
   "id": "819b0ff8",
   "metadata": {},
   "outputs": [
    {
     "name": "stdout",
     "output_type": "stream",
     "text": [
      "\u001b[32m========== REJECT THE NULL HYPOTHESIS! ==========\u001b[0m\n",
      "\u001b[35mP-Value:\u001b[0m 0.00205403\n",
      "\u001b[35mtest stat value:\u001b[0m 20.72658695\n"
     ]
    }
   ],
   "source": [
    "# now we can use the gender_bike df in a chi-squared test\n",
    "chi2, p, dof, hypothetical = stats.chi2_contingency(country_bike)\n",
    "check_hypothesis(p, chi2)"
   ]
  },
  {
   "cell_type": "code",
   "execution_count": 53,
   "id": "611da976",
   "metadata": {},
   "outputs": [
    {
     "data": {
      "text/plain": [
       "array([[354.57609806, 739.12231869, 257.4897855 , 301.81179775],\n",
       "       [328.19203269, 684.12410623, 238.3299285 , 279.35393258],\n",
       "       [157.23186925, 327.75357508, 114.18028601, 133.83426966]])"
      ]
     },
     "execution_count": 53,
     "metadata": {},
     "output_type": "execute_result"
    }
   ],
   "source": [
    "hypothetical"
   ]
  },
  {
   "cell_type": "markdown",
   "id": "22395c3f",
   "metadata": {},
   "source": [
    "### We are able to say that there is enough evidence to suggest that the type of bike purchased is dependent upon the country of purchase."
   ]
  },
  {
   "cell_type": "code",
   "execution_count": null,
   "id": "7b8ea93b",
   "metadata": {},
   "outputs": [],
   "source": []
  },
  {
   "cell_type": "code",
   "execution_count": null,
   "id": "0d134dbf",
   "metadata": {},
   "outputs": [],
   "source": []
  },
  {
   "cell_type": "markdown",
   "id": "94fe266a",
   "metadata": {},
   "source": [
    "## Question 8 - Is the proportion of transactions higher in one country relative to national population?\n",
    "- H$_0$ - The proportion of customers to national population is the same among each country\n",
    "- H$_a$ - The proportion of customers to national population differs among each country\n",
    "- α = 0.05\n",
    "\n",
    "Proprotion of customers to population is continuous, and country is categorical\n",
    "- We will be using an ANOVA test"
   ]
  },
  {
   "cell_type": "markdown",
   "id": "42d8f758",
   "metadata": {},
   "source": [
    "#### Country total populations as of 2023 (from Google):\n",
    "- United Kingdom 67.62 million\n",
    "- United States 334.23 million\n",
    "- France 65.69 million\n",
    "- Germany 83.31 million"
   ]
  },
  {
   "cell_type": "code",
   "execution_count": 54,
   "id": "71f7484c",
   "metadata": {},
   "outputs": [],
   "source": [
    "pop_totals = [65_690_000, 83_310_000, 67_620_000, 334_230_000]"
   ]
  },
  {
   "cell_type": "code",
   "execution_count": 55,
   "id": "7a38d1f1",
   "metadata": {},
   "outputs": [],
   "source": [
    "purchase_prop = pd.DataFrame(train_clus.groupby('country').\n",
    "             date.count()).rename(columns={'date':'orders'}).reset_index()"
   ]
  },
  {
   "cell_type": "code",
   "execution_count": 56,
   "id": "43ec1c1f",
   "metadata": {},
   "outputs": [
    {
     "data": {
      "text/html": [
       "<div>\n",
       "<style scoped>\n",
       "    .dataframe tbody tr th:only-of-type {\n",
       "        vertical-align: middle;\n",
       "    }\n",
       "\n",
       "    .dataframe tbody tr th {\n",
       "        vertical-align: top;\n",
       "    }\n",
       "\n",
       "    .dataframe thead th {\n",
       "        text-align: right;\n",
       "    }\n",
       "</style>\n",
       "<table border=\"1\" class=\"dataframe\">\n",
       "  <thead>\n",
       "    <tr style=\"text-align: right;\">\n",
       "      <th></th>\n",
       "      <th>country</th>\n",
       "      <th>orders</th>\n",
       "    </tr>\n",
       "  </thead>\n",
       "  <tbody>\n",
       "    <tr>\n",
       "      <th>0</th>\n",
       "      <td>France</td>\n",
       "      <td>2817</td>\n",
       "    </tr>\n",
       "    <tr>\n",
       "      <th>1</th>\n",
       "      <td>Germany</td>\n",
       "      <td>2959</td>\n",
       "    </tr>\n",
       "    <tr>\n",
       "      <th>2</th>\n",
       "      <td>United Kingdom</td>\n",
       "      <td>3594</td>\n",
       "    </tr>\n",
       "    <tr>\n",
       "      <th>3</th>\n",
       "      <td>United States</td>\n",
       "      <td>10154</td>\n",
       "    </tr>\n",
       "  </tbody>\n",
       "</table>\n",
       "</div>"
      ],
      "text/plain": [
       "          country  orders\n",
       "0          France    2817\n",
       "1         Germany    2959\n",
       "2  United Kingdom    3594\n",
       "3   United States   10154"
      ]
     },
     "execution_count": 56,
     "metadata": {},
     "output_type": "execute_result"
    }
   ],
   "source": [
    "purchase_prop"
   ]
  },
  {
   "cell_type": "code",
   "execution_count": 57,
   "id": "5485d313",
   "metadata": {},
   "outputs": [],
   "source": [
    "purchase_prop = pd.concat([purchase_prop, pd.Series(pop_totals)], axis=1).\\\n",
    "                    rename(columns={0:'population'})"
   ]
  },
  {
   "cell_type": "code",
   "execution_count": 58,
   "id": "71a40519",
   "metadata": {},
   "outputs": [
    {
     "data": {
      "text/html": [
       "<div>\n",
       "<style scoped>\n",
       "    .dataframe tbody tr th:only-of-type {\n",
       "        vertical-align: middle;\n",
       "    }\n",
       "\n",
       "    .dataframe tbody tr th {\n",
       "        vertical-align: top;\n",
       "    }\n",
       "\n",
       "    .dataframe thead th {\n",
       "        text-align: right;\n",
       "    }\n",
       "</style>\n",
       "<table border=\"1\" class=\"dataframe\">\n",
       "  <thead>\n",
       "    <tr style=\"text-align: right;\">\n",
       "      <th></th>\n",
       "      <th>country</th>\n",
       "      <th>orders</th>\n",
       "      <th>population</th>\n",
       "    </tr>\n",
       "  </thead>\n",
       "  <tbody>\n",
       "    <tr>\n",
       "      <th>0</th>\n",
       "      <td>France</td>\n",
       "      <td>2817</td>\n",
       "      <td>65690000</td>\n",
       "    </tr>\n",
       "    <tr>\n",
       "      <th>1</th>\n",
       "      <td>Germany</td>\n",
       "      <td>2959</td>\n",
       "      <td>83310000</td>\n",
       "    </tr>\n",
       "    <tr>\n",
       "      <th>2</th>\n",
       "      <td>United Kingdom</td>\n",
       "      <td>3594</td>\n",
       "      <td>67620000</td>\n",
       "    </tr>\n",
       "    <tr>\n",
       "      <th>3</th>\n",
       "      <td>United States</td>\n",
       "      <td>10154</td>\n",
       "      <td>334230000</td>\n",
       "    </tr>\n",
       "  </tbody>\n",
       "</table>\n",
       "</div>"
      ],
      "text/plain": [
       "          country  orders  population\n",
       "0          France    2817    65690000\n",
       "1         Germany    2959    83310000\n",
       "2  United Kingdom    3594    67620000\n",
       "3   United States   10154   334230000"
      ]
     },
     "execution_count": 58,
     "metadata": {},
     "output_type": "execute_result"
    }
   ],
   "source": [
    "purchase_prop"
   ]
  },
  {
   "cell_type": "code",
   "execution_count": 59,
   "id": "392585d4",
   "metadata": {},
   "outputs": [],
   "source": [
    "purchase_prop['proportion'] = purchase_prop.orders / purchase_prop.population"
   ]
  },
  {
   "cell_type": "code",
   "execution_count": 60,
   "id": "1706d71e",
   "metadata": {},
   "outputs": [
    {
     "data": {
      "text/html": [
       "<div>\n",
       "<style scoped>\n",
       "    .dataframe tbody tr th:only-of-type {\n",
       "        vertical-align: middle;\n",
       "    }\n",
       "\n",
       "    .dataframe tbody tr th {\n",
       "        vertical-align: top;\n",
       "    }\n",
       "\n",
       "    .dataframe thead th {\n",
       "        text-align: right;\n",
       "    }\n",
       "</style>\n",
       "<table border=\"1\" class=\"dataframe\">\n",
       "  <thead>\n",
       "    <tr style=\"text-align: right;\">\n",
       "      <th></th>\n",
       "      <th>country</th>\n",
       "      <th>orders</th>\n",
       "      <th>population</th>\n",
       "      <th>proportion</th>\n",
       "    </tr>\n",
       "  </thead>\n",
       "  <tbody>\n",
       "    <tr>\n",
       "      <th>0</th>\n",
       "      <td>France</td>\n",
       "      <td>2817</td>\n",
       "      <td>65690000</td>\n",
       "      <td>0.000043</td>\n",
       "    </tr>\n",
       "    <tr>\n",
       "      <th>1</th>\n",
       "      <td>Germany</td>\n",
       "      <td>2959</td>\n",
       "      <td>83310000</td>\n",
       "      <td>0.000036</td>\n",
       "    </tr>\n",
       "    <tr>\n",
       "      <th>2</th>\n",
       "      <td>United Kingdom</td>\n",
       "      <td>3594</td>\n",
       "      <td>67620000</td>\n",
       "      <td>0.000053</td>\n",
       "    </tr>\n",
       "    <tr>\n",
       "      <th>3</th>\n",
       "      <td>United States</td>\n",
       "      <td>10154</td>\n",
       "      <td>334230000</td>\n",
       "      <td>0.000030</td>\n",
       "    </tr>\n",
       "  </tbody>\n",
       "</table>\n",
       "</div>"
      ],
      "text/plain": [
       "          country  orders  population  proportion\n",
       "0          France    2817    65690000    0.000043\n",
       "1         Germany    2959    83310000    0.000036\n",
       "2  United Kingdom    3594    67620000    0.000053\n",
       "3   United States   10154   334230000    0.000030"
      ]
     },
     "execution_count": 60,
     "metadata": {},
     "output_type": "execute_result"
    }
   ],
   "source": [
    "purchase_prop"
   ]
  },
  {
   "cell_type": "code",
   "execution_count": 61,
   "id": "a69ba4e5",
   "metadata": {},
   "outputs": [
    {
     "name": "stdout",
     "output_type": "stream",
     "text": [
      "United Kingdom varaince to total: LeveneResult(statistic=1.879449599851366, pvalue=0.2639543883762885)\n",
      "United States varaince to total: LeveneResult(statistic=1.879449599851366, pvalue=0.2639543883762885)\n",
      "France varaince to total: LeveneResult(statistic=1.879449599851366, pvalue=0.2639543883762885)\n",
      "Germany varaince to total: LeveneResult(statistic=1.879449599851366, pvalue=0.2639543883762885)\n"
     ]
    }
   ],
   "source": [
    "# lets check the levene test to see if the variances are equal\n",
    "for i in range(len(country_list)):\n",
    "    print(f'''{country_list[i]} varaince to total: {stats.levene(\n",
    "         purchase_prop[purchase_prop.country == country_list[i]].proportion,\n",
    "         purchase_prop.proportion)}''')"
   ]
  },
  {
   "cell_type": "code",
   "execution_count": 62,
   "id": "94cec0c9",
   "metadata": {},
   "outputs": [
    {
     "data": {
      "text/plain": [
       "{LeveneResult(statistic=1.879449599851366, pvalue=0.2639543883762885)}"
      ]
     },
     "execution_count": 62,
     "metadata": {},
     "output_type": "execute_result"
    }
   ],
   "source": [
    "{stats.levene(\n",
    "         purchase_prop[purchase_prop.country == 'United States'].proportion,\n",
    "         purchase_prop.proportion)}"
   ]
  },
  {
   "cell_type": "code",
   "execution_count": 63,
   "id": "61e87d36",
   "metadata": {},
   "outputs": [
    {
     "data": {
      "text/plain": [
       "0    0.000043\n",
       "Name: proportion, dtype: float64"
      ]
     },
     "execution_count": 63,
     "metadata": {},
     "output_type": "execute_result"
    }
   ],
   "source": [
    "purchase_prop[purchase_prop.country == 'France'].proportion"
   ]
  },
  {
   "cell_type": "code",
   "execution_count": 64,
   "id": "97f051db",
   "metadata": {},
   "outputs": [
    {
     "name": "stdout",
     "output_type": "stream",
     "text": [
      "\u001b[31m========== ACCEPT THE NULL HYPOTHESIS! ==========\u001b[0m\n",
      "\u001b[35mP-Value:\u001b[0m 0.39162518\n"
     ]
    }
   ],
   "source": [
    "f, p = stats.kruskal(purchase_prop[purchase_prop.country == 'United Kingdom'].proportion,\n",
    "                     purchase_prop[purchase_prop.country == 'United States'].proportion,\n",
    "                     purchase_prop[purchase_prop.country == 'France'].proportion,\n",
    "                     purchase_prop[purchase_prop.country == 'Germany'].proportion)\n",
    "check_hypothesis(p, f)"
   ]
  },
  {
   "cell_type": "markdown",
   "id": "12cebce0",
   "metadata": {},
   "source": [
    "### There is not enough evidence to reject the null hypothesis, which suggests that the number of orders proportionate to the total country population does not differ between countries in the dataset."
   ]
  },
  {
   "cell_type": "code",
   "execution_count": null,
   "id": "abdf7135",
   "metadata": {},
   "outputs": [],
   "source": []
  },
  {
   "cell_type": "markdown",
   "id": "db911838",
   "metadata": {},
   "source": [
    "## What are the most frequent sub_categories purchased by each cluster?"
   ]
  },
  {
   "cell_type": "code",
   "execution_count": 65,
   "id": "5248291e",
   "metadata": {},
   "outputs": [
    {
     "data": {
      "text/plain": [
       "sub_category\n",
       "Tires and Tubes      3410\n",
       "Bottles and Cages    1762\n",
       "Caps                  485\n",
       "Helmets               331\n",
       "Cleaners              172\n",
       "Jerseys               170\n",
       "Fenders               138\n",
       "Socks                 114\n",
       "Gloves                 86\n",
       "Shorts                 43\n",
       "Hydration Packs        35\n",
       "Mountain Bikes         23\n",
       "Vests                  22\n",
       "Road Bikes             16\n",
       "Bike Stands            15\n",
       "Bike Racks              5\n",
       "Touring Bikes           2\n",
       "Name: date, dtype: int64"
      ]
     },
     "execution_count": 65,
     "metadata": {},
     "output_type": "execute_result"
    }
   ],
   "source": [
    "clus_0.groupby('sub_category').count().date.sort_values(ascending=False)"
   ]
  },
  {
   "cell_type": "code",
   "execution_count": 66,
   "id": "4864b7fa",
   "metadata": {},
   "outputs": [
    {
     "data": {
      "text/plain": [
       "sub_category\n",
       "Tires and Tubes      2545\n",
       "Bottles and Cages    1207\n",
       "Helmets               706\n",
       "Caps                  337\n",
       "Jerseys               277\n",
       "Road Bikes            194\n",
       "Fenders               171\n",
       "Cleaners              132\n",
       "Gloves                101\n",
       "Socks                  85\n",
       "Mountain Bikes         77\n",
       "Hydration Packs        57\n",
       "Shorts                 56\n",
       "Touring Bikes          48\n",
       "Vests                  33\n",
       "Bike Stands            20\n",
       "Bike Racks             16\n",
       "Name: date, dtype: int64"
      ]
     },
     "execution_count": 66,
     "metadata": {},
     "output_type": "execute_result"
    }
   ],
   "source": [
    "clus_1.groupby('sub_category').count().date.sort_values(ascending=False)"
   ]
  },
  {
   "cell_type": "code",
   "execution_count": 67,
   "id": "d8605952",
   "metadata": {},
   "outputs": [
    {
     "data": {
      "text/plain": [
       "sub_category\n",
       "Helmets            1313\n",
       "Road Bikes          900\n",
       "Jerseys             533\n",
       "Tires and Tubes     328\n",
       "Mountain Bikes      297\n",
       "Touring Bikes       295\n",
       "Fenders             113\n",
       "Shorts              112\n",
       "Hydration Packs      94\n",
       "Vests                76\n",
       "Gloves               73\n",
       "Bike Stands          36\n",
       "Bike Racks           23\n",
       "Caps                  2\n",
       "Name: date, dtype: int64"
      ]
     },
     "execution_count": 67,
     "metadata": {},
     "output_type": "execute_result"
    }
   ],
   "source": [
    "clus_2.groupby('sub_category').count().date.sort_values(ascending=False)"
   ]
  },
  {
   "cell_type": "code",
   "execution_count": 68,
   "id": "67443237",
   "metadata": {},
   "outputs": [
    {
     "data": {
      "text/plain": [
       "sub_category\n",
       "Mountain Bikes     1133\n",
       "Road Bikes          543\n",
       "Touring Bikes       388\n",
       "Jerseys             131\n",
       "Shorts              105\n",
       "Vests                51\n",
       "Hydration Packs      50\n",
       "Bike Racks           20\n",
       "Bike Stands          10\n",
       "Helmets               6\n",
       "Tires and Tubes       1\n",
       "Name: date, dtype: int64"
      ]
     },
     "execution_count": 68,
     "metadata": {},
     "output_type": "execute_result"
    }
   ],
   "source": [
    "clus_3.groupby('sub_category').count().date.sort_values(ascending=False)"
   ]
  },
  {
   "cell_type": "code",
   "execution_count": null,
   "id": "f63fa495",
   "metadata": {},
   "outputs": [],
   "source": []
  },
  {
   "cell_type": "code",
   "execution_count": null,
   "id": "d93a6b11",
   "metadata": {},
   "outputs": [],
   "source": []
  },
  {
   "cell_type": "code",
   "execution_count": null,
   "id": "c6cd0b5d",
   "metadata": {},
   "outputs": [],
   "source": []
  },
  {
   "cell_type": "code",
   "execution_count": 69,
   "id": "8b4ada3b",
   "metadata": {},
   "outputs": [],
   "source": [
    "def get_test_1(train_clus):\n",
    "    '''\n",
    "    This will run an ANOVA test to see if the revenue is the same amongst the different\n",
    "    clusters\n",
    "    '''\n",
    "    # create dfs for each cluster\n",
    "    clus_0 = train_clus[train_clus.clusters == 0]\n",
    "    clus_1 = train_clus[train_clus.clusters == 1]\n",
    "    clus_2 = train_clus[train_clus.clusters == 2]\n",
    "    clus_3 = train_clus[train_clus.clusters == 3]\n",
    "    # run an ANOVA test on revenue for each cluster\n",
    "    f, p = stats.f_oneway(clus_0.revenue, clus_1.revenue, clus_2.revenue, clus_3.revenue)\n",
    "    # display the hypothesis stats\n",
    "    check_hypothesis(p, f)"
   ]
  },
  {
   "cell_type": "code",
   "execution_count": 70,
   "id": "5c3de710",
   "metadata": {},
   "outputs": [
    {
     "name": "stdout",
     "output_type": "stream",
     "text": [
      "\u001b[32m========== REJECT THE NULL HYPOTHESIS! ==========\u001b[0m\n",
      "\u001b[35mP-Value:\u001b[0m 0.00000000\n",
      "\u001b[35mtest stat value:\u001b[0m 33135.50539703\n"
     ]
    }
   ],
   "source": [
    "get_test_1(train_clus)"
   ]
  },
  {
   "cell_type": "code",
   "execution_count": 71,
   "id": "0d7d9a7c",
   "metadata": {},
   "outputs": [],
   "source": [
    "def get_test_2(train_clus):\n",
    "    '''\n",
    "    This will run an ANOVA test to see if the mean of customer_age is different\n",
    "    amongst each cluster\n",
    "    '''\n",
    "    # create dfs for each cluster\n",
    "    clus_0 = train_clus[train_clus.clusters == 0]\n",
    "    clus_1 = train_clus[train_clus.clusters == 1]\n",
    "    clus_2 = train_clus[train_clus.clusters == 2]\n",
    "    clus_3 = train_clus[train_clus.clusters == 3]\n",
    "    # anova test is stats.f_oneway\n",
    "    f, p = stats.f_oneway(clus_0.customer_age, clus_1.customer_age, \n",
    "                          clus_2.customer_age, clus_3.customer_age)\n",
    "    # display the results of the hypothesis test\n",
    "    check_hypothesis(p, f)"
   ]
  },
  {
   "cell_type": "code",
   "execution_count": 72,
   "id": "7ccf0a80",
   "metadata": {},
   "outputs": [
    {
     "name": "stdout",
     "output_type": "stream",
     "text": [
      "\u001b[32m========== REJECT THE NULL HYPOTHESIS! ==========\u001b[0m\n",
      "\u001b[35mP-Value:\u001b[0m 0.00000000\n",
      "\u001b[35mtest stat value:\u001b[0m 9860.36249931\n"
     ]
    }
   ],
   "source": [
    "get_test_2(train_clus)"
   ]
  },
  {
   "cell_type": "code",
   "execution_count": 73,
   "id": "49a6c9bb",
   "metadata": {},
   "outputs": [],
   "source": [
    "def get_test_3(train_clus):\n",
    "    '''\n",
    "    This will run a Kruskall Wallis test to see if there is a correlation\n",
    "    between age and sub_category of item purchased\n",
    "    '''\n",
    "    # create a list of sub_categories\n",
    "    cat_list = train.sub_category.unique()\n",
    "    # run the kruskal wallis test\n",
    "    f, p = stats.kruskal(train_clus[train_clus.sub_category == cat_list[0] ].customer_age,\n",
    "                     train_clus[train_clus.sub_category == cat_list[1] ].customer_age,\n",
    "                     train_clus[train_clus.sub_category == cat_list[2] ].customer_age,\n",
    "                     train_clus[train_clus.sub_category == cat_list[3] ].customer_age,\n",
    "                     train_clus[train_clus.sub_category == cat_list[4] ].customer_age,\n",
    "                     train_clus[train_clus.sub_category == cat_list[5] ].customer_age,\n",
    "                     train_clus[train_clus.sub_category == cat_list[6] ].customer_age,\n",
    "                     train_clus[train_clus.sub_category == cat_list[7] ].customer_age,\n",
    "                     train_clus[train_clus.sub_category == cat_list[8] ].customer_age,\n",
    "                     train_clus[train_clus.sub_category == cat_list[9] ].customer_age,\n",
    "                     train_clus[train_clus.sub_category == cat_list[10] ].customer_age,\n",
    "                     train_clus[train_clus.sub_category == cat_list[11] ].customer_age,\n",
    "                     train_clus[train_clus.sub_category == cat_list[12] ].customer_age,\n",
    "                     train_clus[train_clus.sub_category == cat_list[13] ].customer_age,\n",
    "                     train_clus[train_clus.sub_category == cat_list[14] ].customer_age,\n",
    "                     train_clus[train_clus.sub_category == cat_list[15] ].customer_age,\n",
    "                     train_clus[train_clus.sub_category == cat_list[16] ].customer_age,\n",
    "                    )\n",
    "    # display results of the hypothesis test\n",
    "    check_hypothesis(p, f)"
   ]
  },
  {
   "cell_type": "code",
   "execution_count": 74,
   "id": "bcd0c83a",
   "metadata": {},
   "outputs": [
    {
     "name": "stdout",
     "output_type": "stream",
     "text": [
      "\u001b[32m========== REJECT THE NULL HYPOTHESIS! ==========\u001b[0m\n",
      "\u001b[35mP-Value:\u001b[0m 0.00004088\n",
      "\u001b[35mtest stat value:\u001b[0m 48.41448045\n"
     ]
    }
   ],
   "source": [
    "get_test_3(train_clus)"
   ]
  },
  {
   "cell_type": "code",
   "execution_count": 75,
   "id": "3ab5faf3",
   "metadata": {},
   "outputs": [],
   "source": [
    "def get_test_4(train_clus):\n",
    "    '''\n",
    "    This will run a chi-squared test to see if the sub_category of item purchased\n",
    "    is dependent on the customer_gender\n",
    "    '''\n",
    "    # create a list of sub_categories\n",
    "    cat_list = train_clus.sub_category.unique()\n",
    "    # lets make a df of purchase of each sub_category by gender\n",
    "    # create empty lists for the results\n",
    "    male=[]\n",
    "    female=[]\n",
    "    # cycle through the categories to get a count of items purchased by category\n",
    "    for i in range(len(cat_list)):\n",
    "        male.append(train_clus[(train_clus.customer_gender == 'M') & \n",
    "                               (train_clus.sub_category == cat_list[i])].\\\n",
    "                                sub_category.count())\n",
    "        female.append(train_clus[(train_clus.customer_gender == 'F') & \n",
    "                               (train_clus.sub_category == cat_list[i])].\\\n",
    "                                sub_category.count())\n",
    "    # combine the male and female info into one df\n",
    "    gender_cat = pd.concat([pd.Series(male), pd.Series(female)], axis=1)\n",
    "    gender_cat = gender_cat.set_index(cat_list).rename(columns={0:'male', 1:'female'})\n",
    "    # now we can use the gender_cat df in a chi-squared test\n",
    "    chi2, p, dof, hypothetical = stats.chi2_contingency(gender_cat)\n",
    "    # display the results of the stats test\n",
    "    check_hypothesis(p, chi2)"
   ]
  },
  {
   "cell_type": "code",
   "execution_count": 76,
   "id": "e29aec3e",
   "metadata": {},
   "outputs": [
    {
     "name": "stdout",
     "output_type": "stream",
     "text": [
      "\u001b[31m========== ACCEPT THE NULL HYPOTHESIS! ==========\u001b[0m\n",
      "\u001b[35mP-Value:\u001b[0m 0.43900708\n"
     ]
    }
   ],
   "source": [
    "get_test_4(train_clus)"
   ]
  },
  {
   "cell_type": "code",
   "execution_count": 77,
   "id": "c2e85264",
   "metadata": {},
   "outputs": [],
   "source": [
    "def get_test_5(train_clus):\n",
    "    '''\n",
    "    This will run an ANOVA test to see if customer_age is different amongst customers\n",
    "    who purchased the different types of bike\n",
    "    '''\n",
    "    # run the ANOVA test on bike type and customer age\n",
    "    f, p = stats.f_oneway(\n",
    "        train_clus[train_clus.sub_category == 'Road Bikes'].customer_age, \n",
    "        train_clus[train_clus.sub_category == 'Mountain Bikes'].customer_age, \n",
    "        train_clus[train_clus.sub_category == 'Touring Bikes'].customer_age)\n",
    "    # display the results of the hypothesis test\n",
    "    check_hypothesis(p, f)"
   ]
  },
  {
   "cell_type": "code",
   "execution_count": 78,
   "id": "df8e7dae",
   "metadata": {},
   "outputs": [
    {
     "name": "stdout",
     "output_type": "stream",
     "text": [
      "\u001b[32m========== REJECT THE NULL HYPOTHESIS! ==========\u001b[0m\n",
      "\u001b[35mP-Value:\u001b[0m 0.00000001\n",
      "\u001b[35mtest stat value:\u001b[0m 18.54733406\n"
     ]
    }
   ],
   "source": [
    "get_test_5(train_clus)"
   ]
  },
  {
   "cell_type": "code",
   "execution_count": 79,
   "id": "22453aa5",
   "metadata": {},
   "outputs": [],
   "source": [
    "def get_test_6(train_clus):\n",
    "    '''\n",
    "    This will run a chi-squared test to see if the type of bike purchased is dependent\n",
    "    upon customer_gender\n",
    "    '''\n",
    "    # create a list of the bike types\n",
    "    bike_list = ['Road Bikes', 'Mountain Bikes', 'Touring Bikes']\n",
    "    # lets make a df of bike type purchase by gender\n",
    "    # create empty lists to store the results\n",
    "    male=[]\n",
    "    female=[]\n",
    "    # cycle through the list of bike types to get a count of purchases by gender\n",
    "    for i in range(len(bike_list)):\n",
    "        male.append(train_clus[(train_clus.customer_gender == 'M') & \n",
    "                               (train_clus.sub_category == bike_list[i])].\\\n",
    "                                sub_category.count())\n",
    "        female.append(train_clus[(train_clus.customer_gender == 'F') & \n",
    "                               (train_clus.sub_category == bike_list[i])].\\\n",
    "                                sub_category.count())\n",
    "    # combine male and female results into one df\n",
    "    gender_bike = pd.concat([pd.Series(male), pd.Series(female)], axis=1)\n",
    "    gender_bike = gender_bike.rename(columns={0:'male', 1:'female'})\\\n",
    "        .set_index(np.array(bike_list))\n",
    "    # now we can use the gender_bike df in a chi-squared test\n",
    "    chi2, p, dof, hypothetical = stats.chi2_contingency(gender_bike)\n",
    "    # display the results of the hypothesis test\n",
    "    check_hypothesis(p, chi2)"
   ]
  },
  {
   "cell_type": "code",
   "execution_count": 80,
   "id": "343180bd",
   "metadata": {},
   "outputs": [
    {
     "name": "stdout",
     "output_type": "stream",
     "text": [
      "\u001b[31m========== ACCEPT THE NULL HYPOTHESIS! ==========\u001b[0m\n",
      "\u001b[35mP-Value:\u001b[0m 0.36811559\n"
     ]
    }
   ],
   "source": [
    "get_test_6(train_clus)"
   ]
  },
  {
   "cell_type": "code",
   "execution_count": 81,
   "id": "2b413e0e",
   "metadata": {},
   "outputs": [],
   "source": [
    "def get_test_7(train_clus):\n",
    "    '''\n",
    "    This will run a chi-square test to see if the type of bike purchased is dependent\n",
    "    upon the country of purchase\n",
    "    '''\n",
    "    # get a list of countryies in the dataset\n",
    "    country_list = train_clus.country.unique()\n",
    "    # create empty lists to store results\n",
    "    country_a=[]\n",
    "    country_b=[]\n",
    "    country_c=[]\n",
    "    country_d=[]\n",
    "    # cycle through countries and bike types to get order counts\n",
    "    for i in range(len(bike_list)):\n",
    "        country_a.append(train_clus[(train_clus.country == country_list[0]) & \n",
    "                               (train_clus.sub_category == bike_list[i])].\\\n",
    "                                sub_category.count())\n",
    "        country_b.append(train_clus[(train_clus.country == country_list[1]) & \n",
    "                               (train_clus.sub_category == bike_list[i])].\\\n",
    "                                sub_category.count())\n",
    "        country_c.append(train_clus[(train_clus.country == country_list[2]) & \n",
    "                               (train_clus.sub_category == bike_list[i])].\\\n",
    "                                sub_category.count())\n",
    "        country_d.append(train_clus[(train_clus.country == country_list[3]) & \n",
    "                               (train_clus.sub_category == bike_list[i])].\\\n",
    "                                sub_category.count())\n",
    "    # combine results into one df\n",
    "    country_bike = pd.concat([pd.Series(country_a), \n",
    "                              pd.Series(country_b),\n",
    "                              pd.Series(country_c), \n",
    "                              pd.Series(country_d)], axis=1)\n",
    "    country_bike = country_bike.rename(columns={0:'United Kingdom', \n",
    "                                                1:'United States',\n",
    "                                                2:'France',\n",
    "                                                3:'Germany'})\\\n",
    "                            .set_index(np.array(bike_list))\n",
    "    \n",
    "    # now we can use the gender_bike df in a chi-squared test\n",
    "    chi2, p, dof, hypothetical = stats.chi2_contingency(country_bike)\n",
    "    # display hypothesis test results\n",
    "    check_hypothesis(p, chi2)"
   ]
  },
  {
   "cell_type": "code",
   "execution_count": 82,
   "id": "5dba18d5",
   "metadata": {},
   "outputs": [
    {
     "name": "stdout",
     "output_type": "stream",
     "text": [
      "\u001b[32m========== REJECT THE NULL HYPOTHESIS! ==========\u001b[0m\n",
      "\u001b[35mP-Value:\u001b[0m 0.00205403\n",
      "\u001b[35mtest stat value:\u001b[0m 20.72658695\n"
     ]
    }
   ],
   "source": [
    "get_test_7(train_clus)"
   ]
  },
  {
   "cell_type": "code",
   "execution_count": 83,
   "id": "eea34aee",
   "metadata": {},
   "outputs": [],
   "source": [
    "def get_test_8(train_clus):\n",
    "    '''\n",
    "    This will run a kruskal wallis test to see if the proportion of orders to \n",
    "    total population differs amongst countries in the dataset.\n",
    "    '''\n",
    "    # create a list of the bike types\n",
    "    bike_list = ['Road Bikes', 'Mountain Bikes', 'Touring Bikes']\n",
    "    # create a list of the country total populations as of 2023\n",
    "    pop_totals = [65_690_000, 83_310_000, 67_620_000, 334_230_000]\n",
    "    # create a dataframe of orders by country\n",
    "    purchase_prop = pd.DataFrame(train_clus.groupby('country').\n",
    "             date.count()).rename(columns={'date':'orders'}).reset_index()\n",
    "    # create a column with the total populations\n",
    "    purchase_prop = pd.concat([purchase_prop, pd.Series(pop_totals)], axis=1).\\\n",
    "                    rename(columns={0:'population'})\n",
    "    # create a column with the proportion of orders to population\n",
    "    purchase_prop['proportion'] = purchase_prop.orders / purchase_prop.population\n",
    "    # run a kruskal wallis test\n",
    "    f, p = stats.kruskal(\n",
    "                     purchase_prop[purchase_prop.country == 'United Kingdom'].proportion,\n",
    "                     purchase_prop[purchase_prop.country == 'United States'].proportion,\n",
    "                     purchase_prop[purchase_prop.country == 'France'].proportion,\n",
    "                     purchase_prop[purchase_prop.country == 'Germany'].proportion)\n",
    "    # display the results of the test\n",
    "    check_hypothesis(p, f)"
   ]
  },
  {
   "cell_type": "code",
   "execution_count": 84,
   "id": "444cb3a4",
   "metadata": {},
   "outputs": [
    {
     "name": "stdout",
     "output_type": "stream",
     "text": [
      "\u001b[31m========== ACCEPT THE NULL HYPOTHESIS! ==========\u001b[0m\n",
      "\u001b[35mP-Value:\u001b[0m 0.39162518\n"
     ]
    }
   ],
   "source": [
    "get_test_8(train_clus)"
   ]
  },
  {
   "cell_type": "code",
   "execution_count": null,
   "id": "49339146",
   "metadata": {},
   "outputs": [],
   "source": []
  },
  {
   "cell_type": "markdown",
   "id": "c23e43cd",
   "metadata": {},
   "source": [
    "### Lets test the stats_test.py module"
   ]
  },
  {
   "cell_type": "code",
   "execution_count": 85,
   "id": "159e35be",
   "metadata": {},
   "outputs": [],
   "source": [
    "import explore as s"
   ]
  },
  {
   "cell_type": "code",
   "execution_count": 86,
   "id": "3b494a93",
   "metadata": {},
   "outputs": [
    {
     "name": "stdout",
     "output_type": "stream",
     "text": [
      "\u001b[32m========== REJECT THE NULL HYPOTHESIS! ==========\u001b[0m\n",
      "\u001b[35mP-Value:\u001b[0m 0.00000000\n",
      "\u001b[35mtest stat value:\u001b[0m 33135.50539703\n"
     ]
    }
   ],
   "source": [
    "s.get_test_1(train_clus)"
   ]
  },
  {
   "cell_type": "code",
   "execution_count": 87,
   "id": "ffac99a2",
   "metadata": {},
   "outputs": [
    {
     "name": "stdout",
     "output_type": "stream",
     "text": [
      "\u001b[32m========== REJECT THE NULL HYPOTHESIS! ==========\u001b[0m\n",
      "\u001b[35mP-Value:\u001b[0m 0.00000000\n",
      "\u001b[35mtest stat value:\u001b[0m 9860.36249931\n"
     ]
    }
   ],
   "source": [
    "s.get_test_2(train_clus)"
   ]
  },
  {
   "cell_type": "code",
   "execution_count": 88,
   "id": "20b491e5",
   "metadata": {},
   "outputs": [
    {
     "name": "stdout",
     "output_type": "stream",
     "text": [
      "\u001b[32m========== REJECT THE NULL HYPOTHESIS! ==========\u001b[0m\n",
      "\u001b[35mP-Value:\u001b[0m 0.00004088\n",
      "\u001b[35mtest stat value:\u001b[0m 48.41448045\n"
     ]
    }
   ],
   "source": [
    "s.get_test_3(train_clus)"
   ]
  },
  {
   "cell_type": "code",
   "execution_count": 89,
   "id": "f1870a42",
   "metadata": {},
   "outputs": [
    {
     "name": "stdout",
     "output_type": "stream",
     "text": [
      "\u001b[31m========== ACCEPT THE NULL HYPOTHESIS! ==========\u001b[0m\n",
      "\u001b[35mP-Value:\u001b[0m 0.43900708\n"
     ]
    }
   ],
   "source": [
    "s.get_test_4(train_clus)"
   ]
  },
  {
   "cell_type": "code",
   "execution_count": 90,
   "id": "8afe585d",
   "metadata": {},
   "outputs": [
    {
     "name": "stdout",
     "output_type": "stream",
     "text": [
      "\u001b[32m========== REJECT THE NULL HYPOTHESIS! ==========\u001b[0m\n",
      "\u001b[35mP-Value:\u001b[0m 0.00000001\n",
      "\u001b[35mtest stat value:\u001b[0m 18.54733406\n"
     ]
    }
   ],
   "source": [
    "s.get_test_5(train_clus)"
   ]
  },
  {
   "cell_type": "code",
   "execution_count": 91,
   "id": "a100c424",
   "metadata": {},
   "outputs": [
    {
     "name": "stdout",
     "output_type": "stream",
     "text": [
      "\u001b[31m========== ACCEPT THE NULL HYPOTHESIS! ==========\u001b[0m\n",
      "\u001b[35mP-Value:\u001b[0m 0.36811559\n"
     ]
    }
   ],
   "source": [
    "s.get_test_6(train_clus)"
   ]
  },
  {
   "cell_type": "code",
   "execution_count": 92,
   "id": "61041907",
   "metadata": {},
   "outputs": [
    {
     "name": "stdout",
     "output_type": "stream",
     "text": [
      "\u001b[32m========== REJECT THE NULL HYPOTHESIS! ==========\u001b[0m\n",
      "\u001b[35mP-Value:\u001b[0m 0.00205403\n",
      "\u001b[35mtest stat value:\u001b[0m 20.72658695\n"
     ]
    }
   ],
   "source": [
    "s.get_test_7(train_clus)"
   ]
  },
  {
   "cell_type": "code",
   "execution_count": 93,
   "id": "4c8d8e34",
   "metadata": {},
   "outputs": [
    {
     "name": "stdout",
     "output_type": "stream",
     "text": [
      "\u001b[31m========== ACCEPT THE NULL HYPOTHESIS! ==========\u001b[0m\n",
      "\u001b[35mP-Value:\u001b[0m 0.39162518\n"
     ]
    }
   ],
   "source": [
    "s.get_test_8(train_clus)"
   ]
  },
  {
   "cell_type": "code",
   "execution_count": null,
   "id": "b40898e7",
   "metadata": {},
   "outputs": [],
   "source": []
  },
  {
   "cell_type": "code",
   "execution_count": null,
   "id": "91417003",
   "metadata": {},
   "outputs": [],
   "source": []
  },
  {
   "cell_type": "code",
   "execution_count": 109,
   "id": "e79d7286",
   "metadata": {},
   "outputs": [],
   "source": [
    "# Set the Seaborn style to “darkgrid” for better visual contrast and readability\n",
    "sns.set_style(\"darkgrid\")\n",
    "# Set the Matplotlib style to “dark_background” for a visually appealing dark theme\n",
    "plt.style.use(\"dark_background\") "
   ]
  },
  {
   "cell_type": "code",
   "execution_count": null,
   "id": "c3d11f26",
   "metadata": {},
   "outputs": [],
   "source": []
  },
  {
   "cell_type": "code",
   "execution_count": 164,
   "id": "d0c2baf1",
   "metadata": {},
   "outputs": [
    {
     "data": {
      "text/plain": [
       "28.0"
      ]
     },
     "execution_count": 164,
     "metadata": {},
     "output_type": "execute_result"
    }
   ],
   "source": [
    "clus_0.customer_age.median()"
   ]
  },
  {
   "cell_type": "code",
   "execution_count": 169,
   "id": "489d1a4a",
   "metadata": {},
   "outputs": [
    {
     "data": {
      "image/png": "[encoded data removed]",
      "text/plain": [
       "<Figure size 640x480 with 1 Axes>"
      ]
     },
     "metadata": {},
     "output_type": "display_data"
    }
   ],
   "source": [
    "sns.boxplot(data=clus_0, x='customer_age')\n",
    "# cluster 0\n",
    "plt.title('Essential Cyclist Customers\\n\\\n",
    "Have a Median Age of 28', size=17)\n",
    "plt.xlabel('Customer Age', size=15)\n",
    "plt.xticks(size=13)\n",
    "plt.show()"
   ]
  },
  {
   "cell_type": "code",
   "execution_count": 165,
   "id": "66a681cc",
   "metadata": {},
   "outputs": [
    {
     "data": {
      "text/plain": [
       "47.0"
      ]
     },
     "execution_count": 165,
     "metadata": {},
     "output_type": "execute_result"
    }
   ],
   "source": [
    "clus_1.customer_age.median()"
   ]
  },
  {
   "cell_type": "code",
   "execution_count": 170,
   "id": "5122702a",
   "metadata": {},
   "outputs": [
    {
     "data": {
      "image/png": "[encoded data removed]",
      "text/plain": [
       "<Figure size 640x480 with 1 Axes>"
      ]
     },
     "metadata": {},
     "output_type": "display_data"
    }
   ],
   "source": [
    "sns.boxplot(data=clus_1, x='customer_age')\n",
    "# cluster 1\n",
    "plt.title('All-Rounder Customers\\n\\\n",
    "Have a Median Age of 47', size=17)\n",
    "plt.xlabel('Customer Age', size=15)\n",
    "plt.xticks(size=13)\n",
    "plt.show()"
   ]
  },
  {
   "cell_type": "code",
   "execution_count": 166,
   "id": "7e34e1f7",
   "metadata": {},
   "outputs": [
    {
     "data": {
      "text/plain": [
       "32.0"
      ]
     },
     "execution_count": 166,
     "metadata": {},
     "output_type": "execute_result"
    }
   ],
   "source": [
    "clus_2.customer_age.median()"
   ]
  },
  {
   "cell_type": "code",
   "execution_count": 171,
   "id": "f28c70dc",
   "metadata": {},
   "outputs": [
    {
     "data": {
      "image/png": "[encoded data removed]",
      "text/plain": [
       "<Figure size 640x480 with 1 Axes>"
      ]
     },
     "metadata": {},
     "output_type": "display_data"
    }
   ],
   "source": [
    "sns.boxplot(data=clus_2, x='customer_age')\n",
    "# cluster 2\n",
    "plt.title('Sporty Cyclist Customers\\n\\\n",
    "Have a Median Age of 32', size=17)\n",
    "plt.xlabel('Customer Age', size=15)\n",
    "plt.xticks(size=13)\n",
    "plt.show()"
   ]
  },
  {
   "cell_type": "code",
   "execution_count": 167,
   "id": "aa94d566",
   "metadata": {},
   "outputs": [
    {
     "data": {
      "text/plain": [
       "37.0"
      ]
     },
     "execution_count": 167,
     "metadata": {},
     "output_type": "execute_result"
    }
   ],
   "source": [
    "clus_3.customer_age.median()"
   ]
  },
  {
   "cell_type": "code",
   "execution_count": 172,
   "id": "9ee5a1c2",
   "metadata": {},
   "outputs": [
    {
     "data": {
      "image/png": "[encoded data removed]",
      "text/plain": [
       "<Figure size 640x480 with 1 Axes>"
      ]
     },
     "metadata": {},
     "output_type": "display_data"
    }
   ],
   "source": [
    "sns.boxplot(data=clus_3, x='customer_age')\n",
    "# cluster 3\n",
    "plt.title('Bike Enthusiast Customers\\n\\\n",
    "Have a Median Age of 37', size=17)\n",
    "plt.xlabel('Customer Age', size=15)\n",
    "plt.xticks(size=13)\n",
    "plt.show()"
   ]
  },
  {
   "cell_type": "code",
   "execution_count": null,
   "id": "76054a37",
   "metadata": {},
   "outputs": [],
   "source": []
  },
  {
   "cell_type": "code",
   "execution_count": 128,
   "id": "2e5fc16c",
   "metadata": {},
   "outputs": [
    {
     "data": {
      "text/html": [
       "<div>\n",
       "<style scoped>\n",
       "    .dataframe tbody tr th:only-of-type {\n",
       "        vertical-align: middle;\n",
       "    }\n",
       "\n",
       "    .dataframe tbody tr th {\n",
       "        vertical-align: top;\n",
       "    }\n",
       "\n",
       "    .dataframe thead th {\n",
       "        text-align: right;\n",
       "    }\n",
       "</style>\n",
       "<table border=\"1\" class=\"dataframe\">\n",
       "  <thead>\n",
       "    <tr style=\"text-align: right;\">\n",
       "      <th></th>\n",
       "      <th>8366</th>\n",
       "    </tr>\n",
       "  </thead>\n",
       "  <tbody>\n",
       "    <tr>\n",
       "      <th>date</th>\n",
       "      <td>2016-06-08 00:00:00</td>\n",
       "    </tr>\n",
       "    <tr>\n",
       "      <th>year</th>\n",
       "      <td>2016</td>\n",
       "    </tr>\n",
       "    <tr>\n",
       "      <th>month</th>\n",
       "      <td>June</td>\n",
       "    </tr>\n",
       "    <tr>\n",
       "      <th>customer_age</th>\n",
       "      <td>30</td>\n",
       "    </tr>\n",
       "    <tr>\n",
       "      <th>customer_gender</th>\n",
       "      <td>M</td>\n",
       "    </tr>\n",
       "    <tr>\n",
       "      <th>country</th>\n",
       "      <td>United Kingdom</td>\n",
       "    </tr>\n",
       "    <tr>\n",
       "      <th>state</th>\n",
       "      <td>England</td>\n",
       "    </tr>\n",
       "    <tr>\n",
       "      <th>product_category</th>\n",
       "      <td>Accessories</td>\n",
       "    </tr>\n",
       "    <tr>\n",
       "      <th>sub_category</th>\n",
       "      <td>Tires and Tubes</td>\n",
       "    </tr>\n",
       "    <tr>\n",
       "      <th>quantity</th>\n",
       "      <td>2</td>\n",
       "    </tr>\n",
       "    <tr>\n",
       "      <th>unit_cost</th>\n",
       "      <td>60.0</td>\n",
       "    </tr>\n",
       "    <tr>\n",
       "      <th>unit_price</th>\n",
       "      <td>80.0</td>\n",
       "    </tr>\n",
       "    <tr>\n",
       "      <th>cost</th>\n",
       "      <td>120.0</td>\n",
       "    </tr>\n",
       "    <tr>\n",
       "      <th>revenue</th>\n",
       "      <td>160.0</td>\n",
       "    </tr>\n",
       "    <tr>\n",
       "      <th>profit</th>\n",
       "      <td>40.0</td>\n",
       "    </tr>\n",
       "    <tr>\n",
       "      <th>sub_category_Bike Stands</th>\n",
       "      <td>0</td>\n",
       "    </tr>\n",
       "    <tr>\n",
       "      <th>sub_category_Bottles and Cages</th>\n",
       "      <td>0</td>\n",
       "    </tr>\n",
       "    <tr>\n",
       "      <th>sub_category_Caps</th>\n",
       "      <td>0</td>\n",
       "    </tr>\n",
       "    <tr>\n",
       "      <th>sub_category_Cleaners</th>\n",
       "      <td>0</td>\n",
       "    </tr>\n",
       "    <tr>\n",
       "      <th>sub_category_Fenders</th>\n",
       "      <td>0</td>\n",
       "    </tr>\n",
       "    <tr>\n",
       "      <th>sub_category_Gloves</th>\n",
       "      <td>0</td>\n",
       "    </tr>\n",
       "    <tr>\n",
       "      <th>sub_category_Helmets</th>\n",
       "      <td>0</td>\n",
       "    </tr>\n",
       "    <tr>\n",
       "      <th>sub_category_Hydration Packs</th>\n",
       "      <td>0</td>\n",
       "    </tr>\n",
       "    <tr>\n",
       "      <th>sub_category_Jerseys</th>\n",
       "      <td>0</td>\n",
       "    </tr>\n",
       "    <tr>\n",
       "      <th>sub_category_Mountain Bikes</th>\n",
       "      <td>0</td>\n",
       "    </tr>\n",
       "    <tr>\n",
       "      <th>sub_category_Road Bikes</th>\n",
       "      <td>0</td>\n",
       "    </tr>\n",
       "    <tr>\n",
       "      <th>sub_category_Shorts</th>\n",
       "      <td>0</td>\n",
       "    </tr>\n",
       "    <tr>\n",
       "      <th>sub_category_Socks</th>\n",
       "      <td>0</td>\n",
       "    </tr>\n",
       "    <tr>\n",
       "      <th>sub_category_Tires and Tubes</th>\n",
       "      <td>1</td>\n",
       "    </tr>\n",
       "    <tr>\n",
       "      <th>sub_category_Touring Bikes</th>\n",
       "      <td>0</td>\n",
       "    </tr>\n",
       "    <tr>\n",
       "      <th>sub_category_Vests</th>\n",
       "      <td>0</td>\n",
       "    </tr>\n",
       "    <tr>\n",
       "      <th>customer_gender_M</th>\n",
       "      <td>1</td>\n",
       "    </tr>\n",
       "    <tr>\n",
       "      <th>country_Germany</th>\n",
       "      <td>0</td>\n",
       "    </tr>\n",
       "    <tr>\n",
       "      <th>country_United Kingdom</th>\n",
       "      <td>1</td>\n",
       "    </tr>\n",
       "    <tr>\n",
       "      <th>country_United States</th>\n",
       "      <td>0</td>\n",
       "    </tr>\n",
       "    <tr>\n",
       "      <th>product_category_encoded</th>\n",
       "      <td>0</td>\n",
       "    </tr>\n",
       "    <tr>\n",
       "      <th>clusters</th>\n",
       "      <td>0</td>\n",
       "    </tr>\n",
       "  </tbody>\n",
       "</table>\n",
       "</div>"
      ],
      "text/plain": [
       "                                               8366\n",
       "date                            2016-06-08 00:00:00\n",
       "year                                           2016\n",
       "month                                          June\n",
       "customer_age                                     30\n",
       "customer_gender                                   M\n",
       "country                              United Kingdom\n",
       "state                                       England\n",
       "product_category                        Accessories\n",
       "sub_category                        Tires and Tubes\n",
       "quantity                                          2\n",
       "unit_cost                                      60.0\n",
       "unit_price                                     80.0\n",
       "cost                                          120.0\n",
       "revenue                                       160.0\n",
       "profit                                         40.0\n",
       "sub_category_Bike Stands                          0\n",
       "sub_category_Bottles and Cages                    0\n",
       "sub_category_Caps                                 0\n",
       "sub_category_Cleaners                             0\n",
       "sub_category_Fenders                              0\n",
       "sub_category_Gloves                               0\n",
       "sub_category_Helmets                              0\n",
       "sub_category_Hydration Packs                      0\n",
       "sub_category_Jerseys                              0\n",
       "sub_category_Mountain Bikes                       0\n",
       "sub_category_Road Bikes                           0\n",
       "sub_category_Shorts                               0\n",
       "sub_category_Socks                                0\n",
       "sub_category_Tires and Tubes                      1\n",
       "sub_category_Touring Bikes                        0\n",
       "sub_category_Vests                                0\n",
       "customer_gender_M                                 1\n",
       "country_Germany                                   0\n",
       "country_United Kingdom                            1\n",
       "country_United States                             0\n",
       "product_category_encoded                          0\n",
       "clusters                                          0"
      ]
     },
     "execution_count": 128,
     "metadata": {},
     "output_type": "execute_result"
    }
   ],
   "source": [
    "train_clus.head(1).T"
   ]
  },
  {
   "cell_type": "code",
   "execution_count": 122,
   "id": "9c2e34d8",
   "metadata": {},
   "outputs": [],
   "source": [
    "num_orders = train_clus.groupby('clusters').date.count()"
   ]
  },
  {
   "cell_type": "code",
   "execution_count": 123,
   "id": "4a5f30a0",
   "metadata": {},
   "outputs": [
    {
     "data": {
      "text/plain": [
       "clusters\n",
       "0    6829\n",
       "1    6062\n",
       "2    4195\n",
       "3    2438\n",
       "Name: date, dtype: int64"
      ]
     },
     "execution_count": 123,
     "metadata": {},
     "output_type": "execute_result"
    }
   ],
   "source": [
    "num_orders"
   ]
  },
  {
   "cell_type": "code",
   "execution_count": 156,
   "id": "a84822a0",
   "metadata": {},
   "outputs": [
    {
     "data": {
      "text/plain": [
       "124.0"
      ]
     },
     "execution_count": 156,
     "metadata": {},
     "output_type": "execute_result"
    }
   ],
   "source": [
    "clus_0.revenue.median()"
   ]
  },
  {
   "cell_type": "code",
   "execution_count": null,
   "id": "92a5614b",
   "metadata": {},
   "outputs": [],
   "source": []
  },
  {
   "cell_type": "code",
   "execution_count": 160,
   "id": "fd4d5d9f",
   "metadata": {},
   "outputs": [
    {
     "data": {
      "image/png": "[encoded data removed]",
      "text/plain": [
       "<Figure size 640x480 with 1 Axes>"
      ]
     },
     "metadata": {},
     "output_type": "display_data"
    }
   ],
   "source": [
    "sns.boxplot(x=clus_0['clusters'], y=clus_0['revenue'])\n",
    "    # add axis labels\n",
    "plt.xlabel('Essential Cyclist Cluster', size = 16)\n",
    "plt.ylabel('Revenue (Dollars)', size=16)\n",
    "# add title\n",
    "plt.title('Essential Cyclist Customers Have a Median\\n\\\n",
    "Value of $124 Revenue per Transaction',\n",
    "          size=17)\n",
    "# remove xticks\n",
    "plt.xticks([], [])\n",
    "# resize ticks\n",
    "plt.yticks(size=13)\n",
    "# display plot\n",
    "plt.show()"
   ]
  },
  {
   "cell_type": "code",
   "execution_count": 154,
   "id": "3b6a440f",
   "metadata": {},
   "outputs": [
    {
     "data": {
      "text/plain": [
       "174.0"
      ]
     },
     "execution_count": 154,
     "metadata": {},
     "output_type": "execute_result"
    }
   ],
   "source": [
    "clus_1.revenue.median()"
   ]
  },
  {
   "cell_type": "code",
   "execution_count": 161,
   "id": "3c8c66ec",
   "metadata": {},
   "outputs": [
    {
     "data": {
      "image/png": "[encoded data removed]",
      "text/plain": [
       "<Figure size 640x480 with 1 Axes>"
      ]
     },
     "metadata": {},
     "output_type": "display_data"
    }
   ],
   "source": [
    "sns.boxplot(x=clus_1['clusters'], y=clus_1['revenue'])\n",
    "    # add axis labels\n",
    "plt.xlabel('All-Rounder Cluster', size = 16)\n",
    "plt.ylabel('Revenue (Dollars)', size=16)\n",
    "# add title\n",
    "plt.title('All-Rounder Customers Have a Median\\n\\\n",
    "Value of $174 Revenue per Transaction',\n",
    "          size=17)\n",
    "# remove xticks\n",
    "plt.xticks([], [])\n",
    "# resize ticks\n",
    "plt.yticks(size=13)\n",
    "# display plot\n",
    "plt.show()"
   ]
  },
  {
   "cell_type": "code",
   "execution_count": 151,
   "id": "4ff45fd1",
   "metadata": {},
   "outputs": [
    {
     "data": {
      "text/plain": [
       "898.5687723480333"
      ]
     },
     "execution_count": 151,
     "metadata": {},
     "output_type": "execute_result"
    }
   ],
   "source": [
    "clus_2.revenue.mean()"
   ]
  },
  {
   "cell_type": "code",
   "execution_count": 162,
   "id": "4a2d4b03",
   "metadata": {},
   "outputs": [
    {
     "data": {
      "image/png": "[encoded data removed]",
      "text/plain": [
       "<Figure size 640x480 with 1 Axes>"
      ]
     },
     "metadata": {},
     "output_type": "display_data"
    }
   ],
   "source": [
    "sns.boxplot(x=clus_2['clusters'], y=clus_2['revenue'])\n",
    "    # add axis labels\n",
    "plt.xlabel('Sporty Cyclist Cluster', size = 16)\n",
    "plt.ylabel('Revenue (Dollars)', size=16)\n",
    "# add title\n",
    "plt.title('Sporty Cyclist Customers Have a Median\\n\\\n",
    "Value of $899 Revenue per Transaction',\n",
    "          size=17)\n",
    "# remove xticks\n",
    "plt.xticks([], [])\n",
    "# resize ticks\n",
    "plt.yticks(size=13)\n",
    "# display plot\n",
    "plt.show()"
   ]
  },
  {
   "cell_type": "code",
   "execution_count": 152,
   "id": "35e28d42",
   "metadata": {},
   "outputs": [
    {
     "data": {
      "text/plain": [
       "2276.8223954060704"
      ]
     },
     "execution_count": 152,
     "metadata": {},
     "output_type": "execute_result"
    }
   ],
   "source": [
    "clus_3.revenue.mean()"
   ]
  },
  {
   "cell_type": "code",
   "execution_count": 163,
   "id": "8ba85fe6",
   "metadata": {},
   "outputs": [
    {
     "data": {
      "image/png": "[encoded data removed]",
      "text/plain": [
       "<Figure size 640x480 with 1 Axes>"
      ]
     },
     "metadata": {},
     "output_type": "display_data"
    }
   ],
   "source": [
    "sns.boxplot(x=clus_3['clusters'], y=clus_3['revenue'])\n",
    "    # add axis labels\n",
    "plt.xlabel('Bike Enthusiast Cluster', size = 16)\n",
    "plt.ylabel('Revenue (Dollars)', size=16)\n",
    "# add title\n",
    "plt.title('Bike Enthusiast Customers Have a Median\\n\\\n",
    "Value of $2277 Revenue per Transaction',\n",
    "          size=17)\n",
    "# remove xticks\n",
    "plt.xticks([], [])\n",
    "# resize ticks\n",
    "plt.yticks(size=13)\n",
    "# display plot\n",
    "plt.show()"
   ]
  },
  {
   "cell_type": "code",
   "execution_count": 174,
   "id": "0f5b70ed",
   "metadata": {},
   "outputs": [
    {
     "data": {
      "text/html": [
       "<div>\n",
       "<style scoped>\n",
       "    .dataframe tbody tr th:only-of-type {\n",
       "        vertical-align: middle;\n",
       "    }\n",
       "\n",
       "    .dataframe tbody tr th {\n",
       "        vertical-align: top;\n",
       "    }\n",
       "\n",
       "    .dataframe thead th {\n",
       "        text-align: right;\n",
       "    }\n",
       "</style>\n",
       "<table border=\"1\" class=\"dataframe\">\n",
       "  <thead>\n",
       "    <tr style=\"text-align: right;\">\n",
       "      <th></th>\n",
       "      <th>year</th>\n",
       "      <th>customer_age</th>\n",
       "      <th>quantity</th>\n",
       "      <th>unit_cost</th>\n",
       "      <th>unit_price</th>\n",
       "      <th>cost</th>\n",
       "      <th>revenue</th>\n",
       "      <th>profit</th>\n",
       "      <th>sub_category_Bike Stands</th>\n",
       "      <th>sub_category_Bottles and Cages</th>\n",
       "      <th>...</th>\n",
       "      <th>sub_category_Socks</th>\n",
       "      <th>sub_category_Tires and Tubes</th>\n",
       "      <th>sub_category_Touring Bikes</th>\n",
       "      <th>sub_category_Vests</th>\n",
       "      <th>customer_gender_M</th>\n",
       "      <th>country_Germany</th>\n",
       "      <th>country_United Kingdom</th>\n",
       "      <th>country_United States</th>\n",
       "      <th>product_category_encoded</th>\n",
       "      <th>clusters</th>\n",
       "    </tr>\n",
       "  </thead>\n",
       "  <tbody>\n",
       "    <tr>\n",
       "      <th>count</th>\n",
       "      <td>6829.000000</td>\n",
       "      <td>6829.000000</td>\n",
       "      <td>6829.000000</td>\n",
       "      <td>6829.000000</td>\n",
       "      <td>6829.000000</td>\n",
       "      <td>6829.000000</td>\n",
       "      <td>6829.000000</td>\n",
       "      <td>6829.000000</td>\n",
       "      <td>6829.000000</td>\n",
       "      <td>6829.000000</td>\n",
       "      <td>...</td>\n",
       "      <td>6829.000000</td>\n",
       "      <td>6829.000000</td>\n",
       "      <td>6829.000000</td>\n",
       "      <td>6829.000000</td>\n",
       "      <td>6829.000000</td>\n",
       "      <td>6829.000000</td>\n",
       "      <td>6829.000000</td>\n",
       "      <td>6829.000000</td>\n",
       "      <td>6829.000000</td>\n",
       "      <td>6829.0</td>\n",
       "    </tr>\n",
       "    <tr>\n",
       "      <th>mean</th>\n",
       "      <td>2015.581198</td>\n",
       "      <td>28.103236</td>\n",
       "      <td>1.986382</td>\n",
       "      <td>93.052987</td>\n",
       "      <td>110.998830</td>\n",
       "      <td>150.190365</td>\n",
       "      <td>179.512081</td>\n",
       "      <td>29.321716</td>\n",
       "      <td>0.002197</td>\n",
       "      <td>0.258017</td>\n",
       "      <td>...</td>\n",
       "      <td>0.016694</td>\n",
       "      <td>0.499341</td>\n",
       "      <td>0.000293</td>\n",
       "      <td>0.003222</td>\n",
       "      <td>0.513838</td>\n",
       "      <td>0.148484</td>\n",
       "      <td>0.179382</td>\n",
       "      <td>0.521745</td>\n",
       "      <td>0.275443</td>\n",
       "      <td>0.0</td>\n",
       "    </tr>\n",
       "    <tr>\n",
       "      <th>std</th>\n",
       "      <td>0.493399</td>\n",
       "      <td>5.902873</td>\n",
       "      <td>0.816293</td>\n",
       "      <td>111.436901</td>\n",
       "      <td>129.555587</td>\n",
       "      <td>149.185616</td>\n",
       "      <td>173.951705</td>\n",
       "      <td>41.728964</td>\n",
       "      <td>0.046819</td>\n",
       "      <td>0.437576</td>\n",
       "      <td>...</td>\n",
       "      <td>0.128130</td>\n",
       "      <td>0.500036</td>\n",
       "      <td>0.017112</td>\n",
       "      <td>0.056671</td>\n",
       "      <td>0.499845</td>\n",
       "      <td>0.355606</td>\n",
       "      <td>0.383700</td>\n",
       "      <td>0.499563</td>\n",
       "      <td>0.684896</td>\n",
       "      <td>0.0</td>\n",
       "    </tr>\n",
       "    <tr>\n",
       "      <th>min</th>\n",
       "      <td>2015.000000</td>\n",
       "      <td>17.000000</td>\n",
       "      <td>1.000000</td>\n",
       "      <td>0.670000</td>\n",
       "      <td>0.670000</td>\n",
       "      <td>2.000000</td>\n",
       "      <td>2.000000</td>\n",
       "      <td>-299.000000</td>\n",
       "      <td>0.000000</td>\n",
       "      <td>0.000000</td>\n",
       "      <td>...</td>\n",
       "      <td>0.000000</td>\n",
       "      <td>0.000000</td>\n",
       "      <td>0.000000</td>\n",
       "      <td>0.000000</td>\n",
       "      <td>0.000000</td>\n",
       "      <td>0.000000</td>\n",
       "      <td>0.000000</td>\n",
       "      <td>0.000000</td>\n",
       "      <td>0.000000</td>\n",
       "      <td>0.0</td>\n",
       "    </tr>\n",
       "    <tr>\n",
       "      <th>25%</th>\n",
       "      <td>2015.000000</td>\n",
       "      <td>23.000000</td>\n",
       "      <td>1.000000</td>\n",
       "      <td>25.000000</td>\n",
       "      <td>30.000000</td>\n",
       "      <td>50.000000</td>\n",
       "      <td>59.000000</td>\n",
       "      <td>6.000000</td>\n",
       "      <td>0.000000</td>\n",
       "      <td>0.000000</td>\n",
       "      <td>...</td>\n",
       "      <td>0.000000</td>\n",
       "      <td>0.000000</td>\n",
       "      <td>0.000000</td>\n",
       "      <td>0.000000</td>\n",
       "      <td>0.000000</td>\n",
       "      <td>0.000000</td>\n",
       "      <td>0.000000</td>\n",
       "      <td>0.000000</td>\n",
       "      <td>0.000000</td>\n",
       "      <td>0.0</td>\n",
       "    </tr>\n",
       "    <tr>\n",
       "      <th>50%</th>\n",
       "      <td>2016.000000</td>\n",
       "      <td>28.000000</td>\n",
       "      <td>2.000000</td>\n",
       "      <td>55.000000</td>\n",
       "      <td>67.000000</td>\n",
       "      <td>105.000000</td>\n",
       "      <td>124.000000</td>\n",
       "      <td>17.000000</td>\n",
       "      <td>0.000000</td>\n",
       "      <td>0.000000</td>\n",
       "      <td>...</td>\n",
       "      <td>0.000000</td>\n",
       "      <td>0.000000</td>\n",
       "      <td>0.000000</td>\n",
       "      <td>0.000000</td>\n",
       "      <td>1.000000</td>\n",
       "      <td>0.000000</td>\n",
       "      <td>0.000000</td>\n",
       "      <td>1.000000</td>\n",
       "      <td>0.000000</td>\n",
       "      <td>0.0</td>\n",
       "    </tr>\n",
       "    <tr>\n",
       "      <th>75%</th>\n",
       "      <td>2016.000000</td>\n",
       "      <td>33.000000</td>\n",
       "      <td>3.000000</td>\n",
       "      <td>117.000000</td>\n",
       "      <td>141.000000</td>\n",
       "      <td>198.000000</td>\n",
       "      <td>234.000000</td>\n",
       "      <td>40.000000</td>\n",
       "      <td>0.000000</td>\n",
       "      <td>1.000000</td>\n",
       "      <td>...</td>\n",
       "      <td>0.000000</td>\n",
       "      <td>1.000000</td>\n",
       "      <td>0.000000</td>\n",
       "      <td>0.000000</td>\n",
       "      <td>1.000000</td>\n",
       "      <td>0.000000</td>\n",
       "      <td>0.000000</td>\n",
       "      <td>1.000000</td>\n",
       "      <td>0.000000</td>\n",
       "      <td>0.0</td>\n",
       "    </tr>\n",
       "    <tr>\n",
       "      <th>max</th>\n",
       "      <td>2016.000000</td>\n",
       "      <td>38.000000</td>\n",
       "      <td>3.000000</td>\n",
       "      <td>870.000000</td>\n",
       "      <td>970.000000</td>\n",
       "      <td>870.000000</td>\n",
       "      <td>1031.000000</td>\n",
       "      <td>348.000000</td>\n",
       "      <td>1.000000</td>\n",
       "      <td>1.000000</td>\n",
       "      <td>...</td>\n",
       "      <td>1.000000</td>\n",
       "      <td>1.000000</td>\n",
       "      <td>1.000000</td>\n",
       "      <td>1.000000</td>\n",
       "      <td>1.000000</td>\n",
       "      <td>1.000000</td>\n",
       "      <td>1.000000</td>\n",
       "      <td>1.000000</td>\n",
       "      <td>2.000000</td>\n",
       "      <td>0.0</td>\n",
       "    </tr>\n",
       "  </tbody>\n",
       "</table>\n",
       "<p>8 rows × 30 columns</p>\n",
       "</div>"
      ],
      "text/plain": [
       "              year  customer_age     quantity    unit_cost   unit_price  \\\n",
       "count  6829.000000   6829.000000  6829.000000  6829.000000  6829.000000   \n",
       "mean   2015.581198     28.103236     1.986382    93.052987   110.998830   \n",
       "std       0.493399      5.902873     0.816293   111.436901   129.555587   \n",
       "min    2015.000000     17.000000     1.000000     0.670000     0.670000   \n",
       "25%    2015.000000     23.000000     1.000000    25.000000    30.000000   \n",
       "50%    2016.000000     28.000000     2.000000    55.000000    67.000000   \n",
       "75%    2016.000000     33.000000     3.000000   117.000000   141.000000   \n",
       "max    2016.000000     38.000000     3.000000   870.000000   970.000000   \n",
       "\n",
       "              cost      revenue       profit  sub_category_Bike Stands  \\\n",
       "count  6829.000000  6829.000000  6829.000000               6829.000000   \n",
       "mean    150.190365   179.512081    29.321716                  0.002197   \n",
       "std     149.185616   173.951705    41.728964                  0.046819   \n",
       "min       2.000000     2.000000  -299.000000                  0.000000   \n",
       "25%      50.000000    59.000000     6.000000                  0.000000   \n",
       "50%     105.000000   124.000000    17.000000                  0.000000   \n",
       "75%     198.000000   234.000000    40.000000                  0.000000   \n",
       "max     870.000000  1031.000000   348.000000                  1.000000   \n",
       "\n",
       "       sub_category_Bottles and Cages  ...  sub_category_Socks  \\\n",
       "count                     6829.000000  ...         6829.000000   \n",
       "mean                         0.258017  ...            0.016694   \n",
       "std                          0.437576  ...            0.128130   \n",
       "min                          0.000000  ...            0.000000   \n",
       "25%                          0.000000  ...            0.000000   \n",
       "50%                          0.000000  ...            0.000000   \n",
       "75%                          1.000000  ...            0.000000   \n",
       "max                          1.000000  ...            1.000000   \n",
       "\n",
       "       sub_category_Tires and Tubes  sub_category_Touring Bikes  \\\n",
       "count                   6829.000000                 6829.000000   \n",
       "mean                       0.499341                    0.000293   \n",
       "std                        0.500036                    0.017112   \n",
       "min                        0.000000                    0.000000   \n",
       "25%                        0.000000                    0.000000   \n",
       "50%                        0.000000                    0.000000   \n",
       "75%                        1.000000                    0.000000   \n",
       "max                        1.000000                    1.000000   \n",
       "\n",
       "       sub_category_Vests  customer_gender_M  country_Germany  \\\n",
       "count         6829.000000        6829.000000      6829.000000   \n",
       "mean             0.003222           0.513838         0.148484   \n",
       "std              0.056671           0.499845         0.355606   \n",
       "min              0.000000           0.000000         0.000000   \n",
       "25%              0.000000           0.000000         0.000000   \n",
       "50%              0.000000           1.000000         0.000000   \n",
       "75%              0.000000           1.000000         0.000000   \n",
       "max              1.000000           1.000000         1.000000   \n",
       "\n",
       "       country_United Kingdom  country_United States  \\\n",
       "count             6829.000000            6829.000000   \n",
       "mean                 0.179382               0.521745   \n",
       "std                  0.383700               0.499563   \n",
       "min                  0.000000               0.000000   \n",
       "25%                  0.000000               0.000000   \n",
       "50%                  0.000000               1.000000   \n",
       "75%                  0.000000               1.000000   \n",
       "max                  1.000000               1.000000   \n",
       "\n",
       "       product_category_encoded  clusters  \n",
       "count               6829.000000    6829.0  \n",
       "mean                   0.275443       0.0  \n",
       "std                    0.684896       0.0  \n",
       "min                    0.000000       0.0  \n",
       "25%                    0.000000       0.0  \n",
       "50%                    0.000000       0.0  \n",
       "75%                    0.000000       0.0  \n",
       "max                    2.000000       0.0  \n",
       "\n",
       "[8 rows x 30 columns]"
      ]
     },
     "execution_count": 174,
     "metadata": {},
     "output_type": "execute_result"
    }
   ],
   "source": [
    "# Essential Cyclist\n",
    "clus_0.describe()"
   ]
  },
  {
   "cell_type": "code",
   "execution_count": 175,
   "id": "2116f2dc",
   "metadata": {},
   "outputs": [
    {
     "data": {
      "text/html": [
       "<div>\n",
       "<style scoped>\n",
       "    .dataframe tbody tr th:only-of-type {\n",
       "        vertical-align: middle;\n",
       "    }\n",
       "\n",
       "    .dataframe tbody tr th {\n",
       "        vertical-align: top;\n",
       "    }\n",
       "\n",
       "    .dataframe thead th {\n",
       "        text-align: right;\n",
       "    }\n",
       "</style>\n",
       "<table border=\"1\" class=\"dataframe\">\n",
       "  <thead>\n",
       "    <tr style=\"text-align: right;\">\n",
       "      <th></th>\n",
       "      <th>year</th>\n",
       "      <th>customer_age</th>\n",
       "      <th>quantity</th>\n",
       "      <th>unit_cost</th>\n",
       "      <th>unit_price</th>\n",
       "      <th>cost</th>\n",
       "      <th>revenue</th>\n",
       "      <th>profit</th>\n",
       "      <th>sub_category_Bike Stands</th>\n",
       "      <th>sub_category_Bottles and Cages</th>\n",
       "      <th>...</th>\n",
       "      <th>sub_category_Socks</th>\n",
       "      <th>sub_category_Tires and Tubes</th>\n",
       "      <th>sub_category_Touring Bikes</th>\n",
       "      <th>sub_category_Vests</th>\n",
       "      <th>customer_gender_M</th>\n",
       "      <th>country_Germany</th>\n",
       "      <th>country_United Kingdom</th>\n",
       "      <th>country_United States</th>\n",
       "      <th>product_category_encoded</th>\n",
       "      <th>clusters</th>\n",
       "    </tr>\n",
       "  </thead>\n",
       "  <tbody>\n",
       "    <tr>\n",
       "      <th>count</th>\n",
       "      <td>6062.000000</td>\n",
       "      <td>6062.000000</td>\n",
       "      <td>6062.000000</td>\n",
       "      <td>6062.000000</td>\n",
       "      <td>6062.000000</td>\n",
       "      <td>6062.000000</td>\n",
       "      <td>6062.000000</td>\n",
       "      <td>6062.000000</td>\n",
       "      <td>6062.000000</td>\n",
       "      <td>6062.000000</td>\n",
       "      <td>...</td>\n",
       "      <td>6062.000000</td>\n",
       "      <td>6062.000000</td>\n",
       "      <td>6062.000000</td>\n",
       "      <td>6062.000000</td>\n",
       "      <td>6062.000000</td>\n",
       "      <td>6062.000000</td>\n",
       "      <td>6062.000000</td>\n",
       "      <td>6062.000000</td>\n",
       "      <td>6062.000000</td>\n",
       "      <td>6062.0</td>\n",
       "    </tr>\n",
       "    <tr>\n",
       "      <th>mean</th>\n",
       "      <td>2015.595348</td>\n",
       "      <td>48.485648</td>\n",
       "      <td>2.001320</td>\n",
       "      <td>167.723151</td>\n",
       "      <td>196.290010</td>\n",
       "      <td>274.458924</td>\n",
       "      <td>321.603266</td>\n",
       "      <td>47.144342</td>\n",
       "      <td>0.003299</td>\n",
       "      <td>0.199109</td>\n",
       "      <td>...</td>\n",
       "      <td>0.014022</td>\n",
       "      <td>0.419828</td>\n",
       "      <td>0.007918</td>\n",
       "      <td>0.005444</td>\n",
       "      <td>0.494226</td>\n",
       "      <td>0.120092</td>\n",
       "      <td>0.169416</td>\n",
       "      <td>0.586275</td>\n",
       "      <td>0.345925</td>\n",
       "      <td>1.0</td>\n",
       "    </tr>\n",
       "    <tr>\n",
       "      <th>std</th>\n",
       "      <td>0.490865</td>\n",
       "      <td>7.388909</td>\n",
       "      <td>0.811767</td>\n",
       "      <td>209.986687</td>\n",
       "      <td>241.728183</td>\n",
       "      <td>290.249858</td>\n",
       "      <td>332.816244</td>\n",
       "      <td>77.592279</td>\n",
       "      <td>0.057349</td>\n",
       "      <td>0.399363</td>\n",
       "      <td>...</td>\n",
       "      <td>0.117590</td>\n",
       "      <td>0.493571</td>\n",
       "      <td>0.088638</td>\n",
       "      <td>0.073587</td>\n",
       "      <td>0.500008</td>\n",
       "      <td>0.325096</td>\n",
       "      <td>0.375150</td>\n",
       "      <td>0.492541</td>\n",
       "      <td>0.720867</td>\n",
       "      <td>0.0</td>\n",
       "    </tr>\n",
       "    <tr>\n",
       "      <th>min</th>\n",
       "      <td>2015.000000</td>\n",
       "      <td>38.000000</td>\n",
       "      <td>1.000000</td>\n",
       "      <td>0.670000</td>\n",
       "      <td>0.670000</td>\n",
       "      <td>2.000000</td>\n",
       "      <td>2.000000</td>\n",
       "      <td>-577.000000</td>\n",
       "      <td>0.000000</td>\n",
       "      <td>0.000000</td>\n",
       "      <td>...</td>\n",
       "      <td>0.000000</td>\n",
       "      <td>0.000000</td>\n",
       "      <td>0.000000</td>\n",
       "      <td>0.000000</td>\n",
       "      <td>0.000000</td>\n",
       "      <td>0.000000</td>\n",
       "      <td>0.000000</td>\n",
       "      <td>0.000000</td>\n",
       "      <td>0.000000</td>\n",
       "      <td>1.0</td>\n",
       "    </tr>\n",
       "    <tr>\n",
       "      <th>25%</th>\n",
       "      <td>2015.000000</td>\n",
       "      <td>43.000000</td>\n",
       "      <td>1.000000</td>\n",
       "      <td>33.330000</td>\n",
       "      <td>40.000000</td>\n",
       "      <td>63.000000</td>\n",
       "      <td>74.000000</td>\n",
       "      <td>7.000000</td>\n",
       "      <td>0.000000</td>\n",
       "      <td>0.000000</td>\n",
       "      <td>...</td>\n",
       "      <td>0.000000</td>\n",
       "      <td>0.000000</td>\n",
       "      <td>0.000000</td>\n",
       "      <td>0.000000</td>\n",
       "      <td>0.000000</td>\n",
       "      <td>0.000000</td>\n",
       "      <td>0.000000</td>\n",
       "      <td>0.000000</td>\n",
       "      <td>0.000000</td>\n",
       "      <td>1.0</td>\n",
       "    </tr>\n",
       "    <tr>\n",
       "      <th>50%</th>\n",
       "      <td>2016.000000</td>\n",
       "      <td>47.000000</td>\n",
       "      <td>2.000000</td>\n",
       "      <td>80.000000</td>\n",
       "      <td>97.000000</td>\n",
       "      <td>143.500000</td>\n",
       "      <td>174.000000</td>\n",
       "      <td>22.000000</td>\n",
       "      <td>0.000000</td>\n",
       "      <td>0.000000</td>\n",
       "      <td>...</td>\n",
       "      <td>0.000000</td>\n",
       "      <td>0.000000</td>\n",
       "      <td>0.000000</td>\n",
       "      <td>0.000000</td>\n",
       "      <td>0.000000</td>\n",
       "      <td>0.000000</td>\n",
       "      <td>0.000000</td>\n",
       "      <td>1.000000</td>\n",
       "      <td>0.000000</td>\n",
       "      <td>1.0</td>\n",
       "    </tr>\n",
       "    <tr>\n",
       "      <th>75%</th>\n",
       "      <td>2016.000000</td>\n",
       "      <td>53.000000</td>\n",
       "      <td>3.000000</td>\n",
       "      <td>225.000000</td>\n",
       "      <td>263.000000</td>\n",
       "      <td>441.000000</td>\n",
       "      <td>506.000000</td>\n",
       "      <td>64.000000</td>\n",
       "      <td>0.000000</td>\n",
       "      <td>0.000000</td>\n",
       "      <td>...</td>\n",
       "      <td>0.000000</td>\n",
       "      <td>1.000000</td>\n",
       "      <td>0.000000</td>\n",
       "      <td>0.000000</td>\n",
       "      <td>1.000000</td>\n",
       "      <td>0.000000</td>\n",
       "      <td>0.000000</td>\n",
       "      <td>1.000000</td>\n",
       "      <td>0.000000</td>\n",
       "      <td>1.0</td>\n",
       "    </tr>\n",
       "    <tr>\n",
       "      <th>max</th>\n",
       "      <td>2016.000000</td>\n",
       "      <td>87.000000</td>\n",
       "      <td>3.000000</td>\n",
       "      <td>1431.000000</td>\n",
       "      <td>1632.000000</td>\n",
       "      <td>1701.000000</td>\n",
       "      <td>1792.000000</td>\n",
       "      <td>648.000000</td>\n",
       "      <td>1.000000</td>\n",
       "      <td>1.000000</td>\n",
       "      <td>...</td>\n",
       "      <td>1.000000</td>\n",
       "      <td>1.000000</td>\n",
       "      <td>1.000000</td>\n",
       "      <td>1.000000</td>\n",
       "      <td>1.000000</td>\n",
       "      <td>1.000000</td>\n",
       "      <td>1.000000</td>\n",
       "      <td>1.000000</td>\n",
       "      <td>2.000000</td>\n",
       "      <td>1.0</td>\n",
       "    </tr>\n",
       "  </tbody>\n",
       "</table>\n",
       "<p>8 rows × 30 columns</p>\n",
       "</div>"
      ],
      "text/plain": [
       "              year  customer_age     quantity    unit_cost   unit_price  \\\n",
       "count  6062.000000   6062.000000  6062.000000  6062.000000  6062.000000   \n",
       "mean   2015.595348     48.485648     2.001320   167.723151   196.290010   \n",
       "std       0.490865      7.388909     0.811767   209.986687   241.728183   \n",
       "min    2015.000000     38.000000     1.000000     0.670000     0.670000   \n",
       "25%    2015.000000     43.000000     1.000000    33.330000    40.000000   \n",
       "50%    2016.000000     47.000000     2.000000    80.000000    97.000000   \n",
       "75%    2016.000000     53.000000     3.000000   225.000000   263.000000   \n",
       "max    2016.000000     87.000000     3.000000  1431.000000  1632.000000   \n",
       "\n",
       "              cost      revenue       profit  sub_category_Bike Stands  \\\n",
       "count  6062.000000  6062.000000  6062.000000               6062.000000   \n",
       "mean    274.458924   321.603266    47.144342                  0.003299   \n",
       "std     290.249858   332.816244    77.592279                  0.057349   \n",
       "min       2.000000     2.000000  -577.000000                  0.000000   \n",
       "25%      63.000000    74.000000     7.000000                  0.000000   \n",
       "50%     143.500000   174.000000    22.000000                  0.000000   \n",
       "75%     441.000000   506.000000    64.000000                  0.000000   \n",
       "max    1701.000000  1792.000000   648.000000                  1.000000   \n",
       "\n",
       "       sub_category_Bottles and Cages  ...  sub_category_Socks  \\\n",
       "count                     6062.000000  ...         6062.000000   \n",
       "mean                         0.199109  ...            0.014022   \n",
       "std                          0.399363  ...            0.117590   \n",
       "min                          0.000000  ...            0.000000   \n",
       "25%                          0.000000  ...            0.000000   \n",
       "50%                          0.000000  ...            0.000000   \n",
       "75%                          0.000000  ...            0.000000   \n",
       "max                          1.000000  ...            1.000000   \n",
       "\n",
       "       sub_category_Tires and Tubes  sub_category_Touring Bikes  \\\n",
       "count                   6062.000000                 6062.000000   \n",
       "mean                       0.419828                    0.007918   \n",
       "std                        0.493571                    0.088638   \n",
       "min                        0.000000                    0.000000   \n",
       "25%                        0.000000                    0.000000   \n",
       "50%                        0.000000                    0.000000   \n",
       "75%                        1.000000                    0.000000   \n",
       "max                        1.000000                    1.000000   \n",
       "\n",
       "       sub_category_Vests  customer_gender_M  country_Germany  \\\n",
       "count         6062.000000        6062.000000      6062.000000   \n",
       "mean             0.005444           0.494226         0.120092   \n",
       "std              0.073587           0.500008         0.325096   \n",
       "min              0.000000           0.000000         0.000000   \n",
       "25%              0.000000           0.000000         0.000000   \n",
       "50%              0.000000           0.000000         0.000000   \n",
       "75%              0.000000           1.000000         0.000000   \n",
       "max              1.000000           1.000000         1.000000   \n",
       "\n",
       "       country_United Kingdom  country_United States  \\\n",
       "count             6062.000000            6062.000000   \n",
       "mean                 0.169416               0.586275   \n",
       "std                  0.375150               0.492541   \n",
       "min                  0.000000               0.000000   \n",
       "25%                  0.000000               0.000000   \n",
       "50%                  0.000000               1.000000   \n",
       "75%                  0.000000               1.000000   \n",
       "max                  1.000000               1.000000   \n",
       "\n",
       "       product_category_encoded  clusters  \n",
       "count               6062.000000    6062.0  \n",
       "mean                   0.345925       1.0  \n",
       "std                    0.720867       0.0  \n",
       "min                    0.000000       1.0  \n",
       "25%                    0.000000       1.0  \n",
       "50%                    0.000000       1.0  \n",
       "75%                    0.000000       1.0  \n",
       "max                    2.000000       1.0  \n",
       "\n",
       "[8 rows x 30 columns]"
      ]
     },
     "execution_count": 175,
     "metadata": {},
     "output_type": "execute_result"
    }
   ],
   "source": [
    "# All-Rounder\n",
    "clus_1.describe()"
   ]
  },
  {
   "cell_type": "code",
   "execution_count": 176,
   "id": "dd30b907",
   "metadata": {},
   "outputs": [
    {
     "data": {
      "text/html": [
       "<div>\n",
       "<style scoped>\n",
       "    .dataframe tbody tr th:only-of-type {\n",
       "        vertical-align: middle;\n",
       "    }\n",
       "\n",
       "    .dataframe tbody tr th {\n",
       "        vertical-align: top;\n",
       "    }\n",
       "\n",
       "    .dataframe thead th {\n",
       "        text-align: right;\n",
       "    }\n",
       "</style>\n",
       "<table border=\"1\" class=\"dataframe\">\n",
       "  <thead>\n",
       "    <tr style=\"text-align: right;\">\n",
       "      <th></th>\n",
       "      <th>year</th>\n",
       "      <th>customer_age</th>\n",
       "      <th>quantity</th>\n",
       "      <th>unit_cost</th>\n",
       "      <th>unit_price</th>\n",
       "      <th>cost</th>\n",
       "      <th>revenue</th>\n",
       "      <th>profit</th>\n",
       "      <th>sub_category_Bike Stands</th>\n",
       "      <th>sub_category_Bottles and Cages</th>\n",
       "      <th>...</th>\n",
       "      <th>sub_category_Socks</th>\n",
       "      <th>sub_category_Tires and Tubes</th>\n",
       "      <th>sub_category_Touring Bikes</th>\n",
       "      <th>sub_category_Vests</th>\n",
       "      <th>customer_gender_M</th>\n",
       "      <th>country_Germany</th>\n",
       "      <th>country_United Kingdom</th>\n",
       "      <th>country_United States</th>\n",
       "      <th>product_category_encoded</th>\n",
       "      <th>clusters</th>\n",
       "    </tr>\n",
       "  </thead>\n",
       "  <tbody>\n",
       "    <tr>\n",
       "      <th>count</th>\n",
       "      <td>4195.000000</td>\n",
       "      <td>4195.000000</td>\n",
       "      <td>4195.000000</td>\n",
       "      <td>4195.000000</td>\n",
       "      <td>4195.000000</td>\n",
       "      <td>4195.000000</td>\n",
       "      <td>4195.000000</td>\n",
       "      <td>4195.000000</td>\n",
       "      <td>4195.000000</td>\n",
       "      <td>4195.0</td>\n",
       "      <td>...</td>\n",
       "      <td>4195.0</td>\n",
       "      <td>4195.000000</td>\n",
       "      <td>4195.000000</td>\n",
       "      <td>4195.000000</td>\n",
       "      <td>4195.000000</td>\n",
       "      <td>4195.000000</td>\n",
       "      <td>4195.000000</td>\n",
       "      <td>4195.000000</td>\n",
       "      <td>4195.000000</td>\n",
       "      <td>4195.0</td>\n",
       "    </tr>\n",
       "    <tr>\n",
       "      <th>mean</th>\n",
       "      <td>2015.559952</td>\n",
       "      <td>31.516329</td>\n",
       "      <td>2.025030</td>\n",
       "      <td>472.726560</td>\n",
       "      <td>539.990715</td>\n",
       "      <td>787.902265</td>\n",
       "      <td>898.568772</td>\n",
       "      <td>110.666508</td>\n",
       "      <td>0.008582</td>\n",
       "      <td>0.0</td>\n",
       "      <td>...</td>\n",
       "      <td>0.0</td>\n",
       "      <td>0.078188</td>\n",
       "      <td>0.070322</td>\n",
       "      <td>0.018117</td>\n",
       "      <td>0.524195</td>\n",
       "      <td>0.178308</td>\n",
       "      <td>0.201669</td>\n",
       "      <td>0.457926</td>\n",
       "      <td>0.735161</td>\n",
       "      <td>2.0</td>\n",
       "    </tr>\n",
       "    <tr>\n",
       "      <th>std</th>\n",
       "      <td>0.496452</td>\n",
       "      <td>6.281423</td>\n",
       "      <td>0.808628</td>\n",
       "      <td>302.821673</td>\n",
       "      <td>335.409817</td>\n",
       "      <td>310.262351</td>\n",
       "      <td>329.547413</td>\n",
       "      <td>156.662310</td>\n",
       "      <td>0.092250</td>\n",
       "      <td>0.0</td>\n",
       "      <td>...</td>\n",
       "      <td>0.0</td>\n",
       "      <td>0.268500</td>\n",
       "      <td>0.255719</td>\n",
       "      <td>0.133390</td>\n",
       "      <td>0.499474</td>\n",
       "      <td>0.382817</td>\n",
       "      <td>0.401294</td>\n",
       "      <td>0.498286</td>\n",
       "      <td>0.757849</td>\n",
       "      <td>0.0</td>\n",
       "    </tr>\n",
       "    <tr>\n",
       "      <th>min</th>\n",
       "      <td>2015.000000</td>\n",
       "      <td>17.000000</td>\n",
       "      <td>1.000000</td>\n",
       "      <td>46.670000</td>\n",
       "      <td>64.330000</td>\n",
       "      <td>105.000000</td>\n",
       "      <td>130.000000</td>\n",
       "      <td>-829.000000</td>\n",
       "      <td>0.000000</td>\n",
       "      <td>0.0</td>\n",
       "      <td>...</td>\n",
       "      <td>0.0</td>\n",
       "      <td>0.000000</td>\n",
       "      <td>0.000000</td>\n",
       "      <td>0.000000</td>\n",
       "      <td>0.000000</td>\n",
       "      <td>0.000000</td>\n",
       "      <td>0.000000</td>\n",
       "      <td>0.000000</td>\n",
       "      <td>0.000000</td>\n",
       "      <td>2.0</td>\n",
       "    </tr>\n",
       "    <tr>\n",
       "      <th>25%</th>\n",
       "      <td>2015.000000</td>\n",
       "      <td>27.000000</td>\n",
       "      <td>1.000000</td>\n",
       "      <td>261.000000</td>\n",
       "      <td>299.000000</td>\n",
       "      <td>540.000000</td>\n",
       "      <td>643.000000</td>\n",
       "      <td>19.000000</td>\n",
       "      <td>0.000000</td>\n",
       "      <td>0.0</td>\n",
       "      <td>...</td>\n",
       "      <td>0.0</td>\n",
       "      <td>0.000000</td>\n",
       "      <td>0.000000</td>\n",
       "      <td>0.000000</td>\n",
       "      <td>0.000000</td>\n",
       "      <td>0.000000</td>\n",
       "      <td>0.000000</td>\n",
       "      <td>0.000000</td>\n",
       "      <td>0.000000</td>\n",
       "      <td>2.0</td>\n",
       "    </tr>\n",
       "    <tr>\n",
       "      <th>50%</th>\n",
       "      <td>2016.000000</td>\n",
       "      <td>32.000000</td>\n",
       "      <td>2.000000</td>\n",
       "      <td>384.500000</td>\n",
       "      <td>440.330000</td>\n",
       "      <td>769.000000</td>\n",
       "      <td>863.000000</td>\n",
       "      <td>101.000000</td>\n",
       "      <td>0.000000</td>\n",
       "      <td>0.0</td>\n",
       "      <td>...</td>\n",
       "      <td>0.0</td>\n",
       "      <td>0.000000</td>\n",
       "      <td>0.000000</td>\n",
       "      <td>0.000000</td>\n",
       "      <td>1.000000</td>\n",
       "      <td>0.000000</td>\n",
       "      <td>0.000000</td>\n",
       "      <td>0.000000</td>\n",
       "      <td>1.000000</td>\n",
       "      <td>2.0</td>\n",
       "    </tr>\n",
       "    <tr>\n",
       "      <th>75%</th>\n",
       "      <td>2016.000000</td>\n",
       "      <td>37.000000</td>\n",
       "      <td>3.000000</td>\n",
       "      <td>575.000000</td>\n",
       "      <td>685.000000</td>\n",
       "      <td>980.000000</td>\n",
       "      <td>1123.500000</td>\n",
       "      <td>198.000000</td>\n",
       "      <td>0.000000</td>\n",
       "      <td>0.0</td>\n",
       "      <td>...</td>\n",
       "      <td>0.0</td>\n",
       "      <td>0.000000</td>\n",
       "      <td>0.000000</td>\n",
       "      <td>0.000000</td>\n",
       "      <td>1.000000</td>\n",
       "      <td>0.000000</td>\n",
       "      <td>0.000000</td>\n",
       "      <td>1.000000</td>\n",
       "      <td>1.000000</td>\n",
       "      <td>2.0</td>\n",
       "    </tr>\n",
       "    <tr>\n",
       "      <th>max</th>\n",
       "      <td>2016.000000</td>\n",
       "      <td>47.000000</td>\n",
       "      <td>3.000000</td>\n",
       "      <td>2443.000000</td>\n",
       "      <td>1836.000000</td>\n",
       "      <td>2443.000000</td>\n",
       "      <td>1920.000000</td>\n",
       "      <td>681.000000</td>\n",
       "      <td>1.000000</td>\n",
       "      <td>0.0</td>\n",
       "      <td>...</td>\n",
       "      <td>0.0</td>\n",
       "      <td>1.000000</td>\n",
       "      <td>1.000000</td>\n",
       "      <td>1.000000</td>\n",
       "      <td>1.000000</td>\n",
       "      <td>1.000000</td>\n",
       "      <td>1.000000</td>\n",
       "      <td>1.000000</td>\n",
       "      <td>2.000000</td>\n",
       "      <td>2.0</td>\n",
       "    </tr>\n",
       "  </tbody>\n",
       "</table>\n",
       "<p>8 rows × 30 columns</p>\n",
       "</div>"
      ],
      "text/plain": [
       "              year  customer_age     quantity    unit_cost   unit_price  \\\n",
       "count  4195.000000   4195.000000  4195.000000  4195.000000  4195.000000   \n",
       "mean   2015.559952     31.516329     2.025030   472.726560   539.990715   \n",
       "std       0.496452      6.281423     0.808628   302.821673   335.409817   \n",
       "min    2015.000000     17.000000     1.000000    46.670000    64.330000   \n",
       "25%    2015.000000     27.000000     1.000000   261.000000   299.000000   \n",
       "50%    2016.000000     32.000000     2.000000   384.500000   440.330000   \n",
       "75%    2016.000000     37.000000     3.000000   575.000000   685.000000   \n",
       "max    2016.000000     47.000000     3.000000  2443.000000  1836.000000   \n",
       "\n",
       "              cost      revenue       profit  sub_category_Bike Stands  \\\n",
       "count  4195.000000  4195.000000  4195.000000               4195.000000   \n",
       "mean    787.902265   898.568772   110.666508                  0.008582   \n",
       "std     310.262351   329.547413   156.662310                  0.092250   \n",
       "min     105.000000   130.000000  -829.000000                  0.000000   \n",
       "25%     540.000000   643.000000    19.000000                  0.000000   \n",
       "50%     769.000000   863.000000   101.000000                  0.000000   \n",
       "75%     980.000000  1123.500000   198.000000                  0.000000   \n",
       "max    2443.000000  1920.000000   681.000000                  1.000000   \n",
       "\n",
       "       sub_category_Bottles and Cages  ...  sub_category_Socks  \\\n",
       "count                          4195.0  ...              4195.0   \n",
       "mean                              0.0  ...                 0.0   \n",
       "std                               0.0  ...                 0.0   \n",
       "min                               0.0  ...                 0.0   \n",
       "25%                               0.0  ...                 0.0   \n",
       "50%                               0.0  ...                 0.0   \n",
       "75%                               0.0  ...                 0.0   \n",
       "max                               0.0  ...                 0.0   \n",
       "\n",
       "       sub_category_Tires and Tubes  sub_category_Touring Bikes  \\\n",
       "count                   4195.000000                 4195.000000   \n",
       "mean                       0.078188                    0.070322   \n",
       "std                        0.268500                    0.255719   \n",
       "min                        0.000000                    0.000000   \n",
       "25%                        0.000000                    0.000000   \n",
       "50%                        0.000000                    0.000000   \n",
       "75%                        0.000000                    0.000000   \n",
       "max                        1.000000                    1.000000   \n",
       "\n",
       "       sub_category_Vests  customer_gender_M  country_Germany  \\\n",
       "count         4195.000000        4195.000000      4195.000000   \n",
       "mean             0.018117           0.524195         0.178308   \n",
       "std              0.133390           0.499474         0.382817   \n",
       "min              0.000000           0.000000         0.000000   \n",
       "25%              0.000000           0.000000         0.000000   \n",
       "50%              0.000000           1.000000         0.000000   \n",
       "75%              0.000000           1.000000         0.000000   \n",
       "max              1.000000           1.000000         1.000000   \n",
       "\n",
       "       country_United Kingdom  country_United States  \\\n",
       "count             4195.000000            4195.000000   \n",
       "mean                 0.201669               0.457926   \n",
       "std                  0.401294               0.498286   \n",
       "min                  0.000000               0.000000   \n",
       "25%                  0.000000               0.000000   \n",
       "50%                  0.000000               0.000000   \n",
       "75%                  0.000000               1.000000   \n",
       "max                  1.000000               1.000000   \n",
       "\n",
       "       product_category_encoded  clusters  \n",
       "count               4195.000000    4195.0  \n",
       "mean                   0.735161       2.0  \n",
       "std                    0.757849       0.0  \n",
       "min                    0.000000       2.0  \n",
       "25%                    0.000000       2.0  \n",
       "50%                    1.000000       2.0  \n",
       "75%                    1.000000       2.0  \n",
       "max                    2.000000       2.0  \n",
       "\n",
       "[8 rows x 30 columns]"
      ]
     },
     "execution_count": 176,
     "metadata": {},
     "output_type": "execute_result"
    }
   ],
   "source": [
    "# Sporty Cyclist\n",
    "clus_2.describe()"
   ]
  },
  {
   "cell_type": "code",
   "execution_count": 177,
   "id": "d1c4b7e3",
   "metadata": {},
   "outputs": [
    {
     "data": {
      "text/html": [
       "<div>\n",
       "<style scoped>\n",
       "    .dataframe tbody tr th:only-of-type {\n",
       "        vertical-align: middle;\n",
       "    }\n",
       "\n",
       "    .dataframe tbody tr th {\n",
       "        vertical-align: top;\n",
       "    }\n",
       "\n",
       "    .dataframe thead th {\n",
       "        text-align: right;\n",
       "    }\n",
       "</style>\n",
       "<table border=\"1\" class=\"dataframe\">\n",
       "  <thead>\n",
       "    <tr style=\"text-align: right;\">\n",
       "      <th></th>\n",
       "      <th>year</th>\n",
       "      <th>customer_age</th>\n",
       "      <th>quantity</th>\n",
       "      <th>unit_cost</th>\n",
       "      <th>unit_price</th>\n",
       "      <th>cost</th>\n",
       "      <th>revenue</th>\n",
       "      <th>profit</th>\n",
       "      <th>sub_category_Bike Stands</th>\n",
       "      <th>sub_category_Bottles and Cages</th>\n",
       "      <th>...</th>\n",
       "      <th>sub_category_Socks</th>\n",
       "      <th>sub_category_Tires and Tubes</th>\n",
       "      <th>sub_category_Touring Bikes</th>\n",
       "      <th>sub_category_Vests</th>\n",
       "      <th>customer_gender_M</th>\n",
       "      <th>country_Germany</th>\n",
       "      <th>country_United Kingdom</th>\n",
       "      <th>country_United States</th>\n",
       "      <th>product_category_encoded</th>\n",
       "      <th>clusters</th>\n",
       "    </tr>\n",
       "  </thead>\n",
       "  <tbody>\n",
       "    <tr>\n",
       "      <th>count</th>\n",
       "      <td>2438.000000</td>\n",
       "      <td>2438.000000</td>\n",
       "      <td>2438.000000</td>\n",
       "      <td>2438.000000</td>\n",
       "      <td>2438.000000</td>\n",
       "      <td>2438.000000</td>\n",
       "      <td>2438.000000</td>\n",
       "      <td>2438.000000</td>\n",
       "      <td>2438.000000</td>\n",
       "      <td>2438.0</td>\n",
       "      <td>...</td>\n",
       "      <td>2438.0</td>\n",
       "      <td>2438.000000</td>\n",
       "      <td>2438.000000</td>\n",
       "      <td>2438.000000</td>\n",
       "      <td>2438.000000</td>\n",
       "      <td>2438.000000</td>\n",
       "      <td>2438.000000</td>\n",
       "      <td>2438.000000</td>\n",
       "      <td>2438.000000</td>\n",
       "      <td>2438.0</td>\n",
       "    </tr>\n",
       "    <tr>\n",
       "      <th>mean</th>\n",
       "      <td>2015.510254</td>\n",
       "      <td>37.820345</td>\n",
       "      <td>2.029943</td>\n",
       "      <td>1285.346349</td>\n",
       "      <td>1369.409578</td>\n",
       "      <td>2137.664479</td>\n",
       "      <td>2276.822395</td>\n",
       "      <td>139.157916</td>\n",
       "      <td>0.004102</td>\n",
       "      <td>0.0</td>\n",
       "      <td>...</td>\n",
       "      <td>0.0</td>\n",
       "      <td>0.000410</td>\n",
       "      <td>0.159147</td>\n",
       "      <td>0.020919</td>\n",
       "      <td>0.498359</td>\n",
       "      <td>0.192371</td>\n",
       "      <td>0.203445</td>\n",
       "      <td>0.457752</td>\n",
       "      <td>1.082034</td>\n",
       "      <td>3.0</td>\n",
       "    </tr>\n",
       "    <tr>\n",
       "      <th>std</th>\n",
       "      <td>0.499997</td>\n",
       "      <td>9.703045</td>\n",
       "      <td>0.811493</td>\n",
       "      <td>647.059339</td>\n",
       "      <td>701.800257</td>\n",
       "      <td>342.812578</td>\n",
       "      <td>409.816456</td>\n",
       "      <td>332.406714</td>\n",
       "      <td>0.063926</td>\n",
       "      <td>0.0</td>\n",
       "      <td>...</td>\n",
       "      <td>0.0</td>\n",
       "      <td>0.020253</td>\n",
       "      <td>0.365888</td>\n",
       "      <td>0.143142</td>\n",
       "      <td>0.500100</td>\n",
       "      <td>0.394244</td>\n",
       "      <td>0.402644</td>\n",
       "      <td>0.498314</td>\n",
       "      <td>0.383060</td>\n",
       "      <td>0.0</td>\n",
       "    </tr>\n",
       "    <tr>\n",
       "      <th>min</th>\n",
       "      <td>2015.000000</td>\n",
       "      <td>17.000000</td>\n",
       "      <td>1.000000</td>\n",
       "      <td>338.330000</td>\n",
       "      <td>474.330000</td>\n",
       "      <td>945.000000</td>\n",
       "      <td>1369.000000</td>\n",
       "      <td>-836.000000</td>\n",
       "      <td>0.000000</td>\n",
       "      <td>0.0</td>\n",
       "      <td>...</td>\n",
       "      <td>0.0</td>\n",
       "      <td>0.000000</td>\n",
       "      <td>0.000000</td>\n",
       "      <td>0.000000</td>\n",
       "      <td>0.000000</td>\n",
       "      <td>0.000000</td>\n",
       "      <td>0.000000</td>\n",
       "      <td>0.000000</td>\n",
       "      <td>0.000000</td>\n",
       "      <td>3.0</td>\n",
       "    </tr>\n",
       "    <tr>\n",
       "      <th>25%</th>\n",
       "      <td>2015.000000</td>\n",
       "      <td>30.000000</td>\n",
       "      <td>1.000000</td>\n",
       "      <td>773.330000</td>\n",
       "      <td>816.330000</td>\n",
       "      <td>2049.000000</td>\n",
       "      <td>1988.250000</td>\n",
       "      <td>-109.000000</td>\n",
       "      <td>0.000000</td>\n",
       "      <td>0.0</td>\n",
       "      <td>...</td>\n",
       "      <td>0.0</td>\n",
       "      <td>0.000000</td>\n",
       "      <td>0.000000</td>\n",
       "      <td>0.000000</td>\n",
       "      <td>0.000000</td>\n",
       "      <td>0.000000</td>\n",
       "      <td>0.000000</td>\n",
       "      <td>0.000000</td>\n",
       "      <td>1.000000</td>\n",
       "      <td>3.0</td>\n",
       "    </tr>\n",
       "    <tr>\n",
       "      <th>50%</th>\n",
       "      <td>2016.000000</td>\n",
       "      <td>37.000000</td>\n",
       "      <td>2.000000</td>\n",
       "      <td>1147.500000</td>\n",
       "      <td>1098.750000</td>\n",
       "      <td>2295.000000</td>\n",
       "      <td>2243.000000</td>\n",
       "      <td>114.000000</td>\n",
       "      <td>0.000000</td>\n",
       "      <td>0.0</td>\n",
       "      <td>...</td>\n",
       "      <td>0.0</td>\n",
       "      <td>0.000000</td>\n",
       "      <td>0.000000</td>\n",
       "      <td>0.000000</td>\n",
       "      <td>0.000000</td>\n",
       "      <td>0.000000</td>\n",
       "      <td>0.000000</td>\n",
       "      <td>0.000000</td>\n",
       "      <td>1.000000</td>\n",
       "      <td>3.0</td>\n",
       "    </tr>\n",
       "    <tr>\n",
       "      <th>75%</th>\n",
       "      <td>2016.000000</td>\n",
       "      <td>44.000000</td>\n",
       "      <td>3.000000</td>\n",
       "      <td>1960.000000</td>\n",
       "      <td>1942.750000</td>\n",
       "      <td>2384.000000</td>\n",
       "      <td>2532.000000</td>\n",
       "      <td>363.000000</td>\n",
       "      <td>0.000000</td>\n",
       "      <td>0.0</td>\n",
       "      <td>...</td>\n",
       "      <td>0.0</td>\n",
       "      <td>0.000000</td>\n",
       "      <td>0.000000</td>\n",
       "      <td>0.000000</td>\n",
       "      <td>1.000000</td>\n",
       "      <td>0.000000</td>\n",
       "      <td>0.000000</td>\n",
       "      <td>1.000000</td>\n",
       "      <td>1.000000</td>\n",
       "      <td>3.0</td>\n",
       "    </tr>\n",
       "    <tr>\n",
       "      <th>max</th>\n",
       "      <td>2016.000000</td>\n",
       "      <td>75.000000</td>\n",
       "      <td>3.000000</td>\n",
       "      <td>3240.000000</td>\n",
       "      <td>5082.000000</td>\n",
       "      <td>3600.000000</td>\n",
       "      <td>5082.000000</td>\n",
       "      <td>1842.000000</td>\n",
       "      <td>1.000000</td>\n",
       "      <td>0.0</td>\n",
       "      <td>...</td>\n",
       "      <td>0.0</td>\n",
       "      <td>1.000000</td>\n",
       "      <td>1.000000</td>\n",
       "      <td>1.000000</td>\n",
       "      <td>1.000000</td>\n",
       "      <td>1.000000</td>\n",
       "      <td>1.000000</td>\n",
       "      <td>1.000000</td>\n",
       "      <td>2.000000</td>\n",
       "      <td>3.0</td>\n",
       "    </tr>\n",
       "  </tbody>\n",
       "</table>\n",
       "<p>8 rows × 30 columns</p>\n",
       "</div>"
      ],
      "text/plain": [
       "              year  customer_age     quantity    unit_cost   unit_price  \\\n",
       "count  2438.000000   2438.000000  2438.000000  2438.000000  2438.000000   \n",
       "mean   2015.510254     37.820345     2.029943  1285.346349  1369.409578   \n",
       "std       0.499997      9.703045     0.811493   647.059339   701.800257   \n",
       "min    2015.000000     17.000000     1.000000   338.330000   474.330000   \n",
       "25%    2015.000000     30.000000     1.000000   773.330000   816.330000   \n",
       "50%    2016.000000     37.000000     2.000000  1147.500000  1098.750000   \n",
       "75%    2016.000000     44.000000     3.000000  1960.000000  1942.750000   \n",
       "max    2016.000000     75.000000     3.000000  3240.000000  5082.000000   \n",
       "\n",
       "              cost      revenue       profit  sub_category_Bike Stands  \\\n",
       "count  2438.000000  2438.000000  2438.000000               2438.000000   \n",
       "mean   2137.664479  2276.822395   139.157916                  0.004102   \n",
       "std     342.812578   409.816456   332.406714                  0.063926   \n",
       "min     945.000000  1369.000000  -836.000000                  0.000000   \n",
       "25%    2049.000000  1988.250000  -109.000000                  0.000000   \n",
       "50%    2295.000000  2243.000000   114.000000                  0.000000   \n",
       "75%    2384.000000  2532.000000   363.000000                  0.000000   \n",
       "max    3600.000000  5082.000000  1842.000000                  1.000000   \n",
       "\n",
       "       sub_category_Bottles and Cages  ...  sub_category_Socks  \\\n",
       "count                          2438.0  ...              2438.0   \n",
       "mean                              0.0  ...                 0.0   \n",
       "std                               0.0  ...                 0.0   \n",
       "min                               0.0  ...                 0.0   \n",
       "25%                               0.0  ...                 0.0   \n",
       "50%                               0.0  ...                 0.0   \n",
       "75%                               0.0  ...                 0.0   \n",
       "max                               0.0  ...                 0.0   \n",
       "\n",
       "       sub_category_Tires and Tubes  sub_category_Touring Bikes  \\\n",
       "count                   2438.000000                 2438.000000   \n",
       "mean                       0.000410                    0.159147   \n",
       "std                        0.020253                    0.365888   \n",
       "min                        0.000000                    0.000000   \n",
       "25%                        0.000000                    0.000000   \n",
       "50%                        0.000000                    0.000000   \n",
       "75%                        0.000000                    0.000000   \n",
       "max                        1.000000                    1.000000   \n",
       "\n",
       "       sub_category_Vests  customer_gender_M  country_Germany  \\\n",
       "count         2438.000000        2438.000000      2438.000000   \n",
       "mean             0.020919           0.498359         0.192371   \n",
       "std              0.143142           0.500100         0.394244   \n",
       "min              0.000000           0.000000         0.000000   \n",
       "25%              0.000000           0.000000         0.000000   \n",
       "50%              0.000000           0.000000         0.000000   \n",
       "75%              0.000000           1.000000         0.000000   \n",
       "max              1.000000           1.000000         1.000000   \n",
       "\n",
       "       country_United Kingdom  country_United States  \\\n",
       "count             2438.000000            2438.000000   \n",
       "mean                 0.203445               0.457752   \n",
       "std                  0.402644               0.498314   \n",
       "min                  0.000000               0.000000   \n",
       "25%                  0.000000               0.000000   \n",
       "50%                  0.000000               0.000000   \n",
       "75%                  0.000000               1.000000   \n",
       "max                  1.000000               1.000000   \n",
       "\n",
       "       product_category_encoded  clusters  \n",
       "count               2438.000000    2438.0  \n",
       "mean                   1.082034       3.0  \n",
       "std                    0.383060       0.0  \n",
       "min                    0.000000       3.0  \n",
       "25%                    1.000000       3.0  \n",
       "50%                    1.000000       3.0  \n",
       "75%                    1.000000       3.0  \n",
       "max                    2.000000       3.0  \n",
       "\n",
       "[8 rows x 30 columns]"
      ]
     },
     "execution_count": 177,
     "metadata": {},
     "output_type": "execute_result"
    }
   ],
   "source": [
    "# Bike Enthusiast\n",
    "clus_3.describe()"
   ]
  },
  {
   "cell_type": "code",
   "execution_count": null,
   "id": "e685e8e3",
   "metadata": {},
   "outputs": [],
   "source": []
  }
 ],
 "metadata": {
  "kernelspec": {
   "display_name": "Python 3 (ipykernel)",
   "language": "python",
   "name": "python3"
  },
  "language_info": {
   "codemirror_mode": {
    "name": "ipython",
    "version": 3
   },
   "file_extension": ".py",
   "mimetype": "text/x-python",
   "name": "python",
   "nbconvert_exporter": "python",
   "pygments_lexer": "ipython3",
   "version": "3.9.13"
  }
 },
 "nbformat": 4,
 "nbformat_minor": 5
}
