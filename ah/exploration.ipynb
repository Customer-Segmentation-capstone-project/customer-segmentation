{
 "cells": [
  {
   "cell_type": "code",
   "execution_count": 1,
   "id": "c28a03b8",
   "metadata": {},
   "outputs": [],
   "source": [
    "import numpy as np\n",
    "import pandas as pd\n",
    "import wrangle as w\n",
    "import matplotlib.pyplot as plt\n",
    "import seaborn as sns\n",
    "from scipy import stats"
   ]
  },
  {
   "cell_type": "code",
   "execution_count": 2,
   "id": "c2fde039",
   "metadata": {},
   "outputs": [
    {
     "name": "stdout",
     "output_type": "stream",
     "text": [
      "Opening data from local file.\n"
     ]
    }
   ],
   "source": [
    "df, train, val, test = w.wrangle_data()"
   ]
  },
  {
   "cell_type": "code",
   "execution_count": 17,
   "id": "57bed5bc",
   "metadata": {
    "collapsed": true
   },
   "outputs": [
    {
     "name": "stdout",
     "output_type": "stream",
     "text": [
      "Opening data from local file.\n",
      "Cluster 1 Mean:\n",
      "customer_age                       28.105851\n",
      "sub_category_Bike Stands            0.001808\n",
      "sub_category_Bottles and Cages      0.254438\n",
      "sub_category_Caps                   0.076677\n",
      "sub_category_Cleaners               0.024737\n",
      "sub_category_Fenders                0.019888\n",
      "sub_category_Gloves                 0.012410\n",
      "sub_category_Helmets                0.048159\n",
      "sub_category_Hydration Packs        0.004356\n",
      "sub_category_Jerseys                0.024901\n",
      "sub_category_Mountain Bikes         0.003698\n",
      "sub_category_Road Bikes             0.001890\n",
      "sub_category_Shorts                 0.005999\n",
      "sub_category_Socks                  0.017751\n",
      "sub_category_Tires and Tubes        0.499178\n",
      "sub_category_Touring Bikes          0.000247\n",
      "sub_category_Vests                  0.002794\n",
      "revenue                           179.097304\n",
      "dtype: float64\n",
      "\n",
      "Cluster 2 Mean:\n",
      "customer_age                       48.486637\n",
      "sub_category_Bike Stands            0.003155\n",
      "sub_category_Bottles and Cages      0.204065\n",
      "sub_category_Caps                   0.053916\n",
      "sub_category_Cleaners               0.022643\n",
      "sub_category_Fenders                0.030716\n",
      "sub_category_Gloves                 0.017353\n",
      "sub_category_Helmets                0.114421\n",
      "sub_category_Hydration Packs        0.008816\n",
      "sub_category_Jerseys                0.044822\n",
      "sub_category_Mountain Bikes         0.014291\n",
      "sub_category_Road Bikes             0.032758\n",
      "sub_category_Shorts                 0.010301\n",
      "sub_category_Socks                  0.013734\n",
      "sub_category_Tires and Tubes        0.413883\n",
      "sub_category_Touring Bikes          0.007053\n",
      "sub_category_Vests                  0.005754\n",
      "revenue                           322.258630\n",
      "dtype: float64\n",
      "\n",
      "Cluster 3 Mean:\n",
      "customer_age                       31.578626\n",
      "sub_category_Bike Stands            0.009016\n",
      "sub_category_Bottles and Cages      0.000000\n",
      "sub_category_Caps                   0.000398\n",
      "sub_category_Cleaners               0.000000\n",
      "sub_category_Fenders                0.025060\n",
      "sub_category_Gloves                 0.018828\n",
      "sub_category_Helmets                0.310925\n",
      "sub_category_Hydration Packs        0.022673\n",
      "sub_category_Jerseys                0.129011\n",
      "sub_category_Mountain Bikes         0.071864\n",
      "sub_category_Road Bikes             0.217184\n",
      "sub_category_Shorts                 0.026916\n",
      "sub_category_Socks                  0.000000\n",
      "sub_category_Tires and Tubes        0.076372\n",
      "sub_category_Touring Bikes          0.069875\n",
      "sub_category_Vests                  0.017237\n",
      "revenue                           894.242641\n",
      "dtype: float64\n",
      "\n",
      "Cluster 4 Mean:\n",
      "customer_age                        37.871233\n",
      "sub_category_Bike Stands             0.004795\n",
      "sub_category_Bottles and Cages       0.000000\n",
      "sub_category_Caps                    0.000000\n",
      "sub_category_Cleaners                0.000000\n",
      "sub_category_Fenders                 0.000000\n",
      "sub_category_Gloves                  0.000000\n",
      "sub_category_Helmets                 0.002740\n",
      "sub_category_Hydration Packs         0.017580\n",
      "sub_category_Jerseys                 0.055023\n",
      "sub_category_Mountain Bikes          0.455708\n",
      "sub_category_Road Bikes              0.230137\n",
      "sub_category_Shorts                  0.040868\n",
      "sub_category_Socks                   0.000000\n",
      "sub_category_Tires and Tubes         0.000457\n",
      "sub_category_Touring Bikes           0.166210\n",
      "sub_category_Vests                   0.019635\n",
      "revenue                           2271.297489\n",
      "dtype: float64\n",
      "\n",
      "Silhouette Score: 0.247\n"
     ]
    }
   ],
   "source": [
    "df_clus = w.k_means_clustering(4)"
   ]
  },
  {
   "cell_type": "code",
   "execution_count": 19,
   "id": "7c9b380c",
   "metadata": {},
   "outputs": [
    {
     "data": {
      "text/html": [
       "<div>\n",
       "<style scoped>\n",
       "    .dataframe tbody tr th:only-of-type {\n",
       "        vertical-align: middle;\n",
       "    }\n",
       "\n",
       "    .dataframe tbody tr th {\n",
       "        vertical-align: top;\n",
       "    }\n",
       "\n",
       "    .dataframe thead th {\n",
       "        text-align: right;\n",
       "    }\n",
       "</style>\n",
       "<table border=\"1\" class=\"dataframe\">\n",
       "  <thead>\n",
       "    <tr style=\"text-align: right;\">\n",
       "      <th></th>\n",
       "      <th>0</th>\n",
       "      <th>1</th>\n",
       "    </tr>\n",
       "  </thead>\n",
       "  <tbody>\n",
       "    <tr>\n",
       "      <th>date</th>\n",
       "      <td>2016-02-19 00:00:00</td>\n",
       "      <td>2016-02-20 00:00:00</td>\n",
       "    </tr>\n",
       "    <tr>\n",
       "      <th>year</th>\n",
       "      <td>2016</td>\n",
       "      <td>2016</td>\n",
       "    </tr>\n",
       "    <tr>\n",
       "      <th>month</th>\n",
       "      <td>February</td>\n",
       "      <td>February</td>\n",
       "    </tr>\n",
       "    <tr>\n",
       "      <th>customer_age</th>\n",
       "      <td>29</td>\n",
       "      <td>29</td>\n",
       "    </tr>\n",
       "    <tr>\n",
       "      <th>customer_gender</th>\n",
       "      <td>F</td>\n",
       "      <td>F</td>\n",
       "    </tr>\n",
       "    <tr>\n",
       "      <th>country</th>\n",
       "      <td>United States</td>\n",
       "      <td>United States</td>\n",
       "    </tr>\n",
       "    <tr>\n",
       "      <th>state</th>\n",
       "      <td>Washington</td>\n",
       "      <td>Washington</td>\n",
       "    </tr>\n",
       "    <tr>\n",
       "      <th>product_category</th>\n",
       "      <td>Accessories</td>\n",
       "      <td>Clothing</td>\n",
       "    </tr>\n",
       "    <tr>\n",
       "      <th>sub_category</th>\n",
       "      <td>Tires and Tubes</td>\n",
       "      <td>Gloves</td>\n",
       "    </tr>\n",
       "    <tr>\n",
       "      <th>quantity</th>\n",
       "      <td>1</td>\n",
       "      <td>2</td>\n",
       "    </tr>\n",
       "    <tr>\n",
       "      <th>unit_cost</th>\n",
       "      <td>80.0</td>\n",
       "      <td>24.5</td>\n",
       "    </tr>\n",
       "    <tr>\n",
       "      <th>unit_price</th>\n",
       "      <td>109.0</td>\n",
       "      <td>28.5</td>\n",
       "    </tr>\n",
       "    <tr>\n",
       "      <th>cost</th>\n",
       "      <td>80.0</td>\n",
       "      <td>49.0</td>\n",
       "    </tr>\n",
       "    <tr>\n",
       "      <th>revenue</th>\n",
       "      <td>109.0</td>\n",
       "      <td>57.0</td>\n",
       "    </tr>\n",
       "    <tr>\n",
       "      <th>profit</th>\n",
       "      <td>29.0</td>\n",
       "      <td>8.0</td>\n",
       "    </tr>\n",
       "    <tr>\n",
       "      <th>sub_category_Bike Stands</th>\n",
       "      <td>0</td>\n",
       "      <td>0</td>\n",
       "    </tr>\n",
       "    <tr>\n",
       "      <th>sub_category_Bottles and Cages</th>\n",
       "      <td>0</td>\n",
       "      <td>0</td>\n",
       "    </tr>\n",
       "    <tr>\n",
       "      <th>sub_category_Caps</th>\n",
       "      <td>0</td>\n",
       "      <td>0</td>\n",
       "    </tr>\n",
       "    <tr>\n",
       "      <th>sub_category_Cleaners</th>\n",
       "      <td>0</td>\n",
       "      <td>0</td>\n",
       "    </tr>\n",
       "    <tr>\n",
       "      <th>sub_category_Fenders</th>\n",
       "      <td>0</td>\n",
       "      <td>0</td>\n",
       "    </tr>\n",
       "    <tr>\n",
       "      <th>sub_category_Gloves</th>\n",
       "      <td>0</td>\n",
       "      <td>1</td>\n",
       "    </tr>\n",
       "    <tr>\n",
       "      <th>sub_category_Helmets</th>\n",
       "      <td>0</td>\n",
       "      <td>0</td>\n",
       "    </tr>\n",
       "    <tr>\n",
       "      <th>sub_category_Hydration Packs</th>\n",
       "      <td>0</td>\n",
       "      <td>0</td>\n",
       "    </tr>\n",
       "    <tr>\n",
       "      <th>sub_category_Jerseys</th>\n",
       "      <td>0</td>\n",
       "      <td>0</td>\n",
       "    </tr>\n",
       "    <tr>\n",
       "      <th>sub_category_Mountain Bikes</th>\n",
       "      <td>0</td>\n",
       "      <td>0</td>\n",
       "    </tr>\n",
       "    <tr>\n",
       "      <th>sub_category_Road Bikes</th>\n",
       "      <td>0</td>\n",
       "      <td>0</td>\n",
       "    </tr>\n",
       "    <tr>\n",
       "      <th>sub_category_Shorts</th>\n",
       "      <td>0</td>\n",
       "      <td>0</td>\n",
       "    </tr>\n",
       "    <tr>\n",
       "      <th>sub_category_Socks</th>\n",
       "      <td>0</td>\n",
       "      <td>0</td>\n",
       "    </tr>\n",
       "    <tr>\n",
       "      <th>sub_category_Tires and Tubes</th>\n",
       "      <td>1</td>\n",
       "      <td>0</td>\n",
       "    </tr>\n",
       "    <tr>\n",
       "      <th>sub_category_Touring Bikes</th>\n",
       "      <td>0</td>\n",
       "      <td>0</td>\n",
       "    </tr>\n",
       "    <tr>\n",
       "      <th>sub_category_Vests</th>\n",
       "      <td>0</td>\n",
       "      <td>0</td>\n",
       "    </tr>\n",
       "    <tr>\n",
       "      <th>customer_gender_M</th>\n",
       "      <td>0</td>\n",
       "      <td>0</td>\n",
       "    </tr>\n",
       "    <tr>\n",
       "      <th>country_Germany</th>\n",
       "      <td>0</td>\n",
       "      <td>0</td>\n",
       "    </tr>\n",
       "    <tr>\n",
       "      <th>country_United Kingdom</th>\n",
       "      <td>0</td>\n",
       "      <td>0</td>\n",
       "    </tr>\n",
       "    <tr>\n",
       "      <th>country_United States</th>\n",
       "      <td>1</td>\n",
       "      <td>1</td>\n",
       "    </tr>\n",
       "    <tr>\n",
       "      <th>product_category_encoded</th>\n",
       "      <td>0</td>\n",
       "      <td>2</td>\n",
       "    </tr>\n",
       "    <tr>\n",
       "      <th>clusters</th>\n",
       "      <td>0</td>\n",
       "      <td>0</td>\n",
       "    </tr>\n",
       "  </tbody>\n",
       "</table>\n",
       "</div>"
      ],
      "text/plain": [
       "                                                  0                    1\n",
       "date                            2016-02-19 00:00:00  2016-02-20 00:00:00\n",
       "year                                           2016                 2016\n",
       "month                                      February             February\n",
       "customer_age                                     29                   29\n",
       "customer_gender                                   F                    F\n",
       "country                               United States        United States\n",
       "state                                    Washington           Washington\n",
       "product_category                        Accessories             Clothing\n",
       "sub_category                        Tires and Tubes               Gloves\n",
       "quantity                                          1                    2\n",
       "unit_cost                                      80.0                 24.5\n",
       "unit_price                                    109.0                 28.5\n",
       "cost                                           80.0                 49.0\n",
       "revenue                                       109.0                 57.0\n",
       "profit                                         29.0                  8.0\n",
       "sub_category_Bike Stands                          0                    0\n",
       "sub_category_Bottles and Cages                    0                    0\n",
       "sub_category_Caps                                 0                    0\n",
       "sub_category_Cleaners                             0                    0\n",
       "sub_category_Fenders                              0                    0\n",
       "sub_category_Gloves                               0                    1\n",
       "sub_category_Helmets                              0                    0\n",
       "sub_category_Hydration Packs                      0                    0\n",
       "sub_category_Jerseys                              0                    0\n",
       "sub_category_Mountain Bikes                       0                    0\n",
       "sub_category_Road Bikes                           0                    0\n",
       "sub_category_Shorts                               0                    0\n",
       "sub_category_Socks                                0                    0\n",
       "sub_category_Tires and Tubes                      1                    0\n",
       "sub_category_Touring Bikes                        0                    0\n",
       "sub_category_Vests                                0                    0\n",
       "customer_gender_M                                 0                    0\n",
       "country_Germany                                   0                    0\n",
       "country_United Kingdom                            0                    0\n",
       "country_United States                             1                    1\n",
       "product_category_encoded                          0                    2\n",
       "clusters                                          0                    0"
      ]
     },
     "execution_count": 19,
     "metadata": {},
     "output_type": "execute_result"
    }
   ],
   "source": [
    "df_clus.head(2).T"
   ]
  },
  {
   "cell_type": "code",
   "execution_count": 20,
   "id": "be7f5024",
   "metadata": {},
   "outputs": [],
   "source": [
    "train_clus, val_clus, test_clus = w.split_data(df_clus)"
   ]
  },
  {
   "cell_type": "code",
   "execution_count": null,
   "id": "1bde5943",
   "metadata": {},
   "outputs": [],
   "source": []
  },
  {
   "cell_type": "markdown",
   "id": "6127f621",
   "metadata": {},
   "source": [
    "# Univarite Analysis"
   ]
  },
  {
   "cell_type": "code",
   "execution_count": 12,
   "id": "111d1a8d",
   "metadata": {},
   "outputs": [],
   "source": [
    "explore_cols = [\n",
    "     'date',\n",
    "     'year',\n",
    "     'month',\n",
    "     'customer_gender',\n",
    "     'country',\n",
    "     'state',\n",
    "     'product_category',\n",
    "     'sub_category',\n",
    "     'quantity',\n",
    "     'customer_age', \n",
    "     'unit_cost', \n",
    "     'unit_price', \n",
    "     'cost', \n",
    "     'revenue', \n",
    "     'total_price']"
   ]
  },
  {
   "cell_type": "code",
   "execution_count": null,
   "id": "78953eca",
   "metadata": {},
   "outputs": [],
   "source": []
  },
  {
   "cell_type": "code",
   "execution_count": 13,
   "id": "1898cdcf",
   "metadata": {},
   "outputs": [],
   "source": [
    "cat_cols, num_cols = [], []\n",
    "for col in train.columns:\n",
    "    if train[col].dtype == 'O':\n",
    "        cat_cols.append(col)\n",
    "    elif train[col].dtype == 'datetime64[ns]':\n",
    "        cat_cols.append(col)\n",
    "    else:\n",
    "        if train[col].nunique() < 10:\n",
    "            cat_cols.append(col)\n",
    "        else:\n",
    "            num_cols.append(col)"
   ]
  },
  {
   "cell_type": "code",
   "execution_count": 14,
   "id": "4222ff06",
   "metadata": {},
   "outputs": [
    {
     "data": {
      "text/plain": [
       "['date',\n",
       " 'year',\n",
       " 'month',\n",
       " 'customer_gender',\n",
       " 'country',\n",
       " 'state',\n",
       " 'product_category',\n",
       " 'sub_category',\n",
       " 'quantity',\n",
       " 'sub_category_Bike Stands',\n",
       " 'sub_category_Bottles and Cages',\n",
       " 'sub_category_Caps',\n",
       " 'sub_category_Cleaners',\n",
       " 'sub_category_Fenders',\n",
       " 'sub_category_Gloves',\n",
       " 'sub_category_Helmets',\n",
       " 'sub_category_Hydration Packs',\n",
       " 'sub_category_Jerseys',\n",
       " 'sub_category_Mountain Bikes',\n",
       " 'sub_category_Road Bikes',\n",
       " 'sub_category_Shorts',\n",
       " 'sub_category_Socks',\n",
       " 'sub_category_Tires and Tubes',\n",
       " 'sub_category_Touring Bikes',\n",
       " 'sub_category_Vests',\n",
       " 'customer_gender_M',\n",
       " 'country_Germany',\n",
       " 'country_United Kingdom',\n",
       " 'country_United States',\n",
       " 'product_category_encoded']"
      ]
     },
     "execution_count": 14,
     "metadata": {},
     "output_type": "execute_result"
    }
   ],
   "source": [
    "cat_cols"
   ]
  },
  {
   "cell_type": "code",
   "execution_count": 15,
   "id": "7b72f2d6",
   "metadata": {},
   "outputs": [
    {
     "data": {
      "text/plain": [
       "['customer_age', 'unit_cost', 'unit_price', 'cost', 'revenue', 'profit']"
      ]
     },
     "execution_count": 15,
     "metadata": {},
     "output_type": "execute_result"
    }
   ],
   "source": [
    "num_cols"
   ]
  },
  {
   "cell_type": "code",
   "execution_count": 16,
   "id": "0ee2c4b0",
   "metadata": {},
   "outputs": [
    {
     "name": "stdout",
     "output_type": "stream",
     "text": [
      "Univariate assessment of feature date:\n"
     ]
    },
    {
     "data": {
      "image/png": "[encoded data removed]",
      "text/plain": [
       "<Figure size 640x480 with 1 Axes>"
      ]
     },
     "metadata": {},
     "output_type": "display_data"
    },
    {
     "name": "stdout",
     "output_type": "stream",
     "text": [
      "            date      date\n",
      "2016-03-01   127  0.006505\n",
      "2016-06-14    95  0.004866\n",
      "2016-04-19    94  0.004815\n",
      "2016-06-28    88  0.004507\n",
      "2016-02-20    88  0.004507\n",
      "...          ...       ...\n",
      "2015-05-11     1  0.000051\n",
      "2015-06-25     1  0.000051\n",
      "2015-04-20     1  0.000051\n",
      "2015-02-23     1  0.000051\n",
      "2015-01-27     1  0.000051\n",
      "\n",
      "[567 rows x 2 columns]\n",
      "------------------------------\n",
      "------------------------------\n",
      "Univariate assessment of feature year:\n"
     ]
    },
    {
     "data": {
      "image/png": "[encoded data removed]",
      "text/plain": [
       "<Figure size 640x480 with 1 Axes>"
      ]
     },
     "metadata": {},
     "output_type": "display_data"
    },
    {
     "name": "stdout",
     "output_type": "stream",
     "text": [
      "       year      year\n",
      "2016  11171  0.572168\n",
      "2015   8353  0.427832\n",
      "------------------------------\n",
      "------------------------------\n",
      "Univariate assessment of feature month:\n"
     ]
    },
    {
     "data": {
      "image/png": "[encoded data removed]",
      "text/plain": [
       "<Figure size 640x480 with 1 Axes>"
      ]
     },
     "metadata": {},
     "output_type": "display_data"
    },
    {
     "name": "stdout",
     "output_type": "stream",
     "text": [
      "           month     month\n",
      "May         2052  0.105101\n",
      "June        2043  0.104640\n",
      "December    1851  0.094806\n",
      "April       1827  0.093577\n",
      "March       1798  0.092092\n",
      "January     1642  0.084102\n",
      "February    1624  0.083180\n",
      "October     1456  0.074575\n",
      "November    1401  0.071758\n",
      "August      1295  0.066329\n",
      "July        1275  0.065304\n",
      "September   1260  0.064536\n",
      "------------------------------\n",
      "------------------------------\n",
      "Univariate assessment of feature customer_gender:\n"
     ]
    },
    {
     "data": {
      "image/png": "[encoded data removed]",
      "text/plain": [
       "<Figure size 640x480 with 1 Axes>"
      ]
     },
     "metadata": {},
     "output_type": "display_data"
    },
    {
     "name": "stdout",
     "output_type": "stream",
     "text": [
      "   customer_gender  customer_gender\n",
      "M             9919         0.508041\n",
      "F             9605         0.491959\n",
      "------------------------------\n",
      "------------------------------\n",
      "Univariate assessment of feature country:\n"
     ]
    },
    {
     "data": {
      "image/png": "[encoded data removed]",
      "text/plain": [
       "<Figure size 640x480 with 1 Axes>"
      ]
     },
     "metadata": {},
     "output_type": "display_data"
    },
    {
     "name": "stdout",
     "output_type": "stream",
     "text": [
      "                country   country\n",
      "United States     10154  0.520078\n",
      "United Kingdom     3594  0.184081\n",
      "Germany            2959  0.151557\n",
      "France             2817  0.144284\n",
      "------------------------------\n",
      "------------------------------\n",
      "Univariate assessment of feature state:\n"
     ]
    },
    {
     "data": {
      "image/png": "[encoded data removed]",
      "text/plain": [
       "<Figure size 640x480 with 1 Axes>"
      ]
     },
     "metadata": {},
     "output_type": "display_data"
    },
    {
     "name": "stdout",
     "output_type": "stream",
     "text": [
      "                     state     state\n",
      "California            5842  0.299221\n",
      "England               3594  0.184081\n",
      "Washington            2856  0.146281\n",
      "Oregon                1407  0.072065\n",
      "Saarland               744  0.038107\n",
      "Nordrhein-Westfalen    672  0.034419\n",
      "Hessen                 639  0.032729\n",
      "Seine (Paris)          619  0.031705\n",
      "Hamburg                480  0.024585\n",
      "Seine Saint Denis      438  0.022434\n",
      "Nord                   397  0.020334\n",
      "Bayern                 378  0.019361\n",
      "Hauts de Seine         267  0.013675\n",
      "Essonne                259  0.013266\n",
      "Yveline                246  0.012600\n",
      "Loiret                 104  0.005327\n",
      "Seine et Marne         100  0.005122\n",
      "Moselle                 95  0.004866\n",
      "Val d'Oise              75  0.003841\n",
      "Garonne (Haute)         54  0.002766\n",
      "Brandenburg             46  0.002356\n",
      "Charente-Maritime       42  0.002151\n",
      "Val de Marne            38  0.001946\n",
      "Somme                   35  0.001793\n",
      "Loir et Cher            25  0.001280\n",
      "Pas de Calais           23  0.001178\n",
      "Ohio                     9  0.000461\n",
      "New York                 6  0.000307\n",
      "Illinois                 6  0.000307\n",
      "Florida                  4  0.000205\n",
      "South Carolina           4  0.000205\n",
      "Texas                    4  0.000205\n",
      "Minnesota                3  0.000154\n",
      "Kentucky                 2  0.000102\n",
      "Utah                     2  0.000102\n",
      "Wyoming                  2  0.000102\n",
      "Virginia                 1  0.000051\n",
      "Mississippi              1  0.000051\n",
      "Alabama                  1  0.000051\n",
      "Georgia                  1  0.000051\n",
      "Massachusetts            1  0.000051\n",
      "Montana                  1  0.000051\n",
      "North Carolina           1  0.000051\n",
      "------------------------------\n",
      "------------------------------\n",
      "Univariate assessment of feature product_category:\n"
     ]
    },
    {
     "data": {
      "image/png": "[encoded data removed]",
      "text/plain": [
       "<Figure size 640x480 with 1 Axes>"
      ]
     },
     "metadata": {},
     "output_type": "display_data"
    },
    {
     "name": "stdout",
     "output_type": "stream",
     "text": [
      "             product_category  product_category\n",
      "Accessories             12716          0.651301\n",
      "Bikes                    3916          0.200574\n",
      "Clothing                 2892          0.148125\n",
      "------------------------------\n",
      "------------------------------\n",
      "Univariate assessment of feature sub_category:\n"
     ]
    },
    {
     "data": {
      "image/png": "[encoded data removed]",
      "text/plain": [
       "<Figure size 640x480 with 1 Axes>"
      ]
     },
     "metadata": {},
     "output_type": "display_data"
    },
    {
     "name": "stdout",
     "output_type": "stream",
     "text": [
      "                   sub_category  sub_category\n",
      "Tires and Tubes            6284      0.321860\n",
      "Bottles and Cages          2969      0.152069\n",
      "Helmets                    2356      0.120672\n",
      "Road Bikes                 1653      0.084665\n",
      "Mountain Bikes             1530      0.078365\n",
      "Jerseys                    1111      0.056904\n",
      "Caps                        824      0.042204\n",
      "Touring Bikes               733      0.037544\n",
      "Fenders                     422      0.021614\n",
      "Shorts                      316      0.016185\n",
      "Cleaners                    304      0.015571\n",
      "Gloves                      260      0.013317\n",
      "Hydration Packs             236      0.012088\n",
      "Socks                       199      0.010193\n",
      "Vests                       182      0.009322\n",
      "Bike Stands                  81      0.004149\n",
      "Bike Racks                   64      0.003278\n",
      "------------------------------\n",
      "------------------------------\n",
      "Univariate assessment of feature quantity:\n"
     ]
    },
    {
     "data": {
      "image/png": "[encoded data removed]",
      "text/plain": [
       "<Figure size 640x480 with 1 Axes>"
      ]
     },
     "metadata": {},
     "output_type": "display_data"
    },
    {
     "name": "stdout",
     "output_type": "stream",
     "text": [
      "   quantity  quantity\n",
      "2      6627  0.339428\n",
      "3      6495  0.332667\n",
      "1      6402  0.327904\n",
      "------------------------------\n",
      "------------------------------\n",
      "Univariate Feature analysis of feature customer_age:\n"
     ]
    },
    {
     "data": {
      "image/png": "[encoded data removed]",
      "text/plain": [
       "<Figure size 640x480 with 1 Axes>"
      ]
     },
     "metadata": {},
     "output_type": "display_data"
    },
    {
     "data": {
      "image/png": "[encoded data removed]",
      "text/plain": [
       "<Figure size 640x480 with 1 Axes>"
      ]
     },
     "metadata": {},
     "output_type": "display_data"
    },
    {
     "name": "stdout",
     "output_type": "stream",
     "text": [
      "------------------------------\n",
      "------------------------------\n",
      "Univariate Feature analysis of feature unit_cost:\n"
     ]
    },
    {
     "data": {
      "image/png": "[encoded data removed]",
      "text/plain": [
       "<Figure size 640x480 with 1 Axes>"
      ]
     },
     "metadata": {},
     "output_type": "display_data"
    },
    {
     "data": {
      "image/png": "[encoded data removed]",
      "text/plain": [
       "<Figure size 640x480 with 1 Axes>"
      ]
     },
     "metadata": {},
     "output_type": "display_data"
    },
    {
     "name": "stdout",
     "output_type": "stream",
     "text": [
      "------------------------------\n",
      "------------------------------\n",
      "Univariate Feature analysis of feature unit_price:\n"
     ]
    },
    {
     "data": {
      "image/png": "[encoded data removed]",
      "text/plain": [
       "<Figure size 640x480 with 1 Axes>"
      ]
     },
     "metadata": {},
     "output_type": "display_data"
    },
    {
     "data": {
      "image/png": "[encoded data removed]",
      "text/plain": [
       "<Figure size 640x480 with 1 Axes>"
      ]
     },
     "metadata": {},
     "output_type": "display_data"
    },
    {
     "name": "stdout",
     "output_type": "stream",
     "text": [
      "------------------------------\n",
      "------------------------------\n",
      "Univariate Feature analysis of feature cost:\n"
     ]
    },
    {
     "data": {
      "image/png": "[encoded data removed]",
      "text/plain": [
       "<Figure size 640x480 with 1 Axes>"
      ]
     },
     "metadata": {},
     "output_type": "display_data"
    },
    {
     "data": {
      "image/png": "[encoded data removed]",
      "text/plain": [
       "<Figure size 640x480 with 1 Axes>"
      ]
     },
     "metadata": {},
     "output_type": "display_data"
    },
    {
     "name": "stdout",
     "output_type": "stream",
     "text": [
      "------------------------------\n",
      "------------------------------\n",
      "Univariate Feature analysis of feature revenue:\n"
     ]
    },
    {
     "data": {
      "image/png": "[encoded data removed]",
      "text/plain": [
       "<Figure size 640x480 with 1 Axes>"
      ]
     },
     "metadata": {},
     "output_type": "display_data"
    },
    {
     "data": {
      "image/png": "[encoded data removed]",
      "text/plain": [
       "<Figure size 640x480 with 1 Axes>"
      ]
     },
     "metadata": {},
     "output_type": "display_data"
    },
    {
     "name": "stdout",
     "output_type": "stream",
     "text": [
      "------------------------------\n",
      "------------------------------\n",
      "Univariate Feature analysis of feature total_price:\n"
     ]
    },
    {
     "ename": "KeyError",
     "evalue": "'total_price'",
     "output_type": "error",
     "traceback": [
      "\u001b[0;31m---------------------------------------------------------------------------\u001b[0m",
      "\u001b[0;31mKeyError\u001b[0m                                  Traceback (most recent call last)",
      "\u001b[0;32m/opt/anaconda3/lib/python3.9/site-packages/pandas/core/indexes/base.py\u001b[0m in \u001b[0;36mget_loc\u001b[0;34m(self, key, method, tolerance)\u001b[0m\n\u001b[1;32m   3628\u001b[0m             \u001b[0;32mtry\u001b[0m\u001b[0;34m:\u001b[0m\u001b[0;34m\u001b[0m\u001b[0;34m\u001b[0m\u001b[0m\n\u001b[0;32m-> 3629\u001b[0;31m                 \u001b[0;32mreturn\u001b[0m \u001b[0mself\u001b[0m\u001b[0;34m.\u001b[0m\u001b[0m_engine\u001b[0m\u001b[0;34m.\u001b[0m\u001b[0mget_loc\u001b[0m\u001b[0;34m(\u001b[0m\u001b[0mcasted_key\u001b[0m\u001b[0;34m)\u001b[0m\u001b[0;34m\u001b[0m\u001b[0;34m\u001b[0m\u001b[0m\n\u001b[0m\u001b[1;32m   3630\u001b[0m             \u001b[0;32mexcept\u001b[0m \u001b[0mKeyError\u001b[0m \u001b[0;32mas\u001b[0m \u001b[0merr\u001b[0m\u001b[0;34m:\u001b[0m\u001b[0;34m\u001b[0m\u001b[0;34m\u001b[0m\u001b[0m\n",
      "\u001b[0;32m/opt/anaconda3/lib/python3.9/site-packages/pandas/_libs/index.pyx\u001b[0m in \u001b[0;36mpandas._libs.index.IndexEngine.get_loc\u001b[0;34m()\u001b[0m\n",
      "\u001b[0;32m/opt/anaconda3/lib/python3.9/site-packages/pandas/_libs/index.pyx\u001b[0m in \u001b[0;36mpandas._libs.index.IndexEngine.get_loc\u001b[0;34m()\u001b[0m\n",
      "\u001b[0;32mpandas/_libs/hashtable_class_helper.pxi\u001b[0m in \u001b[0;36mpandas._libs.hashtable.PyObjectHashTable.get_item\u001b[0;34m()\u001b[0m\n",
      "\u001b[0;32mpandas/_libs/hashtable_class_helper.pxi\u001b[0m in \u001b[0;36mpandas._libs.hashtable.PyObjectHashTable.get_item\u001b[0;34m()\u001b[0m\n",
      "\u001b[0;31mKeyError\u001b[0m: 'total_price'",
      "\nThe above exception was the direct cause of the following exception:\n",
      "\u001b[0;31mKeyError\u001b[0m                                  Traceback (most recent call last)",
      "\u001b[0;32m/var/folders/49/v6sf5vy165dghytk4qv6jfhc0000gn/T/ipykernel_1240/1112240853.py\u001b[0m in \u001b[0;36m<module>\u001b[0;34m\u001b[0m\n\u001b[1;32m     11\u001b[0m     \u001b[0;32melse\u001b[0m\u001b[0;34m:\u001b[0m\u001b[0;34m\u001b[0m\u001b[0;34m\u001b[0m\u001b[0m\n\u001b[1;32m     12\u001b[0m         \u001b[0mprint\u001b[0m\u001b[0;34m(\u001b[0m\u001b[0;34mf'Univariate Feature analysis of feature {col}:'\u001b[0m\u001b[0;34m)\u001b[0m\u001b[0;34m\u001b[0m\u001b[0;34m\u001b[0m\u001b[0m\n\u001b[0;32m---> 13\u001b[0;31m         \u001b[0mplt\u001b[0m\u001b[0;34m.\u001b[0m\u001b[0mhist\u001b[0m\u001b[0;34m(\u001b[0m\u001b[0mtrain\u001b[0m\u001b[0;34m[\u001b[0m\u001b[0mcol\u001b[0m\u001b[0;34m]\u001b[0m\u001b[0;34m)\u001b[0m\u001b[0;34m\u001b[0m\u001b[0;34m\u001b[0m\u001b[0m\n\u001b[0m\u001b[1;32m     14\u001b[0m         \u001b[0mplt\u001b[0m\u001b[0;34m.\u001b[0m\u001b[0mxticks\u001b[0m\u001b[0;34m(\u001b[0m\u001b[0mrotation\u001b[0m\u001b[0;34m=\u001b[0m\u001b[0;36m90\u001b[0m\u001b[0;34m)\u001b[0m\u001b[0;34m\u001b[0m\u001b[0;34m\u001b[0m\u001b[0m\n\u001b[1;32m     15\u001b[0m         \u001b[0mplt\u001b[0m\u001b[0;34m.\u001b[0m\u001b[0mshow\u001b[0m\u001b[0;34m(\u001b[0m\u001b[0;34m)\u001b[0m\u001b[0;34m\u001b[0m\u001b[0;34m\u001b[0m\u001b[0m\n",
      "\u001b[0;32m/opt/anaconda3/lib/python3.9/site-packages/pandas/core/frame.py\u001b[0m in \u001b[0;36m__getitem__\u001b[0;34m(self, key)\u001b[0m\n\u001b[1;32m   3503\u001b[0m             \u001b[0;32mif\u001b[0m \u001b[0mself\u001b[0m\u001b[0;34m.\u001b[0m\u001b[0mcolumns\u001b[0m\u001b[0;34m.\u001b[0m\u001b[0mnlevels\u001b[0m \u001b[0;34m>\u001b[0m \u001b[0;36m1\u001b[0m\u001b[0;34m:\u001b[0m\u001b[0;34m\u001b[0m\u001b[0;34m\u001b[0m\u001b[0m\n\u001b[1;32m   3504\u001b[0m                 \u001b[0;32mreturn\u001b[0m \u001b[0mself\u001b[0m\u001b[0;34m.\u001b[0m\u001b[0m_getitem_multilevel\u001b[0m\u001b[0;34m(\u001b[0m\u001b[0mkey\u001b[0m\u001b[0;34m)\u001b[0m\u001b[0;34m\u001b[0m\u001b[0;34m\u001b[0m\u001b[0m\n\u001b[0;32m-> 3505\u001b[0;31m             \u001b[0mindexer\u001b[0m \u001b[0;34m=\u001b[0m \u001b[0mself\u001b[0m\u001b[0;34m.\u001b[0m\u001b[0mcolumns\u001b[0m\u001b[0;34m.\u001b[0m\u001b[0mget_loc\u001b[0m\u001b[0;34m(\u001b[0m\u001b[0mkey\u001b[0m\u001b[0;34m)\u001b[0m\u001b[0;34m\u001b[0m\u001b[0;34m\u001b[0m\u001b[0m\n\u001b[0m\u001b[1;32m   3506\u001b[0m             \u001b[0;32mif\u001b[0m \u001b[0mis_integer\u001b[0m\u001b[0;34m(\u001b[0m\u001b[0mindexer\u001b[0m\u001b[0;34m)\u001b[0m\u001b[0;34m:\u001b[0m\u001b[0;34m\u001b[0m\u001b[0;34m\u001b[0m\u001b[0m\n\u001b[1;32m   3507\u001b[0m                 \u001b[0mindexer\u001b[0m \u001b[0;34m=\u001b[0m \u001b[0;34m[\u001b[0m\u001b[0mindexer\u001b[0m\u001b[0;34m]\u001b[0m\u001b[0;34m\u001b[0m\u001b[0;34m\u001b[0m\u001b[0m\n",
      "\u001b[0;32m/opt/anaconda3/lib/python3.9/site-packages/pandas/core/indexes/base.py\u001b[0m in \u001b[0;36mget_loc\u001b[0;34m(self, key, method, tolerance)\u001b[0m\n\u001b[1;32m   3629\u001b[0m                 \u001b[0;32mreturn\u001b[0m \u001b[0mself\u001b[0m\u001b[0;34m.\u001b[0m\u001b[0m_engine\u001b[0m\u001b[0;34m.\u001b[0m\u001b[0mget_loc\u001b[0m\u001b[0;34m(\u001b[0m\u001b[0mcasted_key\u001b[0m\u001b[0;34m)\u001b[0m\u001b[0;34m\u001b[0m\u001b[0;34m\u001b[0m\u001b[0m\n\u001b[1;32m   3630\u001b[0m             \u001b[0;32mexcept\u001b[0m \u001b[0mKeyError\u001b[0m \u001b[0;32mas\u001b[0m \u001b[0merr\u001b[0m\u001b[0;34m:\u001b[0m\u001b[0;34m\u001b[0m\u001b[0;34m\u001b[0m\u001b[0m\n\u001b[0;32m-> 3631\u001b[0;31m                 \u001b[0;32mraise\u001b[0m \u001b[0mKeyError\u001b[0m\u001b[0;34m(\u001b[0m\u001b[0mkey\u001b[0m\u001b[0;34m)\u001b[0m \u001b[0;32mfrom\u001b[0m \u001b[0merr\u001b[0m\u001b[0;34m\u001b[0m\u001b[0;34m\u001b[0m\u001b[0m\n\u001b[0m\u001b[1;32m   3632\u001b[0m             \u001b[0;32mexcept\u001b[0m \u001b[0mTypeError\u001b[0m\u001b[0;34m:\u001b[0m\u001b[0;34m\u001b[0m\u001b[0;34m\u001b[0m\u001b[0m\n\u001b[1;32m   3633\u001b[0m                 \u001b[0;31m# If we have a listlike key, _check_indexing_error will raise\u001b[0m\u001b[0;34m\u001b[0m\u001b[0;34m\u001b[0m\u001b[0m\n",
      "\u001b[0;31mKeyError\u001b[0m: 'total_price'"
     ]
    }
   ],
   "source": [
    "for col in explore_cols:\n",
    "    if col in cat_cols:\n",
    "        print(f'Univariate assessment of feature {col}:')\n",
    "        sns.countplot(data=train, x=col)\n",
    "        plt.xticks(rotation=90)\n",
    "        plt.show()\n",
    "        print(\n",
    "            pd.concat([train[col].value_counts(),\n",
    "            train[col].value_counts(normalize=True)],\n",
    "                 axis=1))\n",
    "    else:\n",
    "        print(f'Univariate Feature analysis of feature {col}:')\n",
    "        plt.hist(train[col])\n",
    "        plt.xticks(rotation=90)\n",
    "        plt.show()\n",
    "        sns.boxplot(data=train, x=col)\n",
    "#         plt.xticks(rotation=90)\n",
    "        plt.show()\n",
    "        train[col].describe()\n",
    "    print('------------------------------')\n",
    "    print('------------------------------')"
   ]
  },
  {
   "cell_type": "markdown",
   "id": "13aaca80",
   "metadata": {},
   "source": [
    "### Findings: \n",
    "- May and June are the highest selling months, followed by December and April\n",
    "- 50% of our customer are aged 28-44\n",
    "- Gender is about equal among customers\n",
    "- USA has ordered over 2x as many times as the other countries\n",
    "- California, Washington and Oregon have the highest number of sales\n",
    "- Accessories are sold almost 3x as much as other categories\n",
    "- 'Tires and Tubes', 'Bottles and Cages' and Helmets are the highest selling sub categories"
   ]
  },
  {
   "cell_type": "markdown",
   "id": "d70b3d19",
   "metadata": {},
   "source": [
    "## Bivariate"
   ]
  },
  {
   "cell_type": "code",
   "execution_count": null,
   "id": "d4aef860",
   "metadata": {},
   "outputs": [],
   "source": [
    "def get_corr_heatmap(train, num_cols):\n",
    "    '''\n",
    "    This function will display a heatmap of the potential correlations between variables in \n",
    "    our dataset\n",
    "    '''\n",
    "    # get the correlation values\n",
    "    corr_matrix = train[num_cols].corr()\n",
    "    # create a plot\n",
    "    plt.figure(figsize=(10,10))\n",
    "    # plot a heatmap of the correlations\n",
    "    sns.heatmap(corr_matrix, annot=True, cmap='coolwarm')\n",
    "    # add a title\n",
    "    plt.title('Heat Map of Correlation')\n",
    "    # display the plot\n",
    "    plt.show()"
   ]
  },
  {
   "cell_type": "code",
   "execution_count": null,
   "id": "0e667a23",
   "metadata": {},
   "outputs": [],
   "source": [
    "def get_pairplot(train, num_cols):\n",
    "    '''\n",
    "    This function will take in a dataFrame, and will display a pairplot of the variable\n",
    "    relationships along with a regression line for each pair\n",
    "    '''\n",
    "    # take a sample of the dataFrame in order to cut down computing time\n",
    "    plt.figure(figsize=(20,20))\n",
    "    if len(df) > 500:\n",
    "        sample = train[num_cols].sample(500)\n",
    "    else:\n",
    "        sample = train[num_cols]\n",
    "    # create a pairplot\n",
    "    sns.pairplot(data=sample, corner=True, kind='reg', plot_kws={'color': 'blue'})\n",
    "    \n",
    "    plt.show()"
   ]
  },
  {
   "cell_type": "code",
   "execution_count": null,
   "id": "cbccdc82",
   "metadata": {},
   "outputs": [],
   "source": [
    "get_corr_heatmap(train, num_cols)"
   ]
  },
  {
   "cell_type": "code",
   "execution_count": null,
   "id": "71de75b5",
   "metadata": {},
   "outputs": [],
   "source": [
    "get_pairplot(train, num_cols)"
   ]
  },
  {
   "cell_type": "markdown",
   "id": "73cb814c",
   "metadata": {},
   "source": [
    "## Multivariate analysis"
   ]
  },
  {
   "cell_type": "code",
   "execution_count": null,
   "id": "7b422f5b",
   "metadata": {},
   "outputs": [],
   "source": [
    "def multivariate_plots(train, target, explore_cols):\n",
    "    for x_col in train[explore_cols].drop(columns=target).columns:\n",
    "        for col in train[explore_cols].drop(columns=[target, x_col]).columns:\n",
    "            sns.scatterplot(data=train.sample(500), x=x_col, y=col, \n",
    "                        hue=target, palette='magma')\n",
    "            plt.show()"
   ]
  },
  {
   "cell_type": "code",
   "execution_count": null,
   "id": "903c6385",
   "metadata": {},
   "outputs": [],
   "source": [
    "multivariate_plots(train, 'sub_category', explore_cols)"
   ]
  },
  {
   "cell_type": "code",
   "execution_count": null,
   "id": "fd629cdd",
   "metadata": {},
   "outputs": [],
   "source": []
  },
  {
   "cell_type": "markdown",
   "id": "6cd1a504",
   "metadata": {},
   "source": [
    "# Stats testing"
   ]
  },
  {
   "cell_type": "code",
   "execution_count": 107,
   "id": "2b2caa41",
   "metadata": {},
   "outputs": [],
   "source": [
    "def check_hypothesis(p_val, test_stat, α=0.05):\n",
    "    if p < α:\n",
    "        print('\\033[32m========== REJECT THE NULL HYPOTHESIS! ==========\\033[0m')\n",
    "        print(f'\\033[35mP-Value:\\033[0m {p:.8f}')\n",
    "        print(f'\\033[35mtest stat value:\\033[0m {test_stat:.8f}')\n",
    "    else:\n",
    "        print('\\033[31m========== ACCEPT THE NULL HYPOTHESIS! ==========\\033[0m')\n",
    "        print(f'\\033[35mP-Value:\\033[0m {p:.8f}')"
   ]
  },
  {
   "cell_type": "code",
   "execution_count": 76,
   "id": "6925a68c",
   "metadata": {},
   "outputs": [],
   "source": [
    "def check_hypothesis_kruskal(a, b, c, d, e, f, g, h, i, j, k, l,\n",
    "                           m, n, o, p, q, α=0.05):\n",
    "    f, p = stats.kruskal(a, b, c, d, e, f, g, h, i, j, k, l, m, n, o, p, q)\n",
    "    \n",
    "    \n",
    "    if p < α:\n",
    "        print('\\033[32m========== REJECT THE NULL HYPOTHESIS! ==========\\033[0m')\n",
    "        print(f'\\033[35mP-Value:\\033[0m {p:.8f}')\n",
    "        print(f'\\033[35mF-Value:\\033[0m {f:.8f}')\n",
    "    else:\n",
    "        print('\\033[31m========== ACCEPT THE NULL HYPOTHESIS! ==========\\033[0m')\n",
    "        print(f'\\033[35mP-Value:\\033[0m {p:.8f}')"
   ]
  },
  {
   "cell_type": "code",
   "execution_count": 9,
   "id": "0c7a3f1a",
   "metadata": {},
   "outputs": [],
   "source": [
    "def check_hypothesis_correlation(train, x, y, α=0.05, stat_test=stats.pearsonr):\n",
    "    '''\n",
    "    This function will check the provided x and y variables from the \n",
    "    provided dataset (train) for statistical correlation according \n",
    "    to a pearsonsr test (this is changable by entering the desired test as a kwarg)\n",
    "    '''\n",
    "    # run the requested statistical test on variables x and y from train\n",
    "    r, p = stat_test(train[x], train[y])\n",
    "    # if the resulting p-value is less than alpha, then reject the null hypothesis\n",
    "    if p < α:\n",
    "        # print results rejecting null hypothesis\n",
    "        print(f\"Since the p-value is less than {α}, \\n\\\n",
    "we can reject the null hypothesis and conclude that {x} and {y} are correlated.\")\n",
    "        print(f\"The correlation coefficient between \\\n",
    "{x} and {y} is {r:.2f} with a p-value of {p:.4f}\")\n",
    "        print('_______________________________________________________')\n",
    "    # if p-value >= alpha, then we fail to reject the null hypothesis\n",
    "    else:\n",
    "        # print the results failing to reject the null hypothesis\n",
    "        print(f\"Since the p-value is greater than or equal to {α}, \\n\\\n",
    "we fail to reject the null hypothesis and conclude \\n\\\n",
    "that there is insufficient evidence to suggest a correlation between {x} and {y}.\")\n",
    "        print('_______________________________________________________')"
   ]
  },
  {
   "cell_type": "code",
   "execution_count": 95,
   "id": "19ba0481",
   "metadata": {},
   "outputs": [],
   "source": [
    "def check_hypothesis_chi2(train, variable_1, variable_2, α=0.05):\n",
    "    alpha = 0.05\n",
    "    observed = pd.crosstab(train[variable_1],\n",
    "                           train[variable_2])\n",
    "    chi2, p, _, hypothetical = stats.chi2_contingency(observed)\n",
    "\n",
    "    if p < α:\n",
    "        print('\\033[32m========== REJECT THE NULL HYPOTHESIS! ==========\\033[0m')\n",
    "        print(f'\\033[35mP-Value:\\033[0m {p:.8f}')\n",
    "        print(f'\\033[35mChi-Squared-Value:\\033[0m {chi2:.8f}')\n",
    "    else:\n",
    "        print('\\033[31m========== ACCEPT THE NULL HYPOTHESIS! ==========\\033[0m')\n",
    "        print(f'\\033[35mP-Value:\\033[0m {p:.8f}')"
   ]
  },
  {
   "cell_type": "code",
   "execution_count": null,
   "id": "f0c83e0a",
   "metadata": {},
   "outputs": [],
   "source": []
  },
  {
   "cell_type": "markdown",
   "id": "34682a7d",
   "metadata": {},
   "source": [
    "## Question 1- Is the mean revenue value different for each customer cluster?\n",
    "- H$_0$ - There is no difference in mean revenue amongst each customer cluster\n",
    "- H$_a$ - The mean revenue value is different for each customer cluster\n",
    "- α = 0.05\n",
    "\n",
    "Revenue is right-skewed continuous, cluster is categorical\n",
    "- We will be using an ANOVA test to evaluate if the mean revenue value differs among the clusters"
   ]
  },
  {
   "cell_type": "code",
   "execution_count": 27,
   "id": "2629c760",
   "metadata": {},
   "outputs": [
    {
     "data": {
      "text/plain": [
       "0    6829\n",
       "1    6062\n",
       "2    4195\n",
       "3    2438\n",
       "Name: clusters, dtype: int64"
      ]
     },
     "execution_count": 27,
     "metadata": {},
     "output_type": "execute_result"
    }
   ],
   "source": [
    "# lets split our data into separate dfs based on cluster\n",
    "train_clus.clusters.value_counts()"
   ]
  },
  {
   "cell_type": "code",
   "execution_count": 22,
   "id": "7da68a83",
   "metadata": {},
   "outputs": [],
   "source": [
    "clus_0 = train_clus[train_clus.clusters == 0]\n",
    "clus_1 = train_clus[train_clus.clusters == 1]\n",
    "clus_2 = train_clus[train_clus.clusters == 2]\n",
    "clus_3 = train_clus[train_clus.clusters == 3]"
   ]
  },
  {
   "cell_type": "code",
   "execution_count": 28,
   "id": "3582b39c",
   "metadata": {},
   "outputs": [],
   "source": [
    "# clus_3.head(2)"
   ]
  },
  {
   "cell_type": "code",
   "execution_count": 31,
   "id": "de76d494",
   "metadata": {},
   "outputs": [
    {
     "name": "stdout",
     "output_type": "stream",
     "text": [
      "cluster 0 varaince to total :LeveneResult(statistic=2914.1166933635336, pvalue=0.0)\n",
      "cluster 1 varaince to total :LeveneResult(statistic=1204.3581373509319, pvalue=6.5627764365718815e-258)\n",
      "cluster 2 varaince to total :LeveneResult(statistic=696.4754287514924, pvalue=2.6700518544660233e-151)\n",
      "cluster 3 varaince to total :LeveneResult(statistic=256.6611408573279, pvalue=1.940993397453358e-57)\n"
     ]
    }
   ],
   "source": [
    "# check if revenue variances are equal among each cluster\n",
    "# we will be using a levene test to check if variances are equal\n",
    "# p-value < 0.05 indicates equal variaces\n",
    "print(f'cluster 0 varaince to total :{stats.levene(clus_0.revenue, train_clus.revenue)}')\n",
    "print(f'cluster 1 varaince to total :{stats.levene(clus_1.revenue, train_clus.revenue)}')\n",
    "print(f'cluster 2 varaince to total :{stats.levene(clus_2.revenue, train_clus.revenue)}')\n",
    "print(f'cluster 3 varaince to total :{stats.levene(clus_3.revenue, train_clus.revenue)}')"
   ]
  },
  {
   "cell_type": "markdown",
   "id": "742512a8",
   "metadata": {},
   "source": [
    "#### Looks like the revenue variances are equal among the clusters, lets proceed with ANOVA test"
   ]
  },
  {
   "cell_type": "code",
   "execution_count": 108,
   "id": "2a990e77",
   "metadata": {},
   "outputs": [
    {
     "name": "stdout",
     "output_type": "stream",
     "text": [
      "\u001b[32m========== REJECT THE NULL HYPOTHESIS! ==========\u001b[0m\n",
      "\u001b[35mP-Value:\u001b[0m 0.00000000\n",
      "\u001b[35mtest stat value:\u001b[0m 33135.50539703\n"
     ]
    }
   ],
   "source": [
    "# anova test is stats.f_oneway\n",
    "f, p = stats.f_oneway(clus_0.revenue, clus_1.revenue, clus_2.revenue, clus_3.revenue)\n",
    "check_hypothesis(p, f)"
   ]
  },
  {
   "cell_type": "markdown",
   "id": "630efa5b",
   "metadata": {},
   "source": [
    "### The ANOVA test suggests that there is a difference in the mean value of revenue among each cluster."
   ]
  },
  {
   "cell_type": "code",
   "execution_count": null,
   "id": "8b4ada3b",
   "metadata": {},
   "outputs": [],
   "source": []
  },
  {
   "cell_type": "markdown",
   "id": "c4fed030",
   "metadata": {},
   "source": [
    "### Finding - What is each segment paying on avg"
   ]
  },
  {
   "cell_type": "code",
   "execution_count": 43,
   "id": "b8f3cc6c",
   "metadata": {},
   "outputs": [
    {
     "name": "stdout",
     "output_type": "stream",
     "text": [
      "cluster 0 average revenue is: 179.51208083174697\n",
      "cluster 1 average revenue is: 321.6032662487628\n",
      "cluster 2 average revenue is: 898.5687723480333\n",
      "cluster 3 average revenue is: 2276.8223954060704\n"
     ]
    }
   ],
   "source": [
    "print(f'cluster 0 average revenue is: {clus_0.revenue.mean()}')\n",
    "print(f'cluster 1 average revenue is: {clus_1.revenue.mean()}')\n",
    "print(f'cluster 2 average revenue is: {clus_2.revenue.mean()}')\n",
    "print(f'cluster 3 average revenue is: {clus_3.revenue.mean()}')"
   ]
  },
  {
   "cell_type": "markdown",
   "id": "48ebdc1d",
   "metadata": {},
   "source": [
    "### Finding - Which segment pays the most / least"
   ]
  },
  {
   "cell_type": "markdown",
   "id": "681be427",
   "metadata": {},
   "source": [
    "#### Cluster 3 pays the most, with an avg revenue of \\$ 2276.82\n",
    "#### Cluster 1 pays the least, with an avg revenue of \\$ 179.51"
   ]
  },
  {
   "cell_type": "code",
   "execution_count": null,
   "id": "ae5ef48e",
   "metadata": {},
   "outputs": [],
   "source": []
  },
  {
   "cell_type": "code",
   "execution_count": null,
   "id": "00a72342",
   "metadata": {},
   "outputs": [],
   "source": []
  },
  {
   "cell_type": "markdown",
   "id": "fee1721d",
   "metadata": {},
   "source": [
    "## Question 2 - Is the mean value of age different amongst each customer cluster?\n",
    "- H$_0$ - The mean value of age is the same amongst each customer cluster\n",
    "- H$_a$ - The mean value of age is different amongst different customer clusters\n",
    "- α = 0.05\n",
    "\n",
    "Age is right-skewed continuous, cluster is categorical\n",
    "- We will be using an ANOVA test to evaluate if the mean age value differs among the clusters"
   ]
  },
  {
   "cell_type": "code",
   "execution_count": 46,
   "id": "b8fff6f3",
   "metadata": {},
   "outputs": [
    {
     "name": "stdout",
     "output_type": "stream",
     "text": [
      "cluster 0 varaince to total :    LeveneResult(statistic=2228.6597333998793, pvalue=0.0)\n",
      "cluster 1 varaince to total :    LeveneResult(statistic=1246.7165896395807, pvalue=1.0774092807984415e-266)\n",
      "cluster 2 varaince to total :    LeveneResult(statistic=1294.1909315174605, pvalue=5.330665194413122e-276)\n",
      "cluster 3 varaince to total :    LeveneResult(statistic=58.72251498794838, pvalue=1.8905815879093133e-14)\n"
     ]
    }
   ],
   "source": [
    "# check if customer_age variances are equal among each cluster\n",
    "# we will be using a levene test to check if variances are equal\n",
    "# p-value < 0.05 indicates equal variaces\n",
    "print(f'cluster 0 varaince to total :\\\n",
    "    {stats.levene(clus_0.customer_age, train_clus.customer_age)}')\n",
    "print(f'cluster 1 varaince to total :\\\n",
    "    {stats.levene(clus_1.customer_age, train_clus.customer_age)}')\n",
    "print(f'cluster 2 varaince to total :\\\n",
    "    {stats.levene(clus_2.customer_age, train_clus.customer_age)}')\n",
    "print(f'cluster 3 varaince to total :\\\n",
    "    {stats.levene(clus_3.customer_age, train_clus.customer_age)}')"
   ]
  },
  {
   "cell_type": "markdown",
   "id": "5e804ef1",
   "metadata": {},
   "source": [
    "#### Looks like the revenue variances are equal among the clusters, lets proceed with ANOVA test"
   ]
  },
  {
   "cell_type": "code",
   "execution_count": 109,
   "id": "89216cf5",
   "metadata": {},
   "outputs": [
    {
     "name": "stdout",
     "output_type": "stream",
     "text": [
      "\u001b[32m========== REJECT THE NULL HYPOTHESIS! ==========\u001b[0m\n",
      "\u001b[35mP-Value:\u001b[0m 0.00000000\n",
      "\u001b[35mtest stat value:\u001b[0m 9860.36249931\n"
     ]
    }
   ],
   "source": [
    "# anova test is stats.f_oneway\n",
    "f, p = stats.f_oneway(clus_0.customer_age, clus_1.customer_age, \n",
    "                      clus_2.customer_age, clus_3.customer_age)\n",
    "check_hypothesis(p, f)"
   ]
  },
  {
   "cell_type": "markdown",
   "id": "18c6b6a0",
   "metadata": {},
   "source": [
    "### The ANOVA test suggests that there is a difference in the mean value of customer_age among the different clusters"
   ]
  },
  {
   "cell_type": "code",
   "execution_count": null,
   "id": "0d7d9a7c",
   "metadata": {},
   "outputs": [],
   "source": []
  },
  {
   "cell_type": "markdown",
   "id": "29497af5",
   "metadata": {},
   "source": [
    "### Finding - If there is a difference of mean age, what are the mean age of each cluster?"
   ]
  },
  {
   "cell_type": "code",
   "execution_count": 48,
   "id": "f4197aa1",
   "metadata": {},
   "outputs": [
    {
     "name": "stdout",
     "output_type": "stream",
     "text": [
      "cluster 0 average customer_age is: 28.103236198564943\n",
      "cluster 1 average customer_age is: 48.485648300890794\n",
      "cluster 2 average customer_age is: 31.51632896305125\n",
      "cluster 3 average customer_age is: 37.820344544708774\n"
     ]
    }
   ],
   "source": [
    "print(f'cluster 0 average customer_age is: {clus_0.customer_age.mean()}')\n",
    "print(f'cluster 1 average customer_age is: {clus_1.customer_age.mean()}')\n",
    "print(f'cluster 2 average customer_age is: {clus_2.customer_age.mean()}')\n",
    "print(f'cluster 3 average customer_age is: {clus_3.customer_age.mean()}')"
   ]
  },
  {
   "cell_type": "markdown",
   "id": "a24f2af4",
   "metadata": {},
   "source": [
    "## Let's check to see if cluster 0 is actually younger than the total average age and if cluster 1 is older than the total avg"
   ]
  },
  {
   "cell_type": "code",
   "execution_count": null,
   "id": "a05fff16",
   "metadata": {},
   "outputs": [],
   "source": []
  },
  {
   "cell_type": "code",
   "execution_count": null,
   "id": "e3d3e03b",
   "metadata": {},
   "outputs": [],
   "source": []
  },
  {
   "cell_type": "markdown",
   "id": "90ac529e",
   "metadata": {},
   "source": [
    "## Question 3 - Is there a relationship between age and sub category purchased?\n",
    "- H$_0$ - There is no relationship between age and the sub catgory of items purchased.\n",
    "- H$_a$ - There is a linear relationship between age and the sub category of items purchased.\n",
    "- α = 0.05\n",
    "\n",
    "Age is right-skewed continuous, and sub_category is categorical\n",
    "- We will be using an ANOVA test"
   ]
  },
  {
   "cell_type": "code",
   "execution_count": 55,
   "id": "452d5bff",
   "metadata": {},
   "outputs": [],
   "source": [
    "# create a list of sub_categories\n",
    "cat_list = train.sub_category.unique()"
   ]
  },
  {
   "cell_type": "code",
   "execution_count": 56,
   "id": "3b102e10",
   "metadata": {},
   "outputs": [
    {
     "data": {
      "text/plain": [
       "array(['Tires and Tubes', 'Helmets', 'Bottles and Cages', 'Vests',\n",
       "       'Road Bikes', 'Jerseys', 'Mountain Bikes', 'Hydration Packs',\n",
       "       'Touring Bikes', 'Caps', 'Shorts', 'Fenders', 'Socks', 'Cleaners',\n",
       "       'Gloves', 'Bike Stands', 'Bike Racks'], dtype=object)"
      ]
     },
     "execution_count": 56,
     "metadata": {},
     "output_type": "execute_result"
    }
   ],
   "source": [
    "cat_list"
   ]
  },
  {
   "cell_type": "code",
   "execution_count": 65,
   "id": "bf6a0d43",
   "metadata": {},
   "outputs": [
    {
     "name": "stdout",
     "output_type": "stream",
     "text": [
      "sub_category Tires and Tubes varaince to total: LeveneResult(statistic=69.31380775971671, pvalue=8.809067982069891e-17)\n",
      "sub_category Helmets varaince to total: LeveneResult(statistic=0.01501214771683831, pvalue=0.9024851099283183)\n",
      "sub_category Bottles and Cages varaince to total: LeveneResult(statistic=1.7609407129179044, pvalue=0.1845206941598826)\n",
      "sub_category Vests varaince to total: LeveneResult(statistic=0.005169849737458204, pvalue=0.9426808930576871)\n",
      "sub_category Road Bikes varaince to total: LeveneResult(statistic=86.71201033308499, pvalue=1.3743136329044086e-20)\n",
      "sub_category Jerseys varaince to total: LeveneResult(statistic=0.016184743275525396, pvalue=0.8987680918570933)\n",
      "sub_category Mountain Bikes varaince to total: LeveneResult(statistic=22.992552355458972, pvalue=1.637415785314455e-06)\n",
      "sub_category Hydration Packs varaince to total: LeveneResult(statistic=0.3656122279650573, pvalue=0.545412692122657)\n",
      "sub_category Touring Bikes varaince to total: LeveneResult(statistic=49.83625737733041, pvalue=1.7253082685838939e-12)\n",
      "sub_category Caps varaince to total: LeveneResult(statistic=2.1511856131071028, pvalue=0.14247529803803746)\n",
      "sub_category Shorts varaince to total: LeveneResult(statistic=3.0634205327749524, pvalue=0.08008840249104823)\n",
      "sub_category Fenders varaince to total: LeveneResult(statistic=0.2055806606481058, pvalue=0.6502584441484348)\n",
      "sub_category Socks varaince to total: LeveneResult(statistic=0.8249005545712024, pvalue=0.3637623422714038)\n",
      "sub_category Cleaners varaince to total: LeveneResult(statistic=0.33343580620644125, pvalue=0.5636494876457122)\n",
      "sub_category Gloves varaince to total: LeveneResult(statistic=2.834843578998052, pvalue=0.09225556022158714)\n",
      "sub_category Bike Stands varaince to total: LeveneResult(statistic=1.606331101922467, pvalue=0.20502335915543593)\n",
      "sub_category Bike Racks varaince to total: LeveneResult(statistic=0.009470384870586398, pvalue=0.9224765233674567)\n"
     ]
    }
   ],
   "source": [
    "# check if customer_age variances are equal among each cluster\n",
    "# we will be using a levene test to check if variances are equal\n",
    "# p-value < 0.05 indicates equal variaces\n",
    "for i in range(len(cat_list)):\n",
    "    print(f'''sub_category {cat_list[i]} varaince to total: {stats.levene(\n",
    "             train_clus[train_clus.sub_category == cat_list[i] ].customer_age,\n",
    "             train_clus.customer_age)}''')"
   ]
  },
  {
   "cell_type": "markdown",
   "id": "302d9847",
   "metadata": {},
   "source": [
    "#### The variances are not equal, therefore we will be using a Kruskall Wallis non-parametric test instead of ANOVA"
   ]
  },
  {
   "cell_type": "code",
   "execution_count": 110,
   "id": "c0b6d30f",
   "metadata": {},
   "outputs": [
    {
     "name": "stdout",
     "output_type": "stream",
     "text": [
      "\u001b[32m========== REJECT THE NULL HYPOTHESIS! ==========\u001b[0m\n",
      "\u001b[35mP-Value:\u001b[0m 0.00004088\n",
      "\u001b[35mtest stat value:\u001b[0m 48.41448045\n"
     ]
    }
   ],
   "source": [
    "f, p = stats.kruskal(train_clus[train_clus.sub_category == cat_list[0] ].customer_age,\n",
    "                     train_clus[train_clus.sub_category == cat_list[1] ].customer_age,\n",
    "                     train_clus[train_clus.sub_category == cat_list[2] ].customer_age,\n",
    "                     train_clus[train_clus.sub_category == cat_list[3] ].customer_age,\n",
    "                     train_clus[train_clus.sub_category == cat_list[4] ].customer_age,\n",
    "                     train_clus[train_clus.sub_category == cat_list[5] ].customer_age,\n",
    "                     train_clus[train_clus.sub_category == cat_list[6] ].customer_age,\n",
    "                     train_clus[train_clus.sub_category == cat_list[7] ].customer_age,\n",
    "                     train_clus[train_clus.sub_category == cat_list[8] ].customer_age,\n",
    "                     train_clus[train_clus.sub_category == cat_list[9] ].customer_age,\n",
    "                     train_clus[train_clus.sub_category == cat_list[10] ].customer_age,\n",
    "                     train_clus[train_clus.sub_category == cat_list[11] ].customer_age,\n",
    "                     train_clus[train_clus.sub_category == cat_list[12] ].customer_age,\n",
    "                     train_clus[train_clus.sub_category == cat_list[13] ].customer_age,\n",
    "                     train_clus[train_clus.sub_category == cat_list[14] ].customer_age,\n",
    "                     train_clus[train_clus.sub_category == cat_list[15] ].customer_age,\n",
    "                     train_clus[train_clus.sub_category == cat_list[16] ].customer_age,\n",
    "                    )\n",
    "check_hypothesis(p, f)"
   ]
  },
  {
   "cell_type": "markdown",
   "id": "2f7c5abb",
   "metadata": {},
   "source": [
    "#### The statistical test suggests that there is a correlation between age and sub_category purchased."
   ]
  },
  {
   "cell_type": "code",
   "execution_count": null,
   "id": "49a6c9bb",
   "metadata": {},
   "outputs": [],
   "source": []
  },
  {
   "cell_type": "code",
   "execution_count": null,
   "id": "bcd0c83a",
   "metadata": {},
   "outputs": [],
   "source": []
  },
  {
   "cell_type": "markdown",
   "id": "bf7f873c",
   "metadata": {},
   "source": [
    "## Question 4 - Is there a relationship between gender and sub category purchased?\n",
    "- H$_0$ - The sub_catgory of items purchased is independent of customer gender.\n",
    "- H$_a$ - The sub_catgory of items purchased is dependent on customer gender.\n",
    "- α = 0.05\n",
    "\n",
    "Gender is categorical, and sub_category is categorical\n",
    "- We will be using a chi-squared test"
   ]
  },
  {
   "cell_type": "code",
   "execution_count": 84,
   "id": "5a69bd37",
   "metadata": {},
   "outputs": [],
   "source": [
    "# lets make a df of purchase of each sub_category by gender\n",
    "male=[]\n",
    "female=[]\n",
    "for i in range(len(cat_list)):\n",
    "    male.append(train_clus[(train_clus.customer_gender_M == 1) & \n",
    "                           (train_clus.sub_category == cat_list[i])].sub_category.count())\n",
    "    female.append(train_clus[(train_clus.customer_gender_M == 0) & \n",
    "                           (train_clus.sub_category == cat_list[i])].sub_category.count())\n",
    "    \n",
    "gender_cat = pd.concat([pd.Series(male), pd.Series(female)], axis=1)"
   ]
  },
  {
   "cell_type": "code",
   "execution_count": 88,
   "id": "44e11c5d",
   "metadata": {},
   "outputs": [],
   "source": [
    "gender_cat = gender_cat.set_index(cat_list).rename(columns={0:'male', 1:'female'})"
   ]
  },
  {
   "cell_type": "code",
   "execution_count": 89,
   "id": "bba15926",
   "metadata": {},
   "outputs": [
    {
     "data": {
      "text/html": [
       "<div>\n",
       "<style scoped>\n",
       "    .dataframe tbody tr th:only-of-type {\n",
       "        vertical-align: middle;\n",
       "    }\n",
       "\n",
       "    .dataframe tbody tr th {\n",
       "        vertical-align: top;\n",
       "    }\n",
       "\n",
       "    .dataframe thead th {\n",
       "        text-align: right;\n",
       "    }\n",
       "</style>\n",
       "<table border=\"1\" class=\"dataframe\">\n",
       "  <thead>\n",
       "    <tr style=\"text-align: right;\">\n",
       "      <th></th>\n",
       "      <th>male</th>\n",
       "      <th>female</th>\n",
       "    </tr>\n",
       "  </thead>\n",
       "  <tbody>\n",
       "    <tr>\n",
       "      <th>Tires and Tubes</th>\n",
       "      <td>3179</td>\n",
       "      <td>3105</td>\n",
       "    </tr>\n",
       "    <tr>\n",
       "      <th>Helmets</th>\n",
       "      <td>1203</td>\n",
       "      <td>1153</td>\n",
       "    </tr>\n",
       "    <tr>\n",
       "      <th>Bottles and Cages</th>\n",
       "      <td>1528</td>\n",
       "      <td>1441</td>\n",
       "    </tr>\n",
       "    <tr>\n",
       "      <th>Vests</th>\n",
       "      <td>85</td>\n",
       "      <td>97</td>\n",
       "    </tr>\n",
       "    <tr>\n",
       "      <th>Road Bikes</th>\n",
       "      <td>848</td>\n",
       "      <td>805</td>\n",
       "    </tr>\n",
       "    <tr>\n",
       "      <th>Jerseys</th>\n",
       "      <td>560</td>\n",
       "      <td>551</td>\n",
       "    </tr>\n",
       "    <tr>\n",
       "      <th>Mountain Bikes</th>\n",
       "      <td>747</td>\n",
       "      <td>783</td>\n",
       "    </tr>\n",
       "    <tr>\n",
       "      <th>Hydration Packs</th>\n",
       "      <td>125</td>\n",
       "      <td>111</td>\n",
       "    </tr>\n",
       "    <tr>\n",
       "      <th>Touring Bikes</th>\n",
       "      <td>364</td>\n",
       "      <td>369</td>\n",
       "    </tr>\n",
       "    <tr>\n",
       "      <th>Caps</th>\n",
       "      <td>411</td>\n",
       "      <td>413</td>\n",
       "    </tr>\n",
       "    <tr>\n",
       "      <th>Shorts</th>\n",
       "      <td>158</td>\n",
       "      <td>158</td>\n",
       "    </tr>\n",
       "    <tr>\n",
       "      <th>Fenders</th>\n",
       "      <td>229</td>\n",
       "      <td>193</td>\n",
       "    </tr>\n",
       "    <tr>\n",
       "      <th>Socks</th>\n",
       "      <td>100</td>\n",
       "      <td>99</td>\n",
       "    </tr>\n",
       "    <tr>\n",
       "      <th>Cleaners</th>\n",
       "      <td>164</td>\n",
       "      <td>140</td>\n",
       "    </tr>\n",
       "    <tr>\n",
       "      <th>Gloves</th>\n",
       "      <td>147</td>\n",
       "      <td>113</td>\n",
       "    </tr>\n",
       "    <tr>\n",
       "      <th>Bike Stands</th>\n",
       "      <td>34</td>\n",
       "      <td>47</td>\n",
       "    </tr>\n",
       "    <tr>\n",
       "      <th>Bike Racks</th>\n",
       "      <td>37</td>\n",
       "      <td>27</td>\n",
       "    </tr>\n",
       "  </tbody>\n",
       "</table>\n",
       "</div>"
      ],
      "text/plain": [
       "                   male  female\n",
       "Tires and Tubes    3179    3105\n",
       "Helmets            1203    1153\n",
       "Bottles and Cages  1528    1441\n",
       "Vests                85      97\n",
       "Road Bikes          848     805\n",
       "Jerseys             560     551\n",
       "Mountain Bikes      747     783\n",
       "Hydration Packs     125     111\n",
       "Touring Bikes       364     369\n",
       "Caps                411     413\n",
       "Shorts              158     158\n",
       "Fenders             229     193\n",
       "Socks               100      99\n",
       "Cleaners            164     140\n",
       "Gloves              147     113\n",
       "Bike Stands          34      47\n",
       "Bike Racks           37      27"
      ]
     },
     "execution_count": 89,
     "metadata": {},
     "output_type": "execute_result"
    }
   ],
   "source": [
    "gender_cat"
   ]
  },
  {
   "cell_type": "code",
   "execution_count": 115,
   "id": "fb144c30",
   "metadata": {},
   "outputs": [
    {
     "name": "stdout",
     "output_type": "stream",
     "text": [
      "\u001b[31m========== ACCEPT THE NULL HYPOTHESIS! ==========\u001b[0m\n",
      "\u001b[35mP-Value:\u001b[0m 0.43900708\n"
     ]
    }
   ],
   "source": [
    "# now we can use the gender_cat df in a chi-squared test\n",
    "chi2, p, dof, hypothetical = stats.chi2_contingency(gender_cat)\n",
    "check_hypothesis(p, chi2)"
   ]
  },
  {
   "cell_type": "markdown",
   "id": "901fdb9c",
   "metadata": {},
   "source": [
    "### Based on our chi-squared statistical test, we are unable to reject our null hypothsis. Therefore we do not have enough evidence to say that the sub_category purchased is dependent upon the customer's gender."
   ]
  },
  {
   "cell_type": "code",
   "execution_count": null,
   "id": "3ab5faf3",
   "metadata": {},
   "outputs": [],
   "source": []
  },
  {
   "cell_type": "code",
   "execution_count": null,
   "id": "e29aec3e",
   "metadata": {},
   "outputs": [],
   "source": []
  },
  {
   "cell_type": "markdown",
   "id": "d6acb98d",
   "metadata": {},
   "source": [
    "## Question 5 - Is there a difference between purchases of the 3 types of bikes (mountain, road, touring) by age?\n",
    "- H$_0$ - The type of bike purchased is independent of age\n",
    "- H$_a$ - The type of bike purchased is dependent on age of customer\n",
    "- α = 0.05\n",
    "\n",
    "Age is right-skewed continuous, and type of bike purchased is categorical\n",
    "- We will be using an ANOVA test"
   ]
  },
  {
   "cell_type": "code",
   "execution_count": 98,
   "id": "f429ba71",
   "metadata": {},
   "outputs": [
    {
     "data": {
      "text/plain": [
       "array(['Tires and Tubes', 'Helmets', 'Bottles and Cages', 'Vests',\n",
       "       'Road Bikes', 'Jerseys', 'Mountain Bikes', 'Hydration Packs',\n",
       "       'Touring Bikes', 'Caps', 'Shorts', 'Fenders', 'Socks', 'Cleaners',\n",
       "       'Gloves', 'Bike Stands', 'Bike Racks'], dtype=object)"
      ]
     },
     "execution_count": 98,
     "metadata": {},
     "output_type": "execute_result"
    }
   ],
   "source": [
    "cat_list"
   ]
  },
  {
   "cell_type": "code",
   "execution_count": 99,
   "id": "6988d797",
   "metadata": {},
   "outputs": [
    {
     "name": "stdout",
     "output_type": "stream",
     "text": [
      "sub_category 'Road Bikes' varaince to total: LeveneResult(statistic=86.71201033308499, pvalue=1.3743136329044086e-20)\n",
      "sub_category 'Mountain Bikes' varaince to total: LeveneResult(statistic=22.992552355458972, pvalue=1.637415785314455e-06)\n",
      "sub_category 'Touring Bikes' varaince to total: LeveneResult(statistic=49.83625737733041, pvalue=1.7253082685838939e-12)\n"
     ]
    }
   ],
   "source": [
    "# check if customer_age variances are equal among each cluster\n",
    "# we will be using a levene test to check if variances are equal\n",
    "# p-value < 0.05 indicates equal variaces\n",
    "print(f'''sub_category 'Road Bikes' varaince to total: {stats.levene(\n",
    "     train_clus[train_clus.sub_category == 'Road Bikes'].customer_age,\n",
    "     train_clus.customer_age)}''')\n",
    "print(f'''sub_category 'Mountain Bikes' varaince to total: {stats.levene(\n",
    "     train_clus[train_clus.sub_category == 'Mountain Bikes'].customer_age,\n",
    "     train_clus.customer_age)}''')\n",
    "print(f'''sub_category 'Touring Bikes' varaince to total: {stats.levene(\n",
    "     train_clus[train_clus.sub_category == 'Touring Bikes'].customer_age,\n",
    "     train_clus.customer_age)}''')"
   ]
  },
  {
   "cell_type": "markdown",
   "id": "9fb4e4d3",
   "metadata": {},
   "source": [
    "#### The variances of the three bike categories are equal, so we will proceed with ANOVA test"
   ]
  },
  {
   "cell_type": "code",
   "execution_count": 118,
   "id": "d5d34488",
   "metadata": {},
   "outputs": [
    {
     "name": "stdout",
     "output_type": "stream",
     "text": [
      "\u001b[32m========== REJECT THE NULL HYPOTHESIS! ==========\u001b[0m\n",
      "\u001b[35mP-Value:\u001b[0m 0.00000001\n",
      "\u001b[35mtest stat value:\u001b[0m 18.54733406\n"
     ]
    }
   ],
   "source": [
    "f, p = stats.f_oneway(\n",
    "    train_clus[train_clus.sub_category == 'Road Bikes'].customer_age, \n",
    "    train_clus[train_clus.sub_category == 'Mountain Bikes'].customer_age, \n",
    "    train_clus[train_clus.sub_category == 'Touring Bikes'].customer_age)\n",
    "check_hypothesis(p, f)"
   ]
  },
  {
   "cell_type": "markdown",
   "id": "51ea520f",
   "metadata": {},
   "source": [
    "#### The ANOVA test suggests that the mean age of customers is different for the three different types of bikes."
   ]
  },
  {
   "cell_type": "code",
   "execution_count": 123,
   "id": "b949428d",
   "metadata": {},
   "outputs": [
    {
     "data": {
      "text/plain": [
       "34.806412583182095"
      ]
     },
     "execution_count": 123,
     "metadata": {},
     "output_type": "execute_result"
    }
   ],
   "source": [
    "train_clus[train_clus.sub_category == 'Road Bikes'].customer_age.mean()"
   ]
  },
  {
   "cell_type": "code",
   "execution_count": 127,
   "id": "03acf1ae",
   "metadata": {},
   "outputs": [
    {
     "name": "stdout",
     "output_type": "stream",
     "text": [
      "Avg age of road bike customers: 34.8\n",
      "Avg age of mountain bike customers: 36.8\n",
      "Avg age of touring bike customers: 35.5\n"
     ]
    }
   ],
   "source": [
    "print(f'Avg age of road bike customers: \\\n",
    "{round(train_clus[train_clus.sub_category == \"Road Bikes\"].customer_age.mean(), 1)}'), \n",
    "print(f'Avg age of mountain bike customers: \\\n",
    "{round(train_clus[train_clus.sub_category == \"Mountain Bikes\"].customer_age.mean(), 1)}'), \n",
    "print(f'Avg age of touring bike customers: \\\n",
    "{round(train_clus[train_clus.sub_category == \"Touring Bikes\"].customer_age.mean(), 1)}')"
   ]
  },
  {
   "cell_type": "markdown",
   "id": "5d009b82",
   "metadata": {},
   "source": [
    "#### They are statisticly different, but not a large variance between them"
   ]
  },
  {
   "cell_type": "code",
   "execution_count": null,
   "id": "c2e85264",
   "metadata": {},
   "outputs": [],
   "source": []
  },
  {
   "cell_type": "code",
   "execution_count": null,
   "id": "df8e7dae",
   "metadata": {},
   "outputs": [],
   "source": []
  },
  {
   "cell_type": "markdown",
   "id": "f997a00a",
   "metadata": {},
   "source": [
    "## Question 6 - Is there a difference between purchases of the 3 types of bikes (mountain, road, touring) by gender?\n",
    "- H$_0$ - The type of bike purchased is independent of gender\n",
    "- H$_a$ - The type of bike purchased is dependent on gender\n",
    "- α = 0.05\n",
    "\n",
    "Gender is categorical, and type of bike purchased is categorical\n",
    "- We will be using a chi-squared test"
   ]
  },
  {
   "cell_type": "code",
   "execution_count": 137,
   "id": "52acbd9c",
   "metadata": {},
   "outputs": [],
   "source": [
    "bike_list = ['Road Bikes', 'Mountain Bikes', 'Touring Bikes']"
   ]
  },
  {
   "cell_type": "code",
   "execution_count": 138,
   "id": "491714ee",
   "metadata": {},
   "outputs": [],
   "source": [
    "# lets make a df of bike type purchase by gender\n",
    "male=[]\n",
    "female=[]\n",
    "for i in range(len(bike_list)):\n",
    "    male.append(train_clus[(train_clus.customer_gender_M == 1) & \n",
    "                           (train_clus.sub_category == bike_list[i])].sub_category.count())\n",
    "    female.append(train_clus[(train_clus.customer_gender_M == 0) & \n",
    "                           (train_clus.sub_category == bike_list[i])].sub_category.count())\n",
    "    \n",
    "gender_bike = pd.concat([pd.Series(male), pd.Series(female)], axis=1)"
   ]
  },
  {
   "cell_type": "code",
   "execution_count": 142,
   "id": "2d93bea4",
   "metadata": {},
   "outputs": [],
   "source": [
    "gender_bike = gender_bike.rename(columns={0:'male', 1:'female'})\\\n",
    "    .set_index(np.array(bike_list))"
   ]
  },
  {
   "cell_type": "code",
   "execution_count": 143,
   "id": "23cae57b",
   "metadata": {},
   "outputs": [
    {
     "data": {
      "text/html": [
       "<div>\n",
       "<style scoped>\n",
       "    .dataframe tbody tr th:only-of-type {\n",
       "        vertical-align: middle;\n",
       "    }\n",
       "\n",
       "    .dataframe tbody tr th {\n",
       "        vertical-align: top;\n",
       "    }\n",
       "\n",
       "    .dataframe thead th {\n",
       "        text-align: right;\n",
       "    }\n",
       "</style>\n",
       "<table border=\"1\" class=\"dataframe\">\n",
       "  <thead>\n",
       "    <tr style=\"text-align: right;\">\n",
       "      <th></th>\n",
       "      <th>male</th>\n",
       "      <th>female</th>\n",
       "    </tr>\n",
       "  </thead>\n",
       "  <tbody>\n",
       "    <tr>\n",
       "      <th>Road Bikes</th>\n",
       "      <td>848</td>\n",
       "      <td>805</td>\n",
       "    </tr>\n",
       "    <tr>\n",
       "      <th>Mountain Bikes</th>\n",
       "      <td>747</td>\n",
       "      <td>783</td>\n",
       "    </tr>\n",
       "    <tr>\n",
       "      <th>Touring Bikes</th>\n",
       "      <td>364</td>\n",
       "      <td>369</td>\n",
       "    </tr>\n",
       "  </tbody>\n",
       "</table>\n",
       "</div>"
      ],
      "text/plain": [
       "                male  female\n",
       "Road Bikes       848     805\n",
       "Mountain Bikes   747     783\n",
       "Touring Bikes    364     369"
      ]
     },
     "execution_count": 143,
     "metadata": {},
     "output_type": "execute_result"
    }
   ],
   "source": [
    "gender_bike"
   ]
  },
  {
   "cell_type": "code",
   "execution_count": 144,
   "id": "4f4ba8e9",
   "metadata": {},
   "outputs": [
    {
     "name": "stdout",
     "output_type": "stream",
     "text": [
      "\u001b[31m========== ACCEPT THE NULL HYPOTHESIS! ==========\u001b[0m\n",
      "\u001b[35mP-Value:\u001b[0m 0.36811559\n"
     ]
    }
   ],
   "source": [
    "# now we can use the gender_bike df in a chi-squared test\n",
    "chi2, p, dof, hypothetical = stats.chi2_contingency(gender_bike)\n",
    "check_hypothesis(p, chi2)"
   ]
  },
  {
   "cell_type": "markdown",
   "id": "ae43e136",
   "metadata": {},
   "source": [
    "#### The chi-squared test shows we are unable to reject our null hypothesis. Therefore there is not enough evidence to show that the type of bike differs among gender."
   ]
  },
  {
   "cell_type": "code",
   "execution_count": null,
   "id": "22453aa5",
   "metadata": {},
   "outputs": [],
   "source": []
  },
  {
   "cell_type": "code",
   "execution_count": null,
   "id": "2bbf8a9e",
   "metadata": {},
   "outputs": [],
   "source": []
  },
  {
   "cell_type": "markdown",
   "id": "cc72a662",
   "metadata": {},
   "source": [
    "## Question 7 - Is there a difference between purchases of the 3 types of bikes (mountain, road, touring) by location?\n",
    "- H$_0$ - The type of bike purchased is independent of location\n",
    "- H$_a$ - The type of bike purchased is dependent on location\n",
    "- α = 0.05\n",
    "\n",
    "Customer location is categorical, and type of bike purchased is categorical\n",
    "- We will be using a chi-squared test"
   ]
  },
  {
   "cell_type": "code",
   "execution_count": 147,
   "id": "8b0e619a",
   "metadata": {},
   "outputs": [],
   "source": [
    "country_list = train_clus.country.unique()"
   ]
  },
  {
   "cell_type": "code",
   "execution_count": 150,
   "id": "44cd080f",
   "metadata": {},
   "outputs": [
    {
     "data": {
      "text/plain": [
       "array(['United Kingdom', 'United States', 'France', 'Germany'],\n",
       "      dtype=object)"
      ]
     },
     "execution_count": 150,
     "metadata": {},
     "output_type": "execute_result"
    }
   ],
   "source": [
    "country_list"
   ]
  },
  {
   "cell_type": "code",
   "execution_count": 151,
   "id": "ab874716",
   "metadata": {},
   "outputs": [],
   "source": [
    "country_a=[]\n",
    "country_b=[]\n",
    "country_c=[]\n",
    "country_d=[]\n",
    "for i in range(len(bike_list)):\n",
    "    country_a.append(train_clus[(train_clus.country == country_list[0]) & \n",
    "                           (train_clus.sub_category == bike_list[i])].sub_category.count())\n",
    "    country_b.append(train_clus[(train_clus.country == country_list[1]) & \n",
    "                           (train_clus.sub_category == bike_list[i])].sub_category.count())\n",
    "    country_c.append(train_clus[(train_clus.country == country_list[2]) & \n",
    "                           (train_clus.sub_category == bike_list[i])].sub_category.count())\n",
    "    country_d.append(train_clus[(train_clus.country == country_list[3]) & \n",
    "                           (train_clus.sub_category == bike_list[i])].sub_category.count())"
   ]
  },
  {
   "cell_type": "code",
   "execution_count": 158,
   "id": "3ae74e59",
   "metadata": {},
   "outputs": [],
   "source": [
    "country_bike = pd.concat([pd.Series(country_a), \n",
    "                          pd.Series(country_b),\n",
    "                          pd.Series(country_c), \n",
    "                          pd.Series(country_d)], axis=1)\n",
    "country_bike = country_bike.rename(columns={0:'United Kingdom', \n",
    "                                            1:'United States',\n",
    "                                            2:'France',\n",
    "                                            3:'Germany'})\\\n",
    "            .set_index(np.array(bike_list))"
   ]
  },
  {
   "cell_type": "code",
   "execution_count": 159,
   "id": "8d7a22ad",
   "metadata": {},
   "outputs": [
    {
     "data": {
      "text/html": [
       "<div>\n",
       "<style scoped>\n",
       "    .dataframe tbody tr th:only-of-type {\n",
       "        vertical-align: middle;\n",
       "    }\n",
       "\n",
       "    .dataframe tbody tr th {\n",
       "        vertical-align: top;\n",
       "    }\n",
       "\n",
       "    .dataframe thead th {\n",
       "        text-align: right;\n",
       "    }\n",
       "</style>\n",
       "<table border=\"1\" class=\"dataframe\">\n",
       "  <thead>\n",
       "    <tr style=\"text-align: right;\">\n",
       "      <th></th>\n",
       "      <th>United Kingdom</th>\n",
       "      <th>United States</th>\n",
       "      <th>France</th>\n",
       "      <th>Germany</th>\n",
       "    </tr>\n",
       "  </thead>\n",
       "  <tbody>\n",
       "    <tr>\n",
       "      <th>Road Bikes</th>\n",
       "      <td>362</td>\n",
       "      <td>696</td>\n",
       "      <td>287</td>\n",
       "      <td>308</td>\n",
       "    </tr>\n",
       "    <tr>\n",
       "      <th>Mountain Bikes</th>\n",
       "      <td>311</td>\n",
       "      <td>747</td>\n",
       "      <td>214</td>\n",
       "      <td>258</td>\n",
       "    </tr>\n",
       "    <tr>\n",
       "      <th>Touring Bikes</th>\n",
       "      <td>167</td>\n",
       "      <td>308</td>\n",
       "      <td>109</td>\n",
       "      <td>149</td>\n",
       "    </tr>\n",
       "  </tbody>\n",
       "</table>\n",
       "</div>"
      ],
      "text/plain": [
       "                United Kingdom  United States  France  Germany\n",
       "Road Bikes                 362            696     287      308\n",
       "Mountain Bikes             311            747     214      258\n",
       "Touring Bikes              167            308     109      149"
      ]
     },
     "execution_count": 159,
     "metadata": {},
     "output_type": "execute_result"
    }
   ],
   "source": [
    "country_bike"
   ]
  },
  {
   "cell_type": "code",
   "execution_count": 160,
   "id": "819b0ff8",
   "metadata": {},
   "outputs": [
    {
     "name": "stdout",
     "output_type": "stream",
     "text": [
      "\u001b[32m========== REJECT THE NULL HYPOTHESIS! ==========\u001b[0m\n",
      "\u001b[35mP-Value:\u001b[0m 0.00205403\n",
      "\u001b[35mtest stat value:\u001b[0m 20.72658695\n"
     ]
    }
   ],
   "source": [
    "# now we can use the gender_bike df in a chi-squared test\n",
    "chi2, p, dof, hypothetical = stats.chi2_contingency(country_bike)\n",
    "check_hypothesis(p, chi2)"
   ]
  },
  {
   "cell_type": "code",
   "execution_count": 161,
   "id": "611da976",
   "metadata": {},
   "outputs": [
    {
     "data": {
      "text/plain": [
       "array([[354.57609806, 739.12231869, 257.4897855 , 301.81179775],\n",
       "       [328.19203269, 684.12410623, 238.3299285 , 279.35393258],\n",
       "       [157.23186925, 327.75357508, 114.18028601, 133.83426966]])"
      ]
     },
     "execution_count": 161,
     "metadata": {},
     "output_type": "execute_result"
    }
   ],
   "source": [
    "hypothetical"
   ]
  },
  {
   "cell_type": "markdown",
   "id": "22395c3f",
   "metadata": {},
   "source": [
    "### We are able to say that there is enough evidence to suggest that the type of bike purchased is dependent upon the country of purchase."
   ]
  },
  {
   "cell_type": "code",
   "execution_count": null,
   "id": "2b413e0e",
   "metadata": {},
   "outputs": [],
   "source": []
  },
  {
   "cell_type": "code",
   "execution_count": null,
   "id": "5dba18d5",
   "metadata": {},
   "outputs": [],
   "source": []
  },
  {
   "cell_type": "markdown",
   "id": "94fe266a",
   "metadata": {},
   "source": [
    "## Question 8 - Is the proportion of transactions higher in one country relative to national population?\n",
    "- H$_0$ - The proportion of customers to national population is the same among each country\n",
    "- H$_a$ - The proportion of customers to national population differs among each country\n",
    "- α = 0.05\n",
    "\n",
    "Proprotion of customers to population is continuous, and country is categorical\n",
    "- We will be using an ANOVA test"
   ]
  },
  {
   "cell_type": "markdown",
   "id": "42d8f758",
   "metadata": {},
   "source": [
    "#### Country total populations as of 2023:\n",
    "- United Kingdom 67.62 million\n",
    "- United States 334.23 million\n",
    "- France 65.69 million\n",
    "- Germany 83.31 million"
   ]
  },
  {
   "cell_type": "code",
   "execution_count": 171,
   "id": "71f7484c",
   "metadata": {},
   "outputs": [],
   "source": [
    "pop_totals = [65_690_000, 83_310_000, 67_620_000, 334_230_000]"
   ]
  },
  {
   "cell_type": "code",
   "execution_count": 184,
   "id": "7a38d1f1",
   "metadata": {},
   "outputs": [],
   "source": [
    "purchase_prop = pd.DataFrame(train_clus.groupby('country').\n",
    "             date.count()).rename(columns={'date':'orders'})"
   ]
  },
  {
   "cell_type": "code",
   "execution_count": 189,
   "id": "43ec1c1f",
   "metadata": {},
   "outputs": [
    {
     "data": {
      "text/html": [
       "<div>\n",
       "<style scoped>\n",
       "    .dataframe tbody tr th:only-of-type {\n",
       "        vertical-align: middle;\n",
       "    }\n",
       "\n",
       "    .dataframe tbody tr th {\n",
       "        vertical-align: top;\n",
       "    }\n",
       "\n",
       "    .dataframe thead th {\n",
       "        text-align: right;\n",
       "    }\n",
       "</style>\n",
       "<table border=\"1\" class=\"dataframe\">\n",
       "  <thead>\n",
       "    <tr style=\"text-align: right;\">\n",
       "      <th></th>\n",
       "      <th>orders</th>\n",
       "    </tr>\n",
       "    <tr>\n",
       "      <th>country</th>\n",
       "      <th></th>\n",
       "    </tr>\n",
       "  </thead>\n",
       "  <tbody>\n",
       "    <tr>\n",
       "      <th>France</th>\n",
       "      <td>2817</td>\n",
       "    </tr>\n",
       "    <tr>\n",
       "      <th>Germany</th>\n",
       "      <td>2959</td>\n",
       "    </tr>\n",
       "    <tr>\n",
       "      <th>United Kingdom</th>\n",
       "      <td>3594</td>\n",
       "    </tr>\n",
       "    <tr>\n",
       "      <th>United States</th>\n",
       "      <td>10154</td>\n",
       "    </tr>\n",
       "  </tbody>\n",
       "</table>\n",
       "</div>"
      ],
      "text/plain": [
       "                orders\n",
       "country               \n",
       "France            2817\n",
       "Germany           2959\n",
       "United Kingdom    3594\n",
       "United States    10154"
      ]
     },
     "execution_count": 189,
     "metadata": {},
     "output_type": "execute_result"
    }
   ],
   "source": [
    "purchase_prop"
   ]
  },
  {
   "cell_type": "code",
   "execution_count": 177,
   "id": "5485d313",
   "metadata": {},
   "outputs": [],
   "source": [
    "purchase_prop = pd.concat([purchase_prop, pd.Series(pop_totals)], axis=1)"
   ]
  },
  {
   "cell_type": "code",
   "execution_count": 190,
   "id": "71a40519",
   "metadata": {},
   "outputs": [
    {
     "data": {
      "text/html": [
       "<div>\n",
       "<style scoped>\n",
       "    .dataframe tbody tr th:only-of-type {\n",
       "        vertical-align: middle;\n",
       "    }\n",
       "\n",
       "    .dataframe tbody tr th {\n",
       "        vertical-align: top;\n",
       "    }\n",
       "\n",
       "    .dataframe thead th {\n",
       "        text-align: right;\n",
       "    }\n",
       "</style>\n",
       "<table border=\"1\" class=\"dataframe\">\n",
       "  <thead>\n",
       "    <tr style=\"text-align: right;\">\n",
       "      <th></th>\n",
       "      <th>orders</th>\n",
       "    </tr>\n",
       "    <tr>\n",
       "      <th>country</th>\n",
       "      <th></th>\n",
       "    </tr>\n",
       "  </thead>\n",
       "  <tbody>\n",
       "    <tr>\n",
       "      <th>France</th>\n",
       "      <td>2817</td>\n",
       "    </tr>\n",
       "    <tr>\n",
       "      <th>Germany</th>\n",
       "      <td>2959</td>\n",
       "    </tr>\n",
       "    <tr>\n",
       "      <th>United Kingdom</th>\n",
       "      <td>3594</td>\n",
       "    </tr>\n",
       "    <tr>\n",
       "      <th>United States</th>\n",
       "      <td>10154</td>\n",
       "    </tr>\n",
       "  </tbody>\n",
       "</table>\n",
       "</div>"
      ],
      "text/plain": [
       "                orders\n",
       "country               \n",
       "France            2817\n",
       "Germany           2959\n",
       "United Kingdom    3594\n",
       "United States    10154"
      ]
     },
     "execution_count": 190,
     "metadata": {},
     "output_type": "execute_result"
    }
   ],
   "source": [
    "purchase_prop"
   ]
  },
  {
   "cell_type": "code",
   "execution_count": null,
   "id": "392585d4",
   "metadata": {},
   "outputs": [],
   "source": []
  }
 ],
 "metadata": {
  "kernelspec": {
   "display_name": "Python 3 (ipykernel)",
   "language": "python",
   "name": "python3"
  },
  "language_info": {
   "codemirror_mode": {
    "name": "ipython",
    "version": 3
   },
   "file_extension": ".py",
   "mimetype": "text/x-python",
   "name": "python",
   "nbconvert_exporter": "python",
   "pygments_lexer": "ipython3",
   "version": "3.9.13"
  }
 },
 "nbformat": 4,
 "nbformat_minor": 5
}
