{
 "cells": [
  {
   "cell_type": "code",
   "execution_count": 2,
   "id": "cb6b1cab",
   "metadata": {},
   "outputs": [],
   "source": [
    "import numpy as np\n",
    "import pandas as pd\n",
    "import wrangle_products as w\n",
    "import re\n",
    "import nltk"
   ]
  },
  {
   "cell_type": "code",
   "execution_count": 3,
   "id": "a39f2e9a",
   "metadata": {},
   "outputs": [
    {
     "name": "stdout",
     "output_type": "stream",
     "text": [
      "Opening local amazon_cycling.csv file\n"
     ]
    }
   ],
   "source": [
    "products = w.wrangle_products()"
   ]
  },
  {
   "cell_type": "code",
   "execution_count": 4,
   "id": "3b48f44d",
   "metadata": {},
   "outputs": [
    {
     "data": {
      "text/html": [
       "<div>\n",
       "<style scoped>\n",
       "    .dataframe tbody tr th:only-of-type {\n",
       "        vertical-align: middle;\n",
       "    }\n",
       "\n",
       "    .dataframe tbody tr th {\n",
       "        vertical-align: top;\n",
       "    }\n",
       "\n",
       "    .dataframe thead th {\n",
       "        text-align: right;\n",
       "    }\n",
       "</style>\n",
       "<table border=\"1\" class=\"dataframe\">\n",
       "  <thead>\n",
       "    <tr style=\"text-align: right;\">\n",
       "      <th></th>\n",
       "      <th>name</th>\n",
       "      <th>amazon_main_cat</th>\n",
       "      <th>amazon_sub_cat</th>\n",
       "      <th>image</th>\n",
       "      <th>link</th>\n",
       "      <th>ratings</th>\n",
       "      <th>no_of_ratings</th>\n",
       "      <th>discount_price</th>\n",
       "      <th>actual_price</th>\n",
       "      <th>name_preped</th>\n",
       "      <th>discount_amount</th>\n",
       "      <th>prod_rating</th>\n",
       "    </tr>\n",
       "  </thead>\n",
       "  <tbody>\n",
       "    <tr>\n",
       "      <th>0</th>\n",
       "      <td>QUXIS Portable High Pressure Foot Air Pump Hea...</td>\n",
       "      <td>sports &amp; fitness</td>\n",
       "      <td>Cycling</td>\n",
       "      <td>https://m.media-amazon.com/images/W/IMAGERENDE...</td>\n",
       "      <td>https://www.amazon.in/QUXIS-Portable-Activated...</td>\n",
       "      <td>4.0</td>\n",
       "      <td>7635</td>\n",
       "      <td>5.99</td>\n",
       "      <td>15.59</td>\n",
       "      <td>quxis portable high pressure foot air pump hea...</td>\n",
       "      <td>9.6</td>\n",
       "      <td>30540.0</td>\n",
       "    </tr>\n",
       "    <tr>\n",
       "      <th>1</th>\n",
       "      <td>Boldfit Gym Shaker for Protein Shake Leakproof...</td>\n",
       "      <td>sports &amp; fitness</td>\n",
       "      <td>Cycling</td>\n",
       "      <td>https://m.media-amazon.com/images/W/IMAGERENDE...</td>\n",
       "      <td>https://www.amazon.in/Boldfit-Typhoon-Shaker-L...</td>\n",
       "      <td>4.1</td>\n",
       "      <td>8052</td>\n",
       "      <td>2.75</td>\n",
       "      <td>2.75</td>\n",
       "      <td>boldfit gym shaker protein shake leakproof sha...</td>\n",
       "      <td>0.0</td>\n",
       "      <td>33013.2</td>\n",
       "    </tr>\n",
       "  </tbody>\n",
       "</table>\n",
       "</div>"
      ],
      "text/plain": [
       "                                                name   amazon_main_cat  \\\n",
       "0  QUXIS Portable High Pressure Foot Air Pump Hea...  sports & fitness   \n",
       "1  Boldfit Gym Shaker for Protein Shake Leakproof...  sports & fitness   \n",
       "\n",
       "  amazon_sub_cat                                              image  \\\n",
       "0        Cycling  https://m.media-amazon.com/images/W/IMAGERENDE...   \n",
       "1        Cycling  https://m.media-amazon.com/images/W/IMAGERENDE...   \n",
       "\n",
       "                                                link  ratings  no_of_ratings  \\\n",
       "0  https://www.amazon.in/QUXIS-Portable-Activated...      4.0           7635   \n",
       "1  https://www.amazon.in/Boldfit-Typhoon-Shaker-L...      4.1           8052   \n",
       "\n",
       "   discount_price  actual_price  \\\n",
       "0            5.99         15.59   \n",
       "1            2.75          2.75   \n",
       "\n",
       "                                         name_preped  discount_amount  \\\n",
       "0  quxis portable high pressure foot air pump hea...              9.6   \n",
       "1  boldfit gym shaker protein shake leakproof sha...              0.0   \n",
       "\n",
       "   prod_rating  \n",
       "0      30540.0  \n",
       "1      33013.2  "
      ]
     },
     "execution_count": 4,
     "metadata": {},
     "output_type": "execute_result"
    }
   ],
   "source": [
    "products.head(2)"
   ]
  },
  {
   "cell_type": "code",
   "execution_count": null,
   "id": "5ed87bc3",
   "metadata": {},
   "outputs": [],
   "source": []
  },
  {
   "cell_type": "code",
   "execution_count": 5,
   "id": "f305e5da",
   "metadata": {},
   "outputs": [],
   "source": [
    "sub_cat_list = ['Tires and Tubes', 'Gloves', 'Helmets', 'Bike Stands',\n",
    "       'Mountain Bikes', 'Hydration Packs', 'Jerseys', 'Fenders',\n",
    "       'Cleaners', 'Socks', 'Caps', 'Touring Bikes', 'Bottles and Cages',\n",
    "       'Vests', 'Road Bikes', 'Bike Racks', 'Shorts']"
   ]
  },
  {
   "cell_type": "code",
   "execution_count": 6,
   "id": "f778e494",
   "metadata": {},
   "outputs": [],
   "source": [
    "cat_list = w.get_cat_list(sub_cat_list, extra_words=['bike', 'bikes'])"
   ]
  },
  {
   "cell_type": "markdown",
   "id": "4e83e70d",
   "metadata": {},
   "source": [
    "### To find the product categories: we will loop through the product list, then on each product, we can loop through the cat_list, and check for matches using regex. If we find a match, we will return the product row index number, and category number based on position in the cat_list. We should also account for products having no matches or many category matches"
   ]
  },
  {
   "cell_type": "markdown",
   "id": "e6bdfb96",
   "metadata": {},
   "source": [
    "#### lets start by figuring out the regex match formula for one cat and one row"
   ]
  },
  {
   "cell_type": "markdown",
   "id": "fb5bf4d0",
   "metadata": {},
   "source": [
    "#### regexp = r'.*{cat}.*'\n",
    "regex doesn't seem to be able to handle dynamic f string style commands so lets build a table with the original category name, the lemmatized version. along with the regexp to find the lemmatized cat name"
   ]
  },
  {
   "cell_type": "code",
   "execution_count": 7,
   "id": "2076548b",
   "metadata": {},
   "outputs": [],
   "source": [
    "cat_df = pd.concat([\n",
    "    pd.Series(sub_cat_list), \n",
    "    pd.Series(cat_list)\n",
    "    ], axis=1).\\\n",
    "    rename(columns={0:'shop_cat', 1:'lemmed_cat'})"
   ]
  },
  {
   "cell_type": "code",
   "execution_count": 8,
   "id": "eec7e554",
   "metadata": {},
   "outputs": [
    {
     "data": {
      "text/html": [
       "<div>\n",
       "<style scoped>\n",
       "    .dataframe tbody tr th:only-of-type {\n",
       "        vertical-align: middle;\n",
       "    }\n",
       "\n",
       "    .dataframe tbody tr th {\n",
       "        vertical-align: top;\n",
       "    }\n",
       "\n",
       "    .dataframe thead th {\n",
       "        text-align: right;\n",
       "    }\n",
       "</style>\n",
       "<table border=\"1\" class=\"dataframe\">\n",
       "  <thead>\n",
       "    <tr style=\"text-align: right;\">\n",
       "      <th></th>\n",
       "      <th>shop_cat</th>\n",
       "      <th>lemmed_cat</th>\n",
       "    </tr>\n",
       "  </thead>\n",
       "  <tbody>\n",
       "    <tr>\n",
       "      <th>0</th>\n",
       "      <td>Tires and Tubes</td>\n",
       "      <td>tire tube</td>\n",
       "    </tr>\n",
       "    <tr>\n",
       "      <th>1</th>\n",
       "      <td>Gloves</td>\n",
       "      <td>glove</td>\n",
       "    </tr>\n",
       "    <tr>\n",
       "      <th>2</th>\n",
       "      <td>Helmets</td>\n",
       "      <td>helmet</td>\n",
       "    </tr>\n",
       "    <tr>\n",
       "      <th>3</th>\n",
       "      <td>Bike Stands</td>\n",
       "      <td>stand</td>\n",
       "    </tr>\n",
       "    <tr>\n",
       "      <th>4</th>\n",
       "      <td>Mountain Bikes</td>\n",
       "      <td>mountain</td>\n",
       "    </tr>\n",
       "    <tr>\n",
       "      <th>5</th>\n",
       "      <td>Hydration Packs</td>\n",
       "      <td>hydration pack</td>\n",
       "    </tr>\n",
       "    <tr>\n",
       "      <th>6</th>\n",
       "      <td>Jerseys</td>\n",
       "      <td>jersey</td>\n",
       "    </tr>\n",
       "    <tr>\n",
       "      <th>7</th>\n",
       "      <td>Fenders</td>\n",
       "      <td>fender</td>\n",
       "    </tr>\n",
       "    <tr>\n",
       "      <th>8</th>\n",
       "      <td>Cleaners</td>\n",
       "      <td>cleaner</td>\n",
       "    </tr>\n",
       "    <tr>\n",
       "      <th>9</th>\n",
       "      <td>Socks</td>\n",
       "      <td>sock</td>\n",
       "    </tr>\n",
       "    <tr>\n",
       "      <th>10</th>\n",
       "      <td>Caps</td>\n",
       "      <td>cap</td>\n",
       "    </tr>\n",
       "    <tr>\n",
       "      <th>11</th>\n",
       "      <td>Touring Bikes</td>\n",
       "      <td>touring</td>\n",
       "    </tr>\n",
       "    <tr>\n",
       "      <th>12</th>\n",
       "      <td>Bottles and Cages</td>\n",
       "      <td>bottle cage</td>\n",
       "    </tr>\n",
       "    <tr>\n",
       "      <th>13</th>\n",
       "      <td>Vests</td>\n",
       "      <td>vest</td>\n",
       "    </tr>\n",
       "    <tr>\n",
       "      <th>14</th>\n",
       "      <td>Road Bikes</td>\n",
       "      <td>road</td>\n",
       "    </tr>\n",
       "    <tr>\n",
       "      <th>15</th>\n",
       "      <td>Bike Racks</td>\n",
       "      <td>rack</td>\n",
       "    </tr>\n",
       "    <tr>\n",
       "      <th>16</th>\n",
       "      <td>Shorts</td>\n",
       "      <td>short</td>\n",
       "    </tr>\n",
       "  </tbody>\n",
       "</table>\n",
       "</div>"
      ],
      "text/plain": [
       "             shop_cat      lemmed_cat\n",
       "0     Tires and Tubes       tire tube\n",
       "1              Gloves           glove\n",
       "2             Helmets          helmet\n",
       "3         Bike Stands           stand\n",
       "4      Mountain Bikes        mountain\n",
       "5     Hydration Packs  hydration pack\n",
       "6             Jerseys          jersey\n",
       "7             Fenders          fender\n",
       "8            Cleaners         cleaner\n",
       "9               Socks            sock\n",
       "10               Caps             cap\n",
       "11      Touring Bikes         touring\n",
       "12  Bottles and Cages     bottle cage\n",
       "13              Vests            vest\n",
       "14         Road Bikes            road\n",
       "15         Bike Racks            rack\n",
       "16             Shorts           short"
      ]
     },
     "execution_count": 8,
     "metadata": {},
     "output_type": "execute_result"
    }
   ],
   "source": [
    "cat_df"
   ]
  },
  {
   "cell_type": "code",
   "execution_count": 9,
   "id": "97d8654a",
   "metadata": {},
   "outputs": [],
   "source": [
    "regexp = r'.*tire.*|.*tube.*'"
   ]
  },
  {
   "cell_type": "code",
   "execution_count": 10,
   "id": "d68ce59e",
   "metadata": {},
   "outputs": [],
   "source": [
    "regexp = r'.*horn.*|.*portable.*'"
   ]
  },
  {
   "cell_type": "code",
   "execution_count": 11,
   "id": "5a32f5fb",
   "metadata": {},
   "outputs": [
    {
     "data": {
      "text/plain": [
       "<re.Match object; span=(0, 108), match='quxis portable high pressure foot air pump heavy >"
      ]
     },
     "execution_count": 11,
     "metadata": {},
     "output_type": "execute_result"
    }
   ],
   "source": [
    "re.search(regexp, products.name_preped[0])"
   ]
  },
  {
   "cell_type": "markdown",
   "id": "95cc6a43",
   "metadata": {},
   "source": [
    "### Lets make a list of regular expressions for each category"
   ]
  },
  {
   "cell_type": "code",
   "execution_count": 17,
   "id": "dd63d38e",
   "metadata": {},
   "outputs": [],
   "source": [
    "regex_list = [\"r'.*tire.*|.*tube.*'\",\n",
    "              \"r'.*glove.*'\",\n",
    "              \"r'.*helmet.*'\",\n",
    "              \"r'.*stand.*'\",\n",
    "              \"r'.*mountain.*'\",\n",
    "              \"r'.*hydration.*|.*pack.*'\",\n",
    "              \"r'.*jersey.*'\",\n",
    "              \"r'.*fender.*'\",\n",
    "              \"r'.*cleaner.*'\",\n",
    "              \"r'.*sock.*'\",\n",
    "              \"r'.*cap.*'\",\n",
    "              \"r'.*touring.*'\",\n",
    "              \"r'.*bottle.*|.*cage.*'\",\n",
    "              \"r'.*vest.*'\",\n",
    "              \"r'.*road.*'\",\n",
    "              \"r'.*rack.*'\",\n",
    "              \"r'.*short.*'\"]"
   ]
  },
  {
   "cell_type": "code",
   "execution_count": 22,
   "id": "6b05c866",
   "metadata": {},
   "outputs": [],
   "source": [
    "cat_df = pd.concat([cat_df, pd.Series(regex_list)], axis=1).rename(columns={0:'regexp'})"
   ]
  },
  {
   "cell_type": "code",
   "execution_count": 23,
   "id": "b45002d6",
   "metadata": {},
   "outputs": [
    {
     "data": {
      "text/html": [
       "<div>\n",
       "<style scoped>\n",
       "    .dataframe tbody tr th:only-of-type {\n",
       "        vertical-align: middle;\n",
       "    }\n",
       "\n",
       "    .dataframe tbody tr th {\n",
       "        vertical-align: top;\n",
       "    }\n",
       "\n",
       "    .dataframe thead th {\n",
       "        text-align: right;\n",
       "    }\n",
       "</style>\n",
       "<table border=\"1\" class=\"dataframe\">\n",
       "  <thead>\n",
       "    <tr style=\"text-align: right;\">\n",
       "      <th></th>\n",
       "      <th>shop_cat</th>\n",
       "      <th>lemmed_cat</th>\n",
       "      <th>regexp</th>\n",
       "    </tr>\n",
       "  </thead>\n",
       "  <tbody>\n",
       "    <tr>\n",
       "      <th>0</th>\n",
       "      <td>Tires and Tubes</td>\n",
       "      <td>tire tube</td>\n",
       "      <td>r'.*tire.*|.*tube.*'</td>\n",
       "    </tr>\n",
       "    <tr>\n",
       "      <th>1</th>\n",
       "      <td>Gloves</td>\n",
       "      <td>glove</td>\n",
       "      <td>r'.*glove.*'</td>\n",
       "    </tr>\n",
       "    <tr>\n",
       "      <th>2</th>\n",
       "      <td>Helmets</td>\n",
       "      <td>helmet</td>\n",
       "      <td>r'.*helmet.*'</td>\n",
       "    </tr>\n",
       "    <tr>\n",
       "      <th>3</th>\n",
       "      <td>Bike Stands</td>\n",
       "      <td>stand</td>\n",
       "      <td>r'.*stand.*'</td>\n",
       "    </tr>\n",
       "    <tr>\n",
       "      <th>4</th>\n",
       "      <td>Mountain Bikes</td>\n",
       "      <td>mountain</td>\n",
       "      <td>r'.*mountain.*'</td>\n",
       "    </tr>\n",
       "    <tr>\n",
       "      <th>5</th>\n",
       "      <td>Hydration Packs</td>\n",
       "      <td>hydration pack</td>\n",
       "      <td>r'.*hydration.*|.*pack.*'</td>\n",
       "    </tr>\n",
       "    <tr>\n",
       "      <th>6</th>\n",
       "      <td>Jerseys</td>\n",
       "      <td>jersey</td>\n",
       "      <td>r'.*jersey.*'</td>\n",
       "    </tr>\n",
       "    <tr>\n",
       "      <th>7</th>\n",
       "      <td>Fenders</td>\n",
       "      <td>fender</td>\n",
       "      <td>r'.*fender.*'</td>\n",
       "    </tr>\n",
       "    <tr>\n",
       "      <th>8</th>\n",
       "      <td>Cleaners</td>\n",
       "      <td>cleaner</td>\n",
       "      <td>r'.*cleaner.*'</td>\n",
       "    </tr>\n",
       "    <tr>\n",
       "      <th>9</th>\n",
       "      <td>Socks</td>\n",
       "      <td>sock</td>\n",
       "      <td>r'.*sock.*'</td>\n",
       "    </tr>\n",
       "    <tr>\n",
       "      <th>10</th>\n",
       "      <td>Caps</td>\n",
       "      <td>cap</td>\n",
       "      <td>r'.*cap.*'</td>\n",
       "    </tr>\n",
       "    <tr>\n",
       "      <th>11</th>\n",
       "      <td>Touring Bikes</td>\n",
       "      <td>touring</td>\n",
       "      <td>r'.*touring.*'</td>\n",
       "    </tr>\n",
       "    <tr>\n",
       "      <th>12</th>\n",
       "      <td>Bottles and Cages</td>\n",
       "      <td>bottle cage</td>\n",
       "      <td>r'.*bottle.*|.*cage.*'</td>\n",
       "    </tr>\n",
       "    <tr>\n",
       "      <th>13</th>\n",
       "      <td>Vests</td>\n",
       "      <td>vest</td>\n",
       "      <td>r'.*vest.*'</td>\n",
       "    </tr>\n",
       "    <tr>\n",
       "      <th>14</th>\n",
       "      <td>Road Bikes</td>\n",
       "      <td>road</td>\n",
       "      <td>r'.*road.*'</td>\n",
       "    </tr>\n",
       "    <tr>\n",
       "      <th>15</th>\n",
       "      <td>Bike Racks</td>\n",
       "      <td>rack</td>\n",
       "      <td>r'.*rack.*'</td>\n",
       "    </tr>\n",
       "    <tr>\n",
       "      <th>16</th>\n",
       "      <td>Shorts</td>\n",
       "      <td>short</td>\n",
       "      <td>r'.*short.*'</td>\n",
       "    </tr>\n",
       "  </tbody>\n",
       "</table>\n",
       "</div>"
      ],
      "text/plain": [
       "             shop_cat      lemmed_cat                     regexp\n",
       "0     Tires and Tubes       tire tube       r'.*tire.*|.*tube.*'\n",
       "1              Gloves           glove               r'.*glove.*'\n",
       "2             Helmets          helmet              r'.*helmet.*'\n",
       "3         Bike Stands           stand               r'.*stand.*'\n",
       "4      Mountain Bikes        mountain            r'.*mountain.*'\n",
       "5     Hydration Packs  hydration pack  r'.*hydration.*|.*pack.*'\n",
       "6             Jerseys          jersey              r'.*jersey.*'\n",
       "7             Fenders          fender              r'.*fender.*'\n",
       "8            Cleaners         cleaner             r'.*cleaner.*'\n",
       "9               Socks            sock                r'.*sock.*'\n",
       "10               Caps             cap                 r'.*cap.*'\n",
       "11      Touring Bikes         touring             r'.*touring.*'\n",
       "12  Bottles and Cages     bottle cage     r'.*bottle.*|.*cage.*'\n",
       "13              Vests            vest                r'.*vest.*'\n",
       "14         Road Bikes            road                r'.*road.*'\n",
       "15         Bike Racks            rack                r'.*rack.*'\n",
       "16             Shorts           short               r'.*short.*'"
      ]
     },
     "execution_count": 23,
     "metadata": {},
     "output_type": "execute_result"
    }
   ],
   "source": [
    "cat_df"
   ]
  },
  {
   "cell_type": "markdown",
   "id": "c297b3b9",
   "metadata": {},
   "source": [
    "### Time to loop. We will loop through the products.name_preped, and on each product, loop through cat_df.regexp to find matches. We will then create a list of products for each category. So we will want the product row# along with the category# for any matches."
   ]
  },
  {
   "cell_type": "code",
   "execution_count": 34,
   "id": "d0502494",
   "metadata": {},
   "outputs": [
    {
     "name": "stdout",
     "output_type": "stream",
     "text": [
      "0\n",
      "pursue fashion premium cotton ankle sock men woman free size solid unisex ankle length sock pack 5 multi\n",
      "0\n",
      "r'.*tire.*|.*tube.*'\n",
      "1\n",
      "r'.*glove.*'\n",
      "2\n",
      "r'.*helmet.*'\n",
      "3\n",
      "r'.*stand.*'\n",
      "4\n",
      "r'.*mountain.*'\n",
      "5\n",
      "r'.*hydration.*|.*pack.*'\n",
      "6\n",
      "r'.*jersey.*'\n",
      "7\n",
      "r'.*fender.*'\n",
      "8\n",
      "r'.*cleaner.*'\n",
      "9\n",
      "r'.*sock.*'\n",
      "10\n",
      "r'.*cap.*'\n",
      "11\n",
      "r'.*touring.*'\n",
      "12\n",
      "r'.*bottle.*|.*cage.*'\n",
      "13\n",
      "r'.*vest.*'\n",
      "14\n",
      "r'.*road.*'\n",
      "15\n",
      "r'.*rack.*'\n",
      "16\n",
      "r'.*short.*'\n"
     ]
    }
   ],
   "source": [
    "for i, product in enumerate(products.name_preped[7:8]):\n",
    "    print(i)\n",
    "    print(product)\n",
    "    for j, cat in enumerate(cat_df.regexp):\n",
    "        print(j)\n",
    "        print(cat)\n",
    "        if re.search(cat, product):\n",
    "            print('yes')"
   ]
  },
  {
   "cell_type": "code",
   "execution_count": null,
   "id": "c76d26e4",
   "metadata": {},
   "outputs": [],
   "source": []
  }
 ],
 "metadata": {
  "kernelspec": {
   "display_name": "Python 3 (ipykernel)",
   "language": "python",
   "name": "python3"
  },
  "language_info": {
   "codemirror_mode": {
    "name": "ipython",
    "version": 3
   },
   "file_extension": ".py",
   "mimetype": "text/x-python",
   "name": "python",
   "nbconvert_exporter": "python",
   "pygments_lexer": "ipython3",
   "version": "3.9.13"
  }
 },
 "nbformat": 4,
 "nbformat_minor": 5
}
